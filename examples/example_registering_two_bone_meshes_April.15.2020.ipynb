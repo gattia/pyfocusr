{
 "cells": [
  {
   "cell_type": "code",
   "execution_count": 1,
   "metadata": {},
   "outputs": [],
   "source": [
    "import os\n",
    "\n",
    "import numpy as np\n",
    "import vtk\n",
    "from vtk.util.numpy_support import numpy_to_vtk, vtk_to_numpy\n",
    "\n",
    "import pyfocusr\n",
    "from pyfocusr.vtk_functions import read_vtk_mesh"
   ]
  },
  {
   "cell_type": "code",
   "execution_count": 2,
   "metadata": {},
   "outputs": [],
   "source": [
    "location_meshes = '../data/'\n",
    "target_filename = 'target_mesh.vtk'\n",
    "source_filename = 'source_mesh.vtk'\n",
    "\n",
    "target_vtk_mesh = read_vtk_mesh(os.path.join(location_meshes, target_filename))\n",
    "source_vtk_mesh = read_vtk_mesh(os.path.join(location_meshes, source_filename))"
   ]
  },
  {
   "cell_type": "code",
   "execution_count": null,
   "metadata": {},
   "outputs": [],
   "source": []
  },
  {
   "cell_type": "code",
   "execution_count": 3,
   "metadata": {},
   "outputs": [],
   "source": [
    "reg = pyfocusr.Focusr(vtk_mesh_target=target_vtk_mesh, \n",
    "                      vtk_mesh_source=source_vtk_mesh,\n",
    "                      n_extra_spectral=3,\n",
    "                      get_weighted_spectral_coords=False,\n",
    "                      list_features_to_calc=['curvature'],\n",
    "                      rigid_reg_max_iterations=100,\n",
    "                      non_rigid_alpha=0.1,\n",
    "                      non_rigid_beta=2.5,\n",
    "                      non_rigid_max_iterations=200,\n",
    "                      rigid_before_non_rigid_reg=False)"
   ]
  },
  {
   "cell_type": "markdown",
   "metadata": {},
   "source": [
    "### View mesh features"
   ]
  },
  {
   "cell_type": "code",
   "execution_count": 4,
   "metadata": {},
   "outputs": [
    {
     "data": {
      "text/plain": [
       "1.0"
      ]
     },
     "execution_count": 4,
     "metadata": {},
     "output_type": "execute_result"
    }
   ],
   "source": [
    "np.max(reg.graph_source.feature_weights[0])"
   ]
  },
  {
   "cell_type": "code",
   "execution_count": 5,
   "metadata": {
    "scrolled": true
   },
   "outputs": [
    {
     "data": {
      "application/vnd.jupyter.widget-view+json": {
       "model_id": "28915d20880440afb3da69c6e618f987",
       "version_major": 2,
       "version_minor": 0
      },
      "text/plain": [
       "Viewer(geometries=[{'vtkClass': 'vtkPolyData', 'points': {'vtkClass': 'vtkPoints', 'name': '_points', 'numberO…"
      ]
     },
     "metadata": {},
     "output_type": "display_data"
    }
   ],
   "source": [
    "reg.graph_source.view_mesh_features(feature_idx=1)"
   ]
  },
  {
   "cell_type": "code",
   "execution_count": 6,
   "metadata": {},
   "outputs": [
    {
     "data": {
      "text/plain": [
       "array([0.00075626, 0.00101274, 0.00139415, 0.0023161 , 0.00301983,\n",
       "       0.00361393])"
      ]
     },
     "execution_count": 6,
     "metadata": {},
     "output_type": "execute_result"
    }
   ],
   "source": [
    "reg.graph_source.eig_vals"
   ]
  },
  {
   "cell_type": "markdown",
   "metadata": {},
   "source": [
    "### View un-ordered/corrected/weighted eigenvectors (spectral coordinates)"
   ]
  },
  {
   "cell_type": "markdown",
   "metadata": {},
   "source": [
    "#### Source Eigenvector 1"
   ]
  },
  {
   "cell_type": "code",
   "execution_count": 7,
   "metadata": {},
   "outputs": [],
   "source": [
    "eig_vec = 0"
   ]
  },
  {
   "cell_type": "code",
   "execution_count": 8,
   "metadata": {
    "scrolled": true
   },
   "outputs": [
    {
     "data": {
      "application/vnd.jupyter.widget-view+json": {
       "model_id": "30f3eeb28feb41e080109f9fae495da8",
       "version_major": 2,
       "version_minor": 0
      },
      "text/plain": [
       "Viewer(geometries=[{'vtkClass': 'vtkPolyData', 'points': {'vtkClass': 'vtkPoints', 'name': '_points', 'numberO…"
      ]
     },
     "metadata": {},
     "output_type": "display_data"
    }
   ],
   "source": [
    "reg.graph_source.view_mesh_eig_vec(eig_vec=eig_vec)"
   ]
  },
  {
   "cell_type": "markdown",
   "metadata": {},
   "source": [
    "#### Target Eigenvector 1"
   ]
  },
  {
   "cell_type": "code",
   "execution_count": 9,
   "metadata": {
    "scrolled": true
   },
   "outputs": [
    {
     "data": {
      "application/vnd.jupyter.widget-view+json": {
       "model_id": "a564924f4f0e40a5bdf7f19167280c64",
       "version_major": 2,
       "version_minor": 0
      },
      "text/plain": [
       "Viewer(geometries=[{'vtkClass': 'vtkPolyData', 'points': {'vtkClass': 'vtkPoints', 'name': '_points', 'numberO…"
      ]
     },
     "metadata": {},
     "output_type": "display_data"
    }
   ],
   "source": [
    "reg.graph_target.view_mesh_eig_vec(eig_vec=eig_vec)"
   ]
  },
  {
   "cell_type": "markdown",
   "metadata": {},
   "source": [
    "# Notes about comparison: \n",
    "Depending on if we include features ('curvature') or not, we will get different results for these meshes. \n",
    "\n",
    "If we leave the list at `list_features_to_calc` as an empty list `[]` then: <br>\n",
    "We note that the color gradient is the same (in the same direction) between the two meshes. However, the colours are flipped. This is because the direction of \"positive\" can be flipped from one mesh to another. This will (should) be corrected automatically before the registration begins. \n",
    "\n",
    "If we include `'curvature'` in `list_features_to_calc` with `['curvature']` then: <br>\n",
    "We get eigenvectors that align in direction and orientation (at least for the first 3 (0, 1, 2). \n",
    "\n",
    "Note, the flipped nature of the spectral coordinates can/will be corrected in the algorithm (if it exists). However, this only works because these are both of the same leg (right - as evident by the large side of the trochlear groove) and will likely faily/break if a left and right leg were analyzed. Therefore, all legs should be flipped to be the same side to \"fix\" things. "
   ]
  },
  {
   "cell_type": "markdown",
   "metadata": {},
   "source": [
    "## Begin Registration\n",
    "This will print out the registration parameters/results as it goes. <br>\n",
    "- First it will print out the \"pairs\" of eigenvectors between the two meshes and which ones on the source were flipped to match the target eigenvectors. \n",
    "- Second it will print the rigid registration progress and ultimately the registration \"results\"/\"parameters\"\n",
    "- Third it will print the same for the non-rigid registration progress. \n"
   ]
  },
  {
   "cell_type": "code",
   "execution_count": 10,
   "metadata": {},
   "outputs": [
    {
     "name": "stdout",
     "output_type": "stream",
     "text": [
      "========================================================================\n",
      "Eigenvector Sorting Results\n",
      "\n",
      "The matches for eigenvectors were as follows:\n",
      "Target\t|  Source\n",
      "     0\t|  -0    \n",
      "     1\t|  -1    \n",
      "     2\t|  2     \n",
      "     3\t|  -3    \n",
      "     4\t|  4     \n",
      "     5\t|  -5    \n",
      "*Negative source values means those eigenvectors were flipped*\n",
      "\n",
      "Appending Extra Features to Spectral Coords\n",
      "Number of features (including spectral) used for registartion: 5\n",
      "========================================================================\n",
      "\n",
      "Non-Rigid (Deformable) Registration Beginning\n",
      "\n",
      "========================================================================\n",
      "Iteration:1\n",
      "ML:-61527.008; \tML change (error): 61527.008; \tSigma^2:     0.034; \tSigma^2 change:     0.078\n",
      "[                                                                        ]\n",
      "Iteration:2\n",
      "ML:-70789.897; \tML change (error):  9262.889; \tSigma^2:     0.021; \tSigma^2 change:     0.014\n",
      "[                                                                        ]\n",
      "Iteration:3\n",
      "ML:-74094.858; \tML change (error):  3304.961; \tSigma^2:     0.013; \tSigma^2 change:     0.008\n",
      "[=                                                                       ]\n",
      "Iteration:4\n",
      "ML:-76646.825; \tML change (error):  2551.967; \tSigma^2:     0.009; \tSigma^2 change:     0.004\n",
      "[=                                                                       ]\n",
      "Iteration:5\n",
      "ML:-78591.964; \tML change (error):  1945.139; \tSigma^2:     0.006; \tSigma^2 change:     0.003\n",
      "[=                                                                       ]\n",
      "Iteration:6\n",
      "ML:-80673.330; \tML change (error):  2081.366; \tSigma^2:     0.004; \tSigma^2 change:     0.002\n",
      "[==                                                                      ]\n",
      "Iteration:7\n",
      "ML:-82887.527; \tML change (error):  2214.197; \tSigma^2:     0.003; \tSigma^2 change:     0.001\n",
      "[==                                                                      ]\n",
      "Iteration:8\n",
      "ML:-85049.669; \tML change (error):  2162.142; \tSigma^2:     0.002; \tSigma^2 change:     0.001\n",
      "[==                                                                      ]\n",
      "Iteration:9\n",
      "ML:-86721.758; \tML change (error):  1672.089; \tSigma^2:     0.001; \tSigma^2 change:     0.000\n",
      "[===                                                                     ]\n",
      "Iteration:10\n",
      "ML:-87874.363; \tML change (error):  1152.605; \tSigma^2:     0.001; \tSigma^2 change:     0.000\n",
      "[===                                                                     ]\n",
      "Iteration:11\n",
      "ML:-88630.931; \tML change (error):   756.568; \tSigma^2:     0.001; \tSigma^2 change:     0.000\n",
      "[===                                                                     ]\n",
      "Iteration:12\n",
      "ML:-89098.663; \tML change (error):   467.732; \tSigma^2:     0.001; \tSigma^2 change:     0.000\n",
      "[====                                                                    ]\n",
      "Iteration:13\n",
      "ML:-89387.769; \tML change (error):   289.106; \tSigma^2:     0.001; \tSigma^2 change:     0.000\n",
      "[====                                                                    ]\n",
      "Iteration:14\n",
      "ML:-89575.343; \tML change (error):   187.574; \tSigma^2:     0.001; \tSigma^2 change:     0.000\n",
      "[=====                                                                   ]\n",
      "Iteration:15\n",
      "ML:-89709.406; \tML change (error):   134.063; \tSigma^2:     0.001; \tSigma^2 change:     0.000\n",
      "[=====                                                                   ]\n",
      "Iteration:16\n",
      "ML:-89815.509; \tML change (error):   106.103; \tSigma^2:     0.001; \tSigma^2 change:     0.000\n",
      "[=====                                                                   ]\n",
      "Iteration:17\n",
      "ML:-89902.295; \tML change (error):    86.786; \tSigma^2:     0.001; \tSigma^2 change:     0.000\n",
      "[======                                                                  ]\n",
      "Iteration:18\n",
      "ML:-89978.127; \tML change (error):    75.832; \tSigma^2:     0.001; \tSigma^2 change:     0.000\n",
      "[======                                                                  ]\n",
      "Iteration:19\n",
      "ML:-90045.467; \tML change (error):    67.340; \tSigma^2:     0.001; \tSigma^2 change:     0.000\n",
      "[======                                                                  ]\n",
      "Iteration:20\n",
      "ML:-90106.480; \tML change (error):    61.013; \tSigma^2:     0.001; \tSigma^2 change:     0.000\n",
      "[=======                                                                 ]\n",
      "Iteration:21\n",
      "ML:-90164.411; \tML change (error):    57.931; \tSigma^2:     0.001; \tSigma^2 change:     0.000\n",
      "[=======                                                                 ]\n",
      "Iteration:22\n",
      "ML:-90230.208; \tML change (error):    65.797; \tSigma^2:     0.001; \tSigma^2 change:     0.000\n",
      "[=======                                                                 ]\n",
      "Iteration:23\n",
      "ML:-90284.870; \tML change (error):    54.663; \tSigma^2:     0.001; \tSigma^2 change:     0.000\n",
      "[========                                                                ]\n",
      "Iteration:24\n",
      "ML:-90329.218; \tML change (error):    44.348; \tSigma^2:     0.001; \tSigma^2 change:     0.000\n",
      "[========                                                                ]\n",
      "Iteration:25\n",
      "ML:-90369.804; \tML change (error):    40.586; \tSigma^2:     0.001; \tSigma^2 change:     0.000\n",
      "[=========                                                               ]\n",
      "Iteration:26\n",
      "ML:-90406.018; \tML change (error):    36.215; \tSigma^2:     0.001; \tSigma^2 change:     0.000\n",
      "[=========                                                               ]\n",
      "Iteration:27\n",
      "ML:-90438.674; \tML change (error):    32.656; \tSigma^2:     0.001; \tSigma^2 change:     0.000\n",
      "[=========                                                               ]\n",
      "Iteration:28\n",
      "ML:-90463.110; \tML change (error):    24.436; \tSigma^2:     0.001; \tSigma^2 change:     0.000\n",
      "[==========                                                              ]\n",
      "Iteration:29\n",
      "ML:-90481.870; \tML change (error):    18.760; \tSigma^2:     0.001; \tSigma^2 change:     0.000\n",
      "[==========                                                              ]\n",
      "Iteration:30\n",
      "ML:-90496.962; \tML change (error):    15.093; \tSigma^2:     0.001; \tSigma^2 change:     0.000\n",
      "[==========                                                              ]\n",
      "Iteration:31\n",
      "ML:-90509.214; \tML change (error):    12.251; \tSigma^2:     0.001; \tSigma^2 change:     0.000\n",
      "[===========                                                             ]\n",
      "Iteration:32\n",
      "ML:-90520.094; \tML change (error):    10.880; \tSigma^2:     0.001; \tSigma^2 change:     0.000\n",
      "[===========                                                             ]\n",
      "Iteration:33\n",
      "ML:-90535.909; \tML change (error):    15.815; \tSigma^2:     0.001; \tSigma^2 change:     0.000\n",
      "[===========                                                             ]\n",
      "Iteration:34\n",
      "ML:-90547.589; \tML change (error):    11.680; \tSigma^2:     0.001; \tSigma^2 change:     0.000\n",
      "[============                                                            ]\n",
      "Iteration:35\n",
      "ML:-90560.149; \tML change (error):    12.560; \tSigma^2:     0.001; \tSigma^2 change:     0.000\n",
      "[============                                                            ]\n",
      "Iteration:36\n",
      "ML:-90571.683; \tML change (error):    11.534; \tSigma^2:     0.001; \tSigma^2 change:     0.000\n",
      "[============                                                            ]\n",
      "Iteration:37\n",
      "ML:-90579.276; \tML change (error):     7.592; \tSigma^2:     0.001; \tSigma^2 change:     0.000\n",
      "[=============                                                           ]\n",
      "Iteration:38\n",
      "ML:-90586.416; \tML change (error):     7.140; \tSigma^2:     0.001; \tSigma^2 change:     0.000\n",
      "[=============                                                           ]\n",
      "Iteration:39\n",
      "ML:-90595.348; \tML change (error):     8.932; \tSigma^2:     0.001; \tSigma^2 change:     0.000\n",
      "[==============                                                          ]\n",
      "Iteration:40\n",
      "ML:-90607.634; \tML change (error):    12.286; \tSigma^2:     0.001; \tSigma^2 change:     0.000\n",
      "[==============                                                          ]\n",
      "Iteration:41\n",
      "ML:-90619.811; \tML change (error):    12.176; \tSigma^2:     0.001; \tSigma^2 change:     0.000\n",
      "[==============                                                          ]\n",
      "Iteration:42\n",
      "ML:-90632.305; \tML change (error):    12.494; \tSigma^2:     0.001; \tSigma^2 change:     0.000\n",
      "[===============                                                         ]\n"
     ]
    },
    {
     "name": "stdout",
     "output_type": "stream",
     "text": [
      "Iteration:43\n",
      "ML:-90639.352; \tML change (error):     7.047; \tSigma^2:     0.001; \tSigma^2 change:     0.000\n",
      "[===============                                                         ]\n",
      "Iteration:44\n",
      "ML:-90647.186; \tML change (error):     7.833; \tSigma^2:     0.001; \tSigma^2 change:     0.000\n",
      "[===============                                                         ]\n",
      "Iteration:45\n",
      "ML:-90659.187; \tML change (error):    12.001; \tSigma^2:     0.001; \tSigma^2 change:     0.000\n",
      "[================                                                        ]\n",
      "Iteration:46\n",
      "ML:-90665.497; \tML change (error):     6.310; \tSigma^2:     0.001; \tSigma^2 change:     0.000\n",
      "[================                                                        ]\n",
      "Iteration:47\n",
      "ML:-90670.641; \tML change (error):     5.144; \tSigma^2:     0.001; \tSigma^2 change:     0.000\n",
      "[================                                                        ]\n",
      "Iteration:48\n",
      "ML:-90675.658; \tML change (error):     5.016; \tSigma^2:     0.001; \tSigma^2 change:     0.000\n",
      "[=================                                                       ]\n",
      "Iteration:49\n",
      "ML:-90678.708; \tML change (error):     3.051; \tSigma^2:     0.001; \tSigma^2 change:     0.000\n",
      "[=================                                                       ]\n",
      "Iteration:50\n",
      "ML:-90680.543; \tML change (error):     1.835; \tSigma^2:     0.001; \tSigma^2 change:     0.000\n",
      "[==================                                                      ]\n",
      "Iteration:51\n",
      "ML:-90681.869; \tML change (error):     1.326; \tSigma^2:     0.001; \tSigma^2 change:     0.000\n",
      "[==================                                                      ]\n",
      "Iteration:52\n",
      "ML:-90682.924; \tML change (error):     1.055; \tSigma^2:     0.001; \tSigma^2 change:     0.000\n",
      "[==================                                                      ]\n",
      "Iteration:53\n",
      "ML:-90683.802; \tML change (error):     0.878; \tSigma^2:     0.001; \tSigma^2 change:     0.000\n",
      "[===================                                                     ]\n",
      "Iteration:54\n",
      "ML:-90684.546; \tML change (error):     0.745; \tSigma^2:     0.001; \tSigma^2 change:     0.000\n",
      "[===================                                                     ]\n",
      "Iteration:55\n",
      "ML:-90685.178; \tML change (error):     0.632; \tSigma^2:     0.001; \tSigma^2 change:     0.000\n",
      "[===================                                                     ]\n",
      "Iteration:56\n",
      "ML:-90685.711; \tML change (error):     0.533; \tSigma^2:     0.001; \tSigma^2 change:     0.000\n",
      "[====================                                                    ]\n",
      "Iteration:57\n",
      "ML:-90686.157; \tML change (error):     0.446; \tSigma^2:     0.001; \tSigma^2 change:     0.000\n",
      "[====================                                                    ]\n",
      "Iteration:58\n",
      "ML:-90686.530; \tML change (error):     0.373; \tSigma^2:     0.001; \tSigma^2 change:     0.000\n",
      "[====================                                                    ]\n",
      "Iteration:59\n",
      "ML:-90686.843; \tML change (error):     0.313; \tSigma^2:     0.001; \tSigma^2 change:     0.000\n",
      "[=====================                                                   ]\n",
      "Iteration:60\n",
      "ML:-90687.107; \tML change (error):     0.264; \tSigma^2:     0.001; \tSigma^2 change:     0.000\n",
      "[=====================                                                   ]\n",
      "Iteration:61\n",
      "ML:-90687.331; \tML change (error):     0.224; \tSigma^2:     0.001; \tSigma^2 change:     0.000\n",
      "[=====================                                                   ]\n",
      "Iteration:62\n",
      "ML:-90687.523; \tML change (error):     0.191; \tSigma^2:     0.001; \tSigma^2 change:     0.000\n",
      "[======================                                                  ]\n",
      "Iteration:63\n",
      "ML:-90687.687; \tML change (error):     0.164; \tSigma^2:     0.001; \tSigma^2 change:     0.000\n",
      "[======================                                                  ]\n",
      "Iteration:64\n",
      "ML:-90687.829; \tML change (error):     0.142; \tSigma^2:     0.001; \tSigma^2 change:     0.000\n",
      "[=======================                                                 ]\n",
      "Iteration:65\n",
      "ML:-90687.952; \tML change (error):     0.123; \tSigma^2:     0.001; \tSigma^2 change:     0.000\n",
      "[=======================                                                 ]\n",
      "Iteration:66\n",
      "ML:-90688.060; \tML change (error):     0.107; \tSigma^2:     0.001; \tSigma^2 change:     0.000\n",
      "[=======================                                                 ]\n",
      "Iteration:67\n",
      "ML:-90688.154; \tML change (error):     0.094; \tSigma^2:     0.001; \tSigma^2 change:     0.000\n",
      "[========================                                                ]\n",
      "Iteration:68\n",
      "ML:-90688.236; \tML change (error):     0.083; \tSigma^2:     0.001; \tSigma^2 change:     0.000\n",
      "[========================                                                ]\n",
      "Iteration:69\n",
      "ML:-90688.309; \tML change (error):     0.073; \tSigma^2:     0.001; \tSigma^2 change:     0.000\n",
      "[========================                                                ]\n",
      "Iteration:70\n",
      "ML:-90688.373; \tML change (error):     0.064; \tSigma^2:     0.001; \tSigma^2 change:     0.000\n",
      "[=========================                                               ]\n",
      "Iteration:71\n",
      "ML:-90688.430; \tML change (error):     0.057; \tSigma^2:     0.001; \tSigma^2 change:     0.000\n",
      "[=========================                                               ]\n",
      "Iteration:72\n",
      "ML:-90688.481; \tML change (error):     0.051; \tSigma^2:     0.001; \tSigma^2 change:     0.000\n",
      "[=========================                                               ]\n",
      "Iteration:73\n",
      "ML:-90688.526; \tML change (error):     0.045; \tSigma^2:     0.001; \tSigma^2 change:     0.000\n",
      "[==========================                                              ]\n",
      "Iteration:74\n",
      "ML:-90688.567; \tML change (error):     0.041; \tSigma^2:     0.001; \tSigma^2 change:     0.000\n",
      "[==========================                                              ]\n",
      "Iteration:75\n",
      "ML:-90688.603; \tML change (error):     0.036; \tSigma^2:     0.001; \tSigma^2 change:     0.000\n",
      "[===========================                                             ]\n",
      "Iteration:76\n",
      "ML:-90688.636; \tML change (error):     0.033; \tSigma^2:     0.001; \tSigma^2 change:     0.000\n",
      "[===========================                                             ]\n",
      "Iteration:77\n",
      "ML:-90688.665; \tML change (error):     0.029; \tSigma^2:     0.001; \tSigma^2 change:    -0.000\n",
      "[===========================                                             ]\n",
      "Iteration:78\n",
      "ML:-90688.692; \tML change (error):     0.027; \tSigma^2:     0.001; \tSigma^2 change:    -0.000\n",
      "[============================                                            ]\n",
      "Iteration:79\n",
      "ML:-90688.716; \tML change (error):     0.024; \tSigma^2:     0.001; \tSigma^2 change:    -0.000\n",
      "[============================                                            ]\n",
      "Iteration:80\n",
      "ML:-90688.738; \tML change (error):     0.022; \tSigma^2:     0.001; \tSigma^2 change:    -0.000\n",
      "[============================                                            ]\n",
      "Iteration:81\n",
      "ML:-90688.758; \tML change (error):     0.020; \tSigma^2:     0.001; \tSigma^2 change:    -0.000\n",
      "[=============================                                           ]\n",
      "Iteration:82\n",
      "ML:-90688.776; \tML change (error):     0.018; \tSigma^2:     0.001; \tSigma^2 change:    -0.000\n",
      "[=============================                                           ]\n",
      "Iteration:83\n",
      "ML:-90688.793; \tML change (error):     0.017; \tSigma^2:     0.001; \tSigma^2 change:    -0.000\n",
      "[=============================                                           ]\n",
      "Iteration:84\n",
      "ML:-90688.808; \tML change (error):     0.015; \tSigma^2:     0.001; \tSigma^2 change:    -0.000\n",
      "[==============================                                          ]\n",
      "Iteration:85\n",
      "ML:-90688.822; \tML change (error):     0.014; \tSigma^2:     0.001; \tSigma^2 change:    -0.000\n",
      "[==============================                                          ]\n",
      "Iteration:86\n",
      "ML:-90688.835; \tML change (error):     0.013; \tSigma^2:     0.001; \tSigma^2 change:    -0.000\n",
      "[==============================                                          ]\n",
      "Iteration:87\n",
      "ML:-90688.847; \tML change (error):     0.012; \tSigma^2:     0.001; \tSigma^2 change:    -0.000\n",
      "[===============================                                         ]\n",
      "Iteration:88\n",
      "ML:-90688.858; \tML change (error):     0.011; \tSigma^2:     0.001; \tSigma^2 change:    -0.000\n",
      "[===============================                                         ]\n"
     ]
    },
    {
     "name": "stdout",
     "output_type": "stream",
     "text": [
      "Iteration:89\n",
      "ML:-90688.868; \tML change (error):     0.010; \tSigma^2:     0.001; \tSigma^2 change:    -0.000\n",
      "[================================                                        ]\n",
      "Iteration:90\n",
      "ML:-90688.877; \tML change (error):     0.009; \tSigma^2:     0.001; \tSigma^2 change:    -0.000\n",
      "[================================                                        ]\n",
      "Iteration:91\n",
      "ML:-90688.886; \tML change (error):     0.009; \tSigma^2:     0.001; \tSigma^2 change:    -0.000\n",
      "[================================                                        ]\n",
      "Iteration:92\n",
      "ML:-90688.894; \tML change (error):     0.008; \tSigma^2:     0.001; \tSigma^2 change:    -0.000\n",
      "[=================================                                       ]\n",
      "Iteration:93\n",
      "ML:-90688.901; \tML change (error):     0.007; \tSigma^2:     0.001; \tSigma^2 change:    -0.000\n",
      "[=================================                                       ]\n",
      "Iteration:94\n",
      "ML:-90688.908; \tML change (error):     0.007; \tSigma^2:     0.001; \tSigma^2 change:    -0.000\n",
      "[=================================                                       ]\n",
      "Iteration:95\n",
      "ML:-90688.915; \tML change (error):     0.006; \tSigma^2:     0.001; \tSigma^2 change:    -0.000\n",
      "[==================================                                      ]\n",
      "Iteration:96\n",
      "ML:-90688.921; \tML change (error):     0.006; \tSigma^2:     0.001; \tSigma^2 change:    -0.000\n",
      "[==================================                                      ]\n",
      "Iteration:97\n",
      "ML:-90688.926; \tML change (error):     0.006; \tSigma^2:     0.001; \tSigma^2 change:    -0.000\n",
      "[==================================                                      ]\n",
      "Iteration:98\n",
      "ML:-90688.931; \tML change (error):     0.005; \tSigma^2:     0.001; \tSigma^2 change:    -0.000\n",
      "[===================================                                     ]\n",
      "Iteration:99\n",
      "ML:-90688.936; \tML change (error):     0.005; \tSigma^2:     0.001; \tSigma^2 change:    -0.000\n",
      "[===================================                                     ]\n",
      "Iteration:100\n",
      "ML:-90688.941; \tML change (error):     0.005; \tSigma^2:     0.001; \tSigma^2 change:    -0.000\n",
      "[====================================                                    ]\n",
      "Iteration:101\n",
      "ML:-90688.945; \tML change (error):     0.004; \tSigma^2:     0.001; \tSigma^2 change:    -0.000\n",
      "[====================================                                    ]\n",
      "Iteration:102\n",
      "ML:-90688.949; \tML change (error):     0.004; \tSigma^2:     0.001; \tSigma^2 change:    -0.000\n",
      "[====================================                                    ]\n",
      "Iteration:103\n",
      "ML:-90688.953; \tML change (error):     0.004; \tSigma^2:     0.001; \tSigma^2 change:    -0.000\n",
      "[=====================================                                   ]\n",
      "Iteration:104\n",
      "ML:-90688.956; \tML change (error):     0.004; \tSigma^2:     0.001; \tSigma^2 change:    -0.000\n",
      "[=====================================                                   ]\n",
      "Iteration:105\n",
      "ML:-90688.960; \tML change (error):     0.003; \tSigma^2:     0.001; \tSigma^2 change:    -0.000\n",
      "[=====================================                                   ]\n",
      "Iteration:106\n",
      "ML:-90688.963; \tML change (error):     0.003; \tSigma^2:     0.001; \tSigma^2 change:    -0.000\n",
      "[======================================                                  ]\n",
      "Iteration:107\n",
      "ML:-90688.966; \tML change (error):     0.003; \tSigma^2:     0.001; \tSigma^2 change:    -0.000\n",
      "[======================================                                  ]\n",
      "Iteration:108\n",
      "ML:-90688.969; \tML change (error):     0.003; \tSigma^2:     0.001; \tSigma^2 change:    -0.000\n",
      "[======================================                                  ]\n",
      "Iteration:109\n",
      "ML:-90688.971; \tML change (error):     0.003; \tSigma^2:     0.001; \tSigma^2 change:    -0.000\n",
      "[=======================================                                 ]\n",
      "Iteration:110\n",
      "ML:-90688.974; \tML change (error):     0.002; \tSigma^2:     0.001; \tSigma^2 change:    -0.000\n",
      "[=======================================                                 ]\n",
      "Iteration:111\n",
      "ML:-90688.976; \tML change (error):     0.002; \tSigma^2:     0.001; \tSigma^2 change:    -0.000\n",
      "[=======================================                                 ]\n",
      "Iteration:112\n",
      "ML:-90688.978; \tML change (error):     0.002; \tSigma^2:     0.001; \tSigma^2 change:    -0.000\n",
      "[========================================                                ]\n",
      "Iteration:113\n",
      "ML:-90688.980; \tML change (error):     0.002; \tSigma^2:     0.001; \tSigma^2 change:    -0.000\n",
      "[========================================                                ]\n",
      "Iteration:114\n",
      "ML:-90688.982; \tML change (error):     0.002; \tSigma^2:     0.001; \tSigma^2 change:    -0.000\n",
      "[=========================================                               ]\n",
      "Iteration:115\n",
      "ML:-90688.984; \tML change (error):     0.002; \tSigma^2:     0.001; \tSigma^2 change:    -0.000\n",
      "[=========================================                               ]\n",
      "Iteration:116\n",
      "ML:-90688.986; \tML change (error):     0.002; \tSigma^2:     0.001; \tSigma^2 change:    -0.000\n",
      "[=========================================                               ]\n",
      "Iteration:117\n",
      "ML:-90688.987; \tML change (error):     0.002; \tSigma^2:     0.001; \tSigma^2 change:    -0.000\n",
      "[==========================================                              ]\n",
      "Iteration:118\n",
      "ML:-90688.989; \tML change (error):     0.002; \tSigma^2:     0.001; \tSigma^2 change:    -0.000\n",
      "[==========================================                              ]\n",
      "Iteration:119\n",
      "ML:-90688.990; \tML change (error):     0.001; \tSigma^2:     0.001; \tSigma^2 change:    -0.000\n",
      "[==========================================                              ]\n",
      "Iteration:120\n",
      "ML:-90688.992; \tML change (error):     0.001; \tSigma^2:     0.001; \tSigma^2 change:    -0.000\n",
      "[===========================================                             ]\n",
      "Iteration:121\n",
      "ML:-90688.993; \tML change (error):     0.001; \tSigma^2:     0.001; \tSigma^2 change:    -0.000\n",
      "[===========================================                             ]\n",
      "Iteration:122\n",
      "ML:-90688.994; \tML change (error):     0.001; \tSigma^2:     0.001; \tSigma^2 change:    -0.000\n",
      "[===========================================                             ]\n",
      "Iteration:123\n",
      "ML:-90688.995; \tML change (error):     0.001; \tSigma^2:     0.001; \tSigma^2 change:    -0.000\n",
      "[============================================                            ]\n",
      "Iteration:124\n",
      "ML:-90688.997; \tML change (error):     0.001; \tSigma^2:     0.001; \tSigma^2 change:    -0.000\n",
      "[============================================                            ]\n",
      "Iteration:125\n",
      "ML:-90688.998; \tML change (error):     0.001; \tSigma^2:     0.001; \tSigma^2 change:    -0.000\n",
      "[=============================================                           ]\n",
      "Iteration:126\n",
      "ML:-90688.999; \tML change (error):     0.001; \tSigma^2:     0.001; \tSigma^2 change:    -0.000\n",
      "[=============================================                           ]\n",
      "Iteration:127\n",
      "ML:-90689.000; \tML change (error):     0.001; \tSigma^2:     0.001; \tSigma^2 change:    -0.000\n",
      "[=============================================                           ]\n",
      "Iteration:128\n",
      "ML:-90689.001; \tML change (error):     0.001; \tSigma^2:     0.001; \tSigma^2 change:    -0.000\n",
      "[==============================================                          ]\n",
      "Iteration:129\n",
      "ML:-90689.002; \tML change (error):     0.001; \tSigma^2:     0.001; \tSigma^2 change:    -0.000\n",
      "[==============================================                          ]\n",
      "Iteration:130\n",
      "ML:-90689.002; \tML change (error):     0.001; \tSigma^2:     0.001; \tSigma^2 change:    -0.000\n",
      "[==============================================                          ]\n",
      "Iteration:131\n",
      "ML:-90689.003; \tML change (error):     0.001; \tSigma^2:     0.001; \tSigma^2 change:    -0.000\n",
      "[===============================================                         ]\n",
      "Iteration:132\n",
      "ML:-90689.004; \tML change (error):     0.001; \tSigma^2:     0.001; \tSigma^2 change:    -0.000\n",
      "[===============================================                         ]\n",
      "Iteration:133\n",
      "ML:-90689.005; \tML change (error):     0.001; \tSigma^2:     0.001; \tSigma^2 change:    -0.000\n",
      "[===============================================                         ]\n"
     ]
    },
    {
     "name": "stdout",
     "output_type": "stream",
     "text": [
      "Iteration:134\n",
      "ML:-90689.005; \tML change (error):     0.001; \tSigma^2:     0.001; \tSigma^2 change:    -0.000\n",
      "[================================================                        ]\n",
      "Iteration:135\n",
      "ML:-90689.006; \tML change (error):     0.001; \tSigma^2:     0.001; \tSigma^2 change:    -0.000\n",
      "[================================================                        ]\n",
      "Iteration:136\n",
      "ML:-90689.007; \tML change (error):     0.001; \tSigma^2:     0.001; \tSigma^2 change:    -0.000\n",
      "[================================================                        ]\n",
      "Iteration:137\n",
      "ML:-90689.007; \tML change (error):     0.001; \tSigma^2:     0.001; \tSigma^2 change:    -0.000\n",
      "[=================================================                       ]\n",
      "Iteration:138\n",
      "ML:-90689.008; \tML change (error):     0.001; \tSigma^2:     0.001; \tSigma^2 change:    -0.000\n",
      "[=================================================                       ]\n",
      "Iteration:139\n",
      "ML:-90689.008; \tML change (error):     0.001; \tSigma^2:     0.001; \tSigma^2 change:    -0.000\n",
      "[==================================================                      ]\n",
      "Iteration:140\n",
      "ML:-90689.009; \tML change (error):     0.001; \tSigma^2:     0.001; \tSigma^2 change:    -0.000\n",
      "[==================================================                      ]\n",
      "Iteration:141\n",
      "ML:-90689.009; \tML change (error):     0.001; \tSigma^2:     0.001; \tSigma^2 change:    -0.000\n",
      "[==================================================                      ]\n",
      "Iteration:142\n",
      "ML:-90689.010; \tML change (error):     0.000; \tSigma^2:     0.001; \tSigma^2 change:    -0.000\n",
      "[===================================================                     ]\n",
      "Iteration:143\n",
      "ML:-90689.010; \tML change (error):     0.000; \tSigma^2:     0.001; \tSigma^2 change:    -0.000\n",
      "[===================================================                     ]\n",
      "Iteration:144\n",
      "ML:-90689.011; \tML change (error):     0.000; \tSigma^2:     0.001; \tSigma^2 change:    -0.000\n",
      "[===================================================                     ]\n",
      "Iteration:145\n",
      "ML:-90689.011; \tML change (error):     0.000; \tSigma^2:     0.001; \tSigma^2 change:    -0.000\n",
      "[====================================================                    ]\n",
      "Iteration:146\n",
      "ML:-90689.012; \tML change (error):     0.000; \tSigma^2:     0.001; \tSigma^2 change:    -0.000\n",
      "[====================================================                    ]\n",
      "Iteration:147\n",
      "ML:-90689.012; \tML change (error):     0.000; \tSigma^2:     0.001; \tSigma^2 change:    -0.000\n",
      "[====================================================                    ]\n",
      "Iteration:148\n",
      "ML:-90689.012; \tML change (error):     0.000; \tSigma^2:     0.001; \tSigma^2 change:    -0.000\n",
      "[=====================================================                   ]\n",
      "Iteration:149\n",
      "ML:-90689.013; \tML change (error):     0.000; \tSigma^2:     0.001; \tSigma^2 change:    -0.000\n",
      "[=====================================================                   ]\n",
      "Iteration:150\n",
      "ML:-90689.013; \tML change (error):     0.000; \tSigma^2:     0.001; \tSigma^2 change:    -0.000\n",
      "[======================================================                  ]\n",
      "Iteration:151\n",
      "ML:-90689.013; \tML change (error):     0.000; \tSigma^2:     0.001; \tSigma^2 change:    -0.000\n",
      "[======================================================                  ]\n",
      "Iteration:152\n",
      "ML:-90689.014; \tML change (error):     0.000; \tSigma^2:     0.001; \tSigma^2 change:    -0.000\n",
      "[======================================================                  ]\n",
      "Iteration:153\n",
      "ML:-90689.014; \tML change (error):     0.000; \tSigma^2:     0.001; \tSigma^2 change:    -0.000\n",
      "[=======================================================                 ]\n",
      "Iteration:154\n",
      "ML:-90689.014; \tML change (error):     0.000; \tSigma^2:     0.001; \tSigma^2 change:    -0.000\n",
      "[=======================================================                 ]\n",
      "Iteration:155\n",
      "ML:-90689.015; \tML change (error):     0.000; \tSigma^2:     0.001; \tSigma^2 change:    -0.000\n",
      "[=======================================================                 ]\n",
      "Iteration:156\n",
      "ML:-90689.015; \tML change (error):     0.000; \tSigma^2:     0.001; \tSigma^2 change:    -0.000\n",
      "[========================================================                ]\n",
      "Iteration:157\n",
      "ML:-90689.015; \tML change (error):     0.000; \tSigma^2:     0.001; \tSigma^2 change:    -0.000\n",
      "[========================================================                ]\n",
      "Iteration:158\n",
      "ML:-90689.016; \tML change (error):     0.000; \tSigma^2:     0.001; \tSigma^2 change:    -0.000\n",
      "[========================================================                ]\n",
      "Iteration:159\n",
      "ML:-90689.016; \tML change (error):     0.000; \tSigma^2:     0.001; \tSigma^2 change:    -0.000\n",
      "[=========================================================               ]\n",
      "Iteration:160\n",
      "ML:-90689.016; \tML change (error):     0.000; \tSigma^2:     0.001; \tSigma^2 change:    -0.000\n",
      "[=========================================================               ]\n",
      "Iteration:161\n",
      "ML:-90689.016; \tML change (error):     0.000; \tSigma^2:     0.001; \tSigma^2 change:    -0.000\n",
      "[=========================================================               ]\n",
      "Iteration:162\n",
      "ML:-90689.016; \tML change (error):     0.000; \tSigma^2:     0.001; \tSigma^2 change:    -0.000\n",
      "[==========================================================              ]\n",
      "Iteration:163\n",
      "ML:-90689.017; \tML change (error):     0.000; \tSigma^2:     0.001; \tSigma^2 change:    -0.000\n",
      "[==========================================================              ]\n",
      "Iteration:164\n",
      "ML:-90689.017; \tML change (error):     0.000; \tSigma^2:     0.001; \tSigma^2 change:    -0.000\n",
      "[===========================================================             ]\n",
      "Iteration:165\n",
      "ML:-90689.017; \tML change (error):     0.000; \tSigma^2:     0.001; \tSigma^2 change:    -0.000\n",
      "[===========================================================             ]\n",
      "Iteration:166\n",
      "ML:-90689.017; \tML change (error):     0.000; \tSigma^2:     0.001; \tSigma^2 change:    -0.000\n",
      "[===========================================================             ]\n",
      "Iteration:167\n",
      "ML:-90689.018; \tML change (error):     0.000; \tSigma^2:     0.001; \tSigma^2 change:    -0.000\n",
      "[============================================================            ]\n",
      "Iteration:168\n",
      "ML:-90689.018; \tML change (error):     0.000; \tSigma^2:     0.001; \tSigma^2 change:    -0.000\n",
      "[============================================================            ]\n",
      "Iteration:169\n",
      "ML:-90689.018; \tML change (error):     0.000; \tSigma^2:     0.001; \tSigma^2 change:    -0.000\n",
      "[============================================================            ]\n",
      "Iteration:170\n",
      "ML:-90689.018; \tML change (error):     0.000; \tSigma^2:     0.001; \tSigma^2 change:    -0.000\n",
      "[=============================================================           ]\n",
      "Iteration:171\n",
      "ML:-90689.018; \tML change (error):     0.000; \tSigma^2:     0.001; \tSigma^2 change:    -0.000\n",
      "[=============================================================           ]\n",
      "Iteration:172\n",
      "ML:-90689.019; \tML change (error):     0.000; \tSigma^2:     0.001; \tSigma^2 change:    -0.000\n",
      "[=============================================================           ]\n",
      "Iteration:173\n",
      "ML:-90689.019; \tML change (error):     0.000; \tSigma^2:     0.001; \tSigma^2 change:    -0.000\n",
      "[==============================================================          ]\n",
      "Iteration:174\n",
      "ML:-90689.019; \tML change (error):     0.000; \tSigma^2:     0.001; \tSigma^2 change:    -0.000\n",
      "[==============================================================          ]\n",
      "Iteration:175\n",
      "ML:-90689.019; \tML change (error):     0.000; \tSigma^2:     0.001; \tSigma^2 change:    -0.000\n",
      "[===============================================================         ]\n",
      "Iteration:176\n",
      "ML:-90689.019; \tML change (error):     0.000; \tSigma^2:     0.001; \tSigma^2 change:    -0.000\n",
      "[===============================================================         ]\n",
      "Iteration:177\n",
      "ML:-90689.019; \tML change (error):     0.000; \tSigma^2:     0.001; \tSigma^2 change:    -0.000\n",
      "[===============================================================         ]\n",
      "Iteration:178\n",
      "ML:-90689.020; \tML change (error):     0.000; \tSigma^2:     0.001; \tSigma^2 change:    -0.000\n",
      "[================================================================        ]\n"
     ]
    },
    {
     "name": "stdout",
     "output_type": "stream",
     "text": [
      "Iteration:179\n",
      "ML:-90689.020; \tML change (error):     0.000; \tSigma^2:     0.001; \tSigma^2 change:    -0.000\n",
      "[================================================================        ]\n",
      "Iteration:180\n",
      "ML:-90689.020; \tML change (error):     0.000; \tSigma^2:     0.001; \tSigma^2 change:    -0.000\n",
      "[================================================================        ]\n",
      "Iteration:181\n",
      "ML:-90689.020; \tML change (error):     0.000; \tSigma^2:     0.001; \tSigma^2 change:    -0.000\n",
      "[=================================================================       ]\n",
      "Iteration:182\n",
      "ML:-90689.020; \tML change (error):     0.000; \tSigma^2:     0.001; \tSigma^2 change:    -0.000\n",
      "[=================================================================       ]\n",
      "Iteration:183\n",
      "ML:-90689.020; \tML change (error):     0.000; \tSigma^2:     0.001; \tSigma^2 change:    -0.000\n",
      "[=================================================================       ]\n",
      "Iteration:184\n",
      "ML:-90689.020; \tML change (error):     0.000; \tSigma^2:     0.001; \tSigma^2 change:    -0.000\n",
      "[==================================================================      ]\n",
      "Iteration:185\n",
      "ML:-90689.021; \tML change (error):     0.000; \tSigma^2:     0.001; \tSigma^2 change:    -0.000\n",
      "[==================================================================      ]\n",
      "Iteration:186\n",
      "ML:-90689.021; \tML change (error):     0.000; \tSigma^2:     0.001; \tSigma^2 change:    -0.000\n",
      "[==================================================================      ]\n",
      "Iteration:187\n",
      "ML:-90689.021; \tML change (error):     0.000; \tSigma^2:     0.001; \tSigma^2 change:    -0.000\n",
      "[===================================================================     ]\n",
      "Iteration:188\n",
      "ML:-90689.021; \tML change (error):     0.000; \tSigma^2:     0.001; \tSigma^2 change:    -0.000\n",
      "[===================================================================     ]\n",
      "Iteration:189\n",
      "ML:-90689.021; \tML change (error):     0.000; \tSigma^2:     0.001; \tSigma^2 change:    -0.000\n",
      "[====================================================================    ]\n",
      "Iteration:190\n",
      "ML:-90689.021; \tML change (error):     0.000; \tSigma^2:     0.001; \tSigma^2 change:    -0.000\n",
      "[====================================================================    ]\n",
      "Iteration:191\n",
      "ML:-90689.022; \tML change (error):     0.000; \tSigma^2:     0.001; \tSigma^2 change:    -0.000\n",
      "[====================================================================    ]\n",
      "Iteration:192\n",
      "ML:-90689.022; \tML change (error):     0.000; \tSigma^2:     0.001; \tSigma^2 change:    -0.000\n",
      "[=====================================================================   ]\n",
      "Iteration:193\n",
      "ML:-90689.022; \tML change (error):     0.000; \tSigma^2:     0.001; \tSigma^2 change:    -0.000\n",
      "[=====================================================================   ]\n",
      "Iteration:194\n",
      "ML:-90689.022; \tML change (error):     0.000; \tSigma^2:     0.001; \tSigma^2 change:    -0.000\n",
      "[=====================================================================   ]\n",
      "Iteration:195\n",
      "ML:-90689.022; \tML change (error):     0.000; \tSigma^2:     0.001; \tSigma^2 change:    -0.000\n",
      "[======================================================================  ]\n",
      "Iteration:196\n",
      "ML:-90689.022; \tML change (error):     0.000; \tSigma^2:     0.001; \tSigma^2 change:    -0.000\n",
      "[======================================================================  ]\n",
      "Iteration:197\n",
      "ML:-90689.022; \tML change (error):     0.000; \tSigma^2:     0.001; \tSigma^2 change:    -0.000\n",
      "[======================================================================  ]\n",
      "Iteration:198\n",
      "ML:-90689.023; \tML change (error):     0.000; \tSigma^2:     0.001; \tSigma^2 change:    -0.000\n",
      "[======================================================================= ]\n",
      "Iteration:199\n",
      "ML:-90689.023; \tML change (error):     0.000; \tSigma^2:     0.001; \tSigma^2 change:    -0.000\n",
      "[======================================================================= ]\n",
      "Iteration:200\n",
      "ML:-90689.023; \tML change (error):     0.000; \tSigma^2:     0.001; \tSigma^2 change:    -0.000\n",
      "[========================================================================]\n",
      "========================================================================\n",
      "Registration Performance Metrics\n",
      "========================================================================\n",
      "Time to initialize EM: 0.12971901893615723\n",
      "Time to initialize registration: 14.541867017745972\n",
      "Average Expectation Time:                    0.9482 +/- 0.1024\n",
      "Average Maximization Time:                   0.1193 +/- 0.0058\n",
      "Maximization Times - Per individual step\n",
      "Average Update Transform Time:               0.1183 +/- 0.0057\n",
      "Average Transform Time:                      0.0006 +/- 0.0002\n",
      "Average Update Variance Time:                0.0003 +/- 0.0000\n",
      "\n",
      "Number of iterations performed:          200\n",
      "Error at time of finish:                 0.00015829883341211826\n"
     ]
    }
   ],
   "source": [
    "reg.align_maps()"
   ]
  },
  {
   "cell_type": "markdown",
   "metadata": {},
   "source": [
    "## View the spectral coordinates"
   ]
  },
  {
   "cell_type": "code",
   "execution_count": 11,
   "metadata": {},
   "outputs": [
    {
     "data": {
      "application/vnd.jupyter.widget-view+json": {
       "model_id": "4878430554994a05a02d50ca6ec59f83",
       "version_major": 2,
       "version_minor": 0
      },
      "text/plain": [
       "Viewer(point_set_colors=array([[0.8392157 , 0.        , 0.        ],\n",
       "       [0.54901963, 0.23137255, 1.       …"
      ]
     },
     "metadata": {},
     "output_type": "display_data"
    }
   ],
   "source": [
    "reg.view_aligned_spectral_coords(starting_spectral_coord=0, include_rigid_aligned=True, include_unaligned=True)"
   ]
  },
  {
   "cell_type": "code",
   "execution_count": 12,
   "metadata": {},
   "outputs": [
    {
     "data": {
      "text/plain": [
       "(5000, 5)"
      ]
     },
     "execution_count": 12,
     "metadata": {},
     "output_type": "execute_result"
    }
   ],
   "source": [
    "reg.source_spectral_coords.shape"
   ]
  },
  {
   "cell_type": "code",
   "execution_count": 13,
   "metadata": {},
   "outputs": [
    {
     "data": {
      "text/plain": [
       "(5000, 5)"
      ]
     },
     "execution_count": 13,
     "metadata": {},
     "output_type": "execute_result"
    }
   ],
   "source": [
    "reg.target_spectral_coords.shape"
   ]
  },
  {
   "cell_type": "code",
   "execution_count": 14,
   "metadata": {},
   "outputs": [
    {
     "data": {
      "text/plain": [
       "<bound method Focusr.calc_weighted_spectral_coords of <pyfocusr.focusr.Focusr object at 0x1a2c1fd410>>"
      ]
     },
     "execution_count": 14,
     "metadata": {},
     "output_type": "execute_result"
    }
   ],
   "source": [
    "reg.calc_weighted_spectral_coords"
   ]
  },
  {
   "cell_type": "code",
   "execution_count": 15,
   "metadata": {},
   "outputs": [],
   "source": [
    "reg.spec_weights"
   ]
  },
  {
   "cell_type": "code",
   "execution_count": null,
   "metadata": {},
   "outputs": [],
   "source": []
  }
 ],
 "metadata": {
  "kernelspec": {
   "display_name": "Python 3",
   "language": "python",
   "name": "python3"
  },
  "language_info": {
   "codemirror_mode": {
    "name": "ipython",
    "version": 3
   },
   "file_extension": ".py",
   "mimetype": "text/x-python",
   "name": "python",
   "nbconvert_exporter": "python",
   "pygments_lexer": "ipython3",
   "version": "3.7.6"
  }
 },
 "nbformat": 4,
 "nbformat_minor": 4
}
