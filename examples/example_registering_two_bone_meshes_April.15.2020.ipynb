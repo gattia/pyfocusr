{
 "cells": [
  {
   "cell_type": "code",
   "execution_count": 1,
   "metadata": {},
   "outputs": [],
   "source": [
    "import os\n",
    "\n",
    "import numpy as np\n",
    "import vtk\n",
    "from vtk.util.numpy_support import numpy_to_vtk, vtk_to_numpy\n",
    "\n",
    "import pyfocusr\n",
    "from pyfocusr.vtk_functions import read_vtk_mesh"
   ]
  },
  {
   "cell_type": "code",
   "execution_count": 2,
   "metadata": {},
   "outputs": [],
   "source": [
    "location_meshes = '../data/'\n",
    "target_filename = 'target_mesh.vtk'\n",
    "source_filename = 'source_mesh.vtk'\n",
    "\n",
    "target_vtk_mesh = read_vtk_mesh(os.path.join(location_meshes, target_filename))\n",
    "source_vtk_mesh = read_vtk_mesh(os.path.join(location_meshes, source_filename))"
   ]
  },
  {
   "cell_type": "code",
   "execution_count": 3,
   "metadata": {},
   "outputs": [],
   "source": [
    "reg = pyfocusr.Focusr(vtk_mesh_target=target_vtk_mesh, \n",
    "                      vtk_mesh_source=source_vtk_mesh,\n",
    "                      get_weighted_spectral_coords=False,\n",
    "                      list_features_to_calc=['curvature'],\n",
    "                      rigid_reg_max_iterations=20,\n",
    "                      non_rigid_alpha=0.5,\n",
    "                      non_rigid_beta=3,\n",
    "                      non_rigid_max_iterations=20)"
   ]
  },
  {
   "cell_type": "markdown",
   "metadata": {},
   "source": [
    "### View mesh features"
   ]
  },
  {
   "cell_type": "code",
   "execution_count": 5,
   "metadata": {
    "scrolled": true
   },
   "outputs": [
    {
     "data": {
      "application/vnd.jupyter.widget-view+json": {
       "model_id": "26d20a76824940e480d1e94c707a90ee",
       "version_major": 2,
       "version_minor": 0
      },
      "text/plain": [
       "Viewer(geometries=[{'vtkClass': 'vtkPolyData', 'points': {'vtkClass': 'vtkPoints', 'name': '_points', 'numberO…"
      ]
     },
     "metadata": {},
     "output_type": "display_data"
    }
   ],
   "source": [
    "reg.graph_source.view_mesh_features(feature_idx=1)"
   ]
  },
  {
   "cell_type": "markdown",
   "metadata": {},
   "source": [
    "### View un-ordered/corrected/weighted eigenvectors (spectral coordinates)"
   ]
  },
  {
   "cell_type": "markdown",
   "metadata": {},
   "source": [
    "#### Source Eigenvector 1"
   ]
  },
  {
   "cell_type": "code",
   "execution_count": 10,
   "metadata": {
    "scrolled": true
   },
   "outputs": [
    {
     "data": {
      "application/vnd.jupyter.widget-view+json": {
       "model_id": "8838cc2906764006a13cda3f2f548f37",
       "version_major": 2,
       "version_minor": 0
      },
      "text/plain": [
       "Viewer(geometries=[{'vtkClass': 'vtkPolyData', 'points': {'vtkClass': 'vtkPoints', 'name': '_points', 'numberO…"
      ]
     },
     "metadata": {},
     "output_type": "display_data"
    }
   ],
   "source": [
    "reg.graph_source.view_mesh_eig_vec(eig_vec=2)"
   ]
  },
  {
   "cell_type": "markdown",
   "metadata": {},
   "source": [
    "#### Target Eigenvector 1"
   ]
  },
  {
   "cell_type": "code",
   "execution_count": 11,
   "metadata": {
    "scrolled": true
   },
   "outputs": [
    {
     "data": {
      "application/vnd.jupyter.widget-view+json": {
       "model_id": "a042d632d7bd4b9cbbcf3d07d67ba5d6",
       "version_major": 2,
       "version_minor": 0
      },
      "text/plain": [
       "Viewer(geometries=[{'vtkClass': 'vtkPolyData', 'points': {'vtkClass': 'vtkPoints', 'name': '_points', 'numberO…"
      ]
     },
     "metadata": {},
     "output_type": "display_data"
    }
   ],
   "source": [
    "reg.graph_target.view_mesh_eig_vec(eig_vec=2)"
   ]
  },
  {
   "cell_type": "markdown",
   "metadata": {},
   "source": [
    "# Notes about comparison: \n",
    "Depending on if we include features ('curvature') or not, we will get different results for these meshes. \n",
    "\n",
    "If we leave the list at `list_features_to_calc` as an empty list `[]` then: <br>\n",
    "We note that the color gradient is the same (in the same direction) between the two meshes. However, the colours are flipped. This is because the direction of \"positive\" can be flipped from one mesh to another. This will (should) be corrected automatically before the registration begins. \n",
    "\n",
    "If we include `'curvature'` in `list_features_to_calc` with `['curvature']` then: <br>\n",
    "We get eigenvectors that align in direction and orientation (at least for the first 3 (0, 1, 2). \n",
    "\n",
    "Note, the flipped nature of the spectral coordinates can/will be corrected in the algorithm (if it exists). However, this only works because these are both of the same leg (right - as evident by the large side of the trochlear groove) and will likely faily/break if a left and right leg were analyzed. Therefore, all legs should be flipped to be the same side to \"fix\" things. "
   ]
  },
  {
   "cell_type": "markdown",
   "metadata": {},
   "source": [
    "## Begin Registration\n",
    "This will print out the registration parameters/results as it goes. <br>\n",
    "- First it will print out the \"pairs\" of eigenvectors between the two meshes and which ones on the source were flipped to match the target eigenvectors. \n",
    "- Second it will print the rigid registration progress and ultimately the registration \"results\"/\"parameters\"\n",
    "- Third it will print the same for the non-rigid registration progress. \n"
   ]
  },
  {
   "cell_type": "code",
   "execution_count": 12,
   "metadata": {},
   "outputs": [
    {
     "name": "stdout",
     "output_type": "stream",
     "text": [
      "========================================================================\n",
      "Eigenvector Sorting Results\n",
      "\n",
      "The matches for eigenvectors were as follows:\n",
      "Target\t|  Source\n",
      "     0\t|  0     \n",
      "     1\t|  -1    \n",
      "     2\t|  2     \n",
      "     3\t|  -3    \n",
      "     4\t|  -4    \n",
      "     5\t|  5     \n",
      "*Negative source values means those eigenvectors were flipped*\n",
      "\n",
      "========================================================================\n",
      "\n",
      "Rigid Registration Beginning\n",
      "\n",
      "========================================================================\n",
      "Iteration:1\n",
      "ML:-50155.768; \tML change (error): 50155.768; \tSigma^2:     0.068; \tSigma^2 change:     0.104\n",
      "[===                                                                     ]\n",
      "Iteration:2\n",
      "ML:-53768.487; \tML change (error):  3612.718; \tSigma^2:     0.062; \tSigma^2 change:     0.006\n",
      "[=======                                                                 ]\n",
      "Iteration:3\n",
      "ML:-53904.790; \tML change (error):   136.303; \tSigma^2:     0.055; \tSigma^2 change:     0.007\n",
      "[==========                                                              ]\n",
      "Iteration:4\n",
      "ML:-54145.160; \tML change (error):   240.370; \tSigma^2:     0.046; \tSigma^2 change:     0.009\n",
      "[==============                                                          ]\n",
      "Iteration:5\n",
      "ML:-54550.253; \tML change (error):   405.093; \tSigma^2:     0.036; \tSigma^2 change:     0.010\n",
      "[==================                                                      ]\n",
      "Iteration:6\n",
      "ML:-55149.804; \tML change (error):   599.551; \tSigma^2:     0.027; \tSigma^2 change:     0.009\n",
      "[=====================                                                   ]\n",
      "Iteration:7\n",
      "ML:-55894.148; \tML change (error):   744.343; \tSigma^2:     0.019; \tSigma^2 change:     0.007\n",
      "[=========================                                               ]\n",
      "Iteration:8\n",
      "ML:-56707.199; \tML change (error):   813.051; \tSigma^2:     0.014; \tSigma^2 change:     0.006\n",
      "[============================                                            ]\n",
      "Iteration:9\n",
      "ML:-57549.325; \tML change (error):   842.126; \tSigma^2:     0.010; \tSigma^2 change:     0.004\n",
      "[================================                                        ]\n",
      "Iteration:10\n",
      "ML:-58400.735; \tML change (error):   851.410; \tSigma^2:     0.007; \tSigma^2 change:     0.003\n",
      "[====================================                                    ]\n",
      "Iteration:11\n",
      "ML:-59239.823; \tML change (error):   839.088; \tSigma^2:     0.005; \tSigma^2 change:     0.002\n",
      "[=======================================                                 ]\n",
      "Iteration:12\n",
      "ML:-60041.011; \tML change (error):   801.188; \tSigma^2:     0.003; \tSigma^2 change:     0.001\n",
      "[===========================================                             ]\n",
      "Iteration:13\n",
      "ML:-60781.282; \tML change (error):   740.271; \tSigma^2:     0.003; \tSigma^2 change:     0.001\n",
      "[==============================================                          ]\n",
      "Iteration:14\n",
      "ML:-61442.510; \tML change (error):   661.228; \tSigma^2:     0.002; \tSigma^2 change:     0.001\n",
      "[==================================================                      ]\n",
      "Iteration:15\n",
      "ML:-62011.400; \tML change (error):   568.890; \tSigma^2:     0.001; \tSigma^2 change:     0.000\n",
      "[======================================================                  ]\n",
      "Iteration:16\n",
      "ML:-62481.517; \tML change (error):   470.117; \tSigma^2:     0.001; \tSigma^2 change:     0.000\n",
      "[=========================================================               ]\n",
      "Iteration:17\n",
      "ML:-62853.311; \tML change (error):   371.794; \tSigma^2:     0.001; \tSigma^2 change:     0.000\n",
      "[=============================================================           ]\n",
      "Iteration:18\n",
      "ML:-63133.076; \tML change (error):   279.765; \tSigma^2:     0.001; \tSigma^2 change:     0.000\n",
      "[================================================================        ]\n",
      "Iteration:19\n",
      "ML:-63332.195; \tML change (error):   199.119; \tSigma^2:     0.001; \tSigma^2 change:     0.000\n",
      "[====================================================================    ]\n",
      "Iteration:20\n",
      "ML:-63465.777; \tML change (error):   133.582; \tSigma^2:     0.001; \tSigma^2 change:     0.000\n",
      "[========================================================================]\n",
      "========================================================================\n",
      "Registration Performance Metrics\n",
      "========================================================================\n",
      "Time to initialize EM: 0.07643413543701172\n",
      "Time to initialize registration: 0.00012874603271484375\n",
      "Average Expectation Time:                    0.5599 +/- 0.0552\n",
      "Average Maximization Time:                   0.0013 +/- 0.0008\n",
      "Maximization Times - Per individual step\n",
      "Average Update Transform Time:               0.0010 +/- 0.0008\n",
      "Average Transform Time:                      0.0001 +/- 0.0000\n",
      "Average Update Variance Time:                0.0002 +/- 0.0001\n",
      "\n",
      "Number of iterations performed:          20\n",
      "Error at time of finish:                 133.58220550302212\n",
      "========================================================================\n",
      "\n",
      "Non-Rigid (Deformable) Registration Beginning\n",
      "\n",
      "========================================================================\n",
      "Iteration:1\n",
      "ML:-50137.547; \tML change (error): 50137.547; \tSigma^2:     0.067; \tSigma^2 change:     0.105\n",
      "[===                                                                     ]\n",
      "Iteration:2\n",
      "ML:-53813.338; \tML change (error):  3675.791; \tSigma^2:     0.061; \tSigma^2 change:     0.007\n",
      "[=======                                                                 ]\n",
      "Iteration:3\n",
      "ML:-54012.022; \tML change (error):   198.684; \tSigma^2:     0.052; \tSigma^2 change:     0.008\n",
      "[==========                                                              ]\n",
      "Iteration:4\n",
      "ML:-54320.232; \tML change (error):   308.210; \tSigma^2:     0.043; \tSigma^2 change:     0.009\n",
      "[==============                                                          ]\n",
      "Iteration:5\n",
      "ML:-54772.351; \tML change (error):   452.119; \tSigma^2:     0.034; \tSigma^2 change:     0.009\n",
      "[==================                                                      ]\n",
      "Iteration:6\n",
      "ML:-55354.931; \tML change (error):   582.580; \tSigma^2:     0.026; \tSigma^2 change:     0.008\n",
      "[=====================                                                   ]\n",
      "Iteration:7\n",
      "ML:-56032.345; \tML change (error):   677.413; \tSigma^2:     0.019; \tSigma^2 change:     0.007\n",
      "[=========================                                               ]\n",
      "Iteration:8\n",
      "ML:-56810.305; \tML change (error):   777.961; \tSigma^2:     0.014; \tSigma^2 change:     0.005\n",
      "[============================                                            ]\n",
      "Iteration:9\n",
      "ML:-57713.575; \tML change (error):   903.269; \tSigma^2:     0.009; \tSigma^2 change:     0.004\n",
      "[================================                                        ]\n",
      "Iteration:10\n",
      "ML:-58715.969; \tML change (error):  1002.394; \tSigma^2:     0.006; \tSigma^2 change:     0.003\n",
      "[====================================                                    ]\n",
      "Iteration:11\n",
      "ML:-59758.047; \tML change (error):  1042.078; \tSigma^2:     0.004; \tSigma^2 change:     0.002\n",
      "[=======================================                                 ]\n",
      "Iteration:12\n",
      "ML:-60797.991; \tML change (error):  1039.944; \tSigma^2:     0.003; \tSigma^2 change:     0.001\n",
      "[===========================================                             ]\n",
      "Iteration:13\n",
      "ML:-61815.334; \tML change (error):  1017.343; \tSigma^2:     0.002; \tSigma^2 change:     0.001\n",
      "[==============================================                          ]\n",
      "Iteration:14\n",
      "ML:-62793.906; \tML change (error):   978.572; \tSigma^2:     0.001; \tSigma^2 change:     0.001\n",
      "[==================================================                      ]\n",
      "Iteration:15\n",
      "ML:-63720.198; \tML change (error):   926.292; \tSigma^2:     0.001; \tSigma^2 change:     0.000\n",
      "[======================================================                  ]\n",
      "Iteration:16\n",
      "ML:-64587.190; \tML change (error):   866.992; \tSigma^2:     0.001; \tSigma^2 change:     0.000\n",
      "[=========================================================               ]\n",
      "Iteration:17\n",
      "ML:-65391.173; \tML change (error):   803.983; \tSigma^2:     0.000; \tSigma^2 change:     0.000\n",
      "[=============================================================           ]\n",
      "Iteration:18\n",
      "ML:-66126.106; \tML change (error):   734.933; \tSigma^2:     0.000; \tSigma^2 change:     0.000\n",
      "[================================================================        ]\n"
     ]
    },
    {
     "name": "stdout",
     "output_type": "stream",
     "text": [
      "Iteration:19\n",
      "ML:-66779.170; \tML change (error):   653.063; \tSigma^2:     0.000; \tSigma^2 change:     0.000\n",
      "[====================================================================    ]\n",
      "Iteration:20\n",
      "ML:-67331.346; \tML change (error):   552.177; \tSigma^2:     0.000; \tSigma^2 change:     0.000\n",
      "[========================================================================]\n",
      "========================================================================\n",
      "Registration Performance Metrics\n",
      "========================================================================\n",
      "Time to initialize EM: 0.08394598960876465\n",
      "Time to initialize registration: 13.341288328170776\n",
      "Average Expectation Time:                    0.6060 +/- 0.0878\n",
      "Average Maximization Time:                   0.1300 +/- 0.0193\n",
      "Maximization Times - Per individual step\n",
      "Average Update Transform Time:               0.1289 +/- 0.0191\n",
      "Average Transform Time:                      0.0007 +/- 0.0004\n",
      "Average Update Variance Time:                0.0003 +/- 0.0001\n",
      "\n",
      "Number of iterations performed:          20\n",
      "Error at time of finish:                 552.1767731662403\n"
     ]
    }
   ],
   "source": [
    "reg.align_maps()"
   ]
  },
  {
   "cell_type": "markdown",
   "metadata": {},
   "source": [
    "## View the spectral coordinates"
   ]
  },
  {
   "cell_type": "code",
   "execution_count": 14,
   "metadata": {},
   "outputs": [
    {
     "data": {
      "application/vnd.jupyter.widget-view+json": {
       "model_id": "00294423013b411d872ab1b31fea2ae3",
       "version_major": 2,
       "version_minor": 0
      },
      "text/plain": [
       "Viewer(point_set_colors=array([[0.8392157 , 0.        , 0.        ],\n",
       "       [0.54901963, 0.23137255, 1.       …"
      ]
     },
     "metadata": {},
     "output_type": "display_data"
    }
   ],
   "source": [
    "reg.view_aligned_spectral_coords(include_rigid_aligned=True)"
   ]
  },
  {
   "cell_type": "code",
   "execution_count": null,
   "metadata": {},
   "outputs": [],
   "source": []
  }
 ],
 "metadata": {
  "kernelspec": {
   "display_name": "Python 3",
   "language": "python",
   "name": "python3"
  },
  "language_info": {
   "codemirror_mode": {
    "name": "ipython",
    "version": 3
   },
   "file_extension": ".py",
   "mimetype": "text/x-python",
   "name": "python",
   "nbconvert_exporter": "python",
   "pygments_lexer": "ipython3",
   "version": "3.7.6"
  }
 },
 "nbformat": 4,
 "nbformat_minor": 4
}
