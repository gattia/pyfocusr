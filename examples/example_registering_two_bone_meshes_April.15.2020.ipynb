{
 "cells": [
  {
   "cell_type": "code",
   "execution_count": 1,
   "metadata": {},
   "outputs": [],
   "source": [
    "import os\n",
    "\n",
    "import numpy as np\n",
    "import vtk\n",
    "from vtk.util.numpy_support import numpy_to_vtk, vtk_to_numpy\n",
    "\n",
    "import pyfocusr\n",
    "from pyfocusr.vtk_functions import read_vtk_mesh"
   ]
  },
  {
   "cell_type": "code",
   "execution_count": 2,
   "metadata": {},
   "outputs": [],
   "source": [
    "location_meshes = '../data/'\n",
    "target_filename = 'target_mesh.vtk'\n",
    "source_filename = 'source_mesh.vtk'\n",
    "\n",
    "target_vtk_mesh = read_vtk_mesh(os.path.join(location_meshes, target_filename))\n",
    "source_vtk_mesh = read_vtk_mesh(os.path.join(location_meshes, source_filename))"
   ]
  },
  {
   "cell_type": "code",
   "execution_count": 3,
   "metadata": {},
   "outputs": [],
   "source": [
    "reg = pyfocusr.Focusr(vtk_mesh_target=target_vtk_mesh, \n",
    "                      vtk_mesh_source=source_vtk_mesh,\n",
    "                      get_weighted_spectral_coords=True,\n",
    "                      rigid_reg_max_iterations=20,\n",
    "                      non_rigid_alpha=0.5,\n",
    "                      non_rigid_beta=3,\n",
    "                      non_rigid_max_iterations=20)"
   ]
  },
  {
   "cell_type": "markdown",
   "metadata": {},
   "source": [
    "### View mesh features"
   ]
  },
  {
   "cell_type": "code",
   "execution_count": 5,
   "metadata": {
    "scrolled": true
   },
   "outputs": [
    {
     "data": {
      "application/vnd.jupyter.widget-view+json": {
       "model_id": "9dbf46ef965a4b5ab4e0edc400d322f9",
       "version_major": 2,
       "version_minor": 0
      },
      "text/plain": [
       "Viewer(geometries=[{'vtkClass': 'vtkPolyData', 'points': {'vtkClass': 'vtkPoints', 'name': '_points', 'numberO…"
      ]
     },
     "metadata": {},
     "output_type": "display_data"
    }
   ],
   "source": [
    "reg.graph_source.view_mesh_features(feature_idx=1)"
   ]
  },
  {
   "cell_type": "markdown",
   "metadata": {},
   "source": [
    "### View un-ordered/corrected/weighted eigenvectors (spectral coordinates)"
   ]
  },
  {
   "cell_type": "markdown",
   "metadata": {},
   "source": [
    "#### Source Eigenvector 1"
   ]
  },
  {
   "cell_type": "code",
   "execution_count": 6,
   "metadata": {
    "scrolled": true
   },
   "outputs": [
    {
     "data": {
      "application/vnd.jupyter.widget-view+json": {
       "model_id": "1a46c079eacf4b6b8fab81d8bc1ffb3c",
       "version_major": 2,
       "version_minor": 0
      },
      "text/plain": [
       "Viewer(geometries=[{'vtkClass': 'vtkPolyData', 'points': {'vtkClass': 'vtkPoints', 'name': '_points', 'numberO…"
      ]
     },
     "metadata": {},
     "output_type": "display_data"
    }
   ],
   "source": [
    "reg.graph_source.view_mesh_eig_vec(eig_vec=0)"
   ]
  },
  {
   "cell_type": "markdown",
   "metadata": {},
   "source": [
    "#### Target Eigenvector 1"
   ]
  },
  {
   "cell_type": "code",
   "execution_count": 9,
   "metadata": {
    "scrolled": true
   },
   "outputs": [
    {
     "data": {
      "application/vnd.jupyter.widget-view+json": {
       "model_id": "16f810b269984594a5d1417e9bb65d4a",
       "version_major": 2,
       "version_minor": 0
      },
      "text/plain": [
       "Viewer(geometries=[{'vtkClass': 'vtkPolyData', 'points': {'vtkClass': 'vtkPoints', 'name': '_points', 'numberO…"
      ]
     },
     "metadata": {},
     "output_type": "display_data"
    }
   ],
   "source": [
    "reg.graph_target.view_mesh_eig_vec(eig_vec=0)"
   ]
  },
  {
   "cell_type": "markdown",
   "metadata": {},
   "source": [
    "# Notes about comparison: \n",
    "We note that the color gradient is the same (in the same direction) between the two meshes. However, the colours are flipped. This is because the direction of \"positive\" can be flipped from one mesh to another. This will (should) be corrected automatically before the registration begins. \n",
    "\n",
    "Note, the flipped nature of the spectral coordinates can/will be corrected in the algorithm. However, this only works because these are both of the same leg (right - as evident by the large side of the trochlear groove) and will likely faily/break if a left and right leg were analyzed. Therefore, all legs should be flipped to be the same side to \"fix\" things. "
   ]
  },
  {
   "cell_type": "code",
   "execution_count": null,
   "metadata": {},
   "outputs": [],
   "source": []
  },
  {
   "cell_type": "code",
   "execution_count": null,
   "metadata": {},
   "outputs": [],
   "source": []
  }
 ],
 "metadata": {
  "kernelspec": {
   "display_name": "Python 3",
   "language": "python",
   "name": "python3"
  },
  "language_info": {
   "codemirror_mode": {
    "name": "ipython",
    "version": 3
   },
   "file_extension": ".py",
   "mimetype": "text/x-python",
   "name": "python",
   "nbconvert_exporter": "python",
   "pygments_lexer": "ipython3",
   "version": "3.7.6"
  }
 },
 "nbformat": 4,
 "nbformat_minor": 4
}
