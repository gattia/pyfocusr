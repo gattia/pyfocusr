{
 "cells": [
  {
   "cell_type": "code",
   "execution_count": 1,
   "metadata": {},
   "outputs": [],
   "source": [
    "import os\n",
    "\n",
    "import numpy as np\n",
    "import vtk\n",
    "from vtk.util.numpy_support import numpy_to_vtk, vtk_to_numpy\n",
    "\n",
    "import pyfocusr\n",
    "from pyfocusr.vtk_functions import read_vtk_mesh"
   ]
  },
  {
   "cell_type": "code",
   "execution_count": 2,
   "metadata": {},
   "outputs": [],
   "source": [
    "location_meshes = '../data/'\n",
    "target_filename = 'target_mesh.vtk'\n",
    "source_filename = 'source_mesh.vtk'\n",
    "\n",
    "target_vtk_mesh = read_vtk_mesh(os.path.join(location_meshes, target_filename))\n",
    "source_vtk_mesh = read_vtk_mesh(os.path.join(location_meshes, source_filename))"
   ]
  },
  {
   "cell_type": "code",
   "execution_count": null,
   "metadata": {},
   "outputs": [],
   "source": []
  },
  {
   "cell_type": "code",
   "execution_count": 3,
   "metadata": {},
   "outputs": [],
   "source": [
    "reg = pyfocusr.Focusr(vtk_mesh_target=target_vtk_mesh, \n",
    "                      vtk_mesh_source=source_vtk_mesh,\n",
    "                      n_extra_spectral=3,\n",
    "                      get_weighted_spectral_coords=True,\n",
    "                      list_features_to_calc=['curvature'],\n",
    "                      rigid_reg_max_iterations=20,\n",
    "                      non_rigid_alpha=0.5,\n",
    "                      non_rigid_beta=3,\n",
    "                      non_rigid_max_iterations=20)"
   ]
  },
  {
   "cell_type": "markdown",
   "metadata": {},
   "source": [
    "### View mesh features"
   ]
  },
  {
   "cell_type": "code",
   "execution_count": 4,
   "metadata": {},
   "outputs": [
    {
     "data": {
      "text/plain": [
       "1.0"
      ]
     },
     "execution_count": 4,
     "metadata": {},
     "output_type": "execute_result"
    }
   ],
   "source": [
    "np.max(reg.graph_source.feature_weights[0])"
   ]
  },
  {
   "cell_type": "code",
   "execution_count": 5,
   "metadata": {
    "scrolled": true
   },
   "outputs": [
    {
     "data": {
      "application/vnd.jupyter.widget-view+json": {
       "model_id": "6588059d959b43a485e63a61cafb507c",
       "version_major": 2,
       "version_minor": 0
      },
      "text/plain": [
       "Viewer(geometries=[{'vtkClass': 'vtkPolyData', 'points': {'vtkClass': 'vtkPoints', 'name': '_points', 'numberO…"
      ]
     },
     "metadata": {},
     "output_type": "display_data"
    }
   ],
   "source": [
    "reg.graph_source.view_mesh_features(feature_idx=1)"
   ]
  },
  {
   "cell_type": "code",
   "execution_count": 6,
   "metadata": {},
   "outputs": [
    {
     "data": {
      "text/plain": [
       "array([0.00119529, 0.0015668 , 0.0021488 , 0.00365213, 0.00466326,\n",
       "       0.00542524])"
      ]
     },
     "execution_count": 6,
     "metadata": {},
     "output_type": "execute_result"
    }
   ],
   "source": [
    "reg.graph_source.eig_vals"
   ]
  },
  {
   "cell_type": "markdown",
   "metadata": {},
   "source": [
    "### View un-ordered/corrected/weighted eigenvectors (spectral coordinates)"
   ]
  },
  {
   "cell_type": "markdown",
   "metadata": {},
   "source": [
    "#### Source Eigenvector 1"
   ]
  },
  {
   "cell_type": "code",
   "execution_count": 7,
   "metadata": {},
   "outputs": [],
   "source": [
    "eig_vec = 0"
   ]
  },
  {
   "cell_type": "code",
   "execution_count": 8,
   "metadata": {
    "scrolled": true
   },
   "outputs": [
    {
     "data": {
      "application/vnd.jupyter.widget-view+json": {
       "model_id": "41d859d14dc84f4f9ec841f7528fe7c4",
       "version_major": 2,
       "version_minor": 0
      },
      "text/plain": [
       "Viewer(geometries=[{'vtkClass': 'vtkPolyData', 'points': {'vtkClass': 'vtkPoints', 'name': '_points', 'numberO…"
      ]
     },
     "metadata": {},
     "output_type": "display_data"
    }
   ],
   "source": [
    "reg.graph_source.view_mesh_eig_vec(eig_vec=eig_vec)"
   ]
  },
  {
   "cell_type": "markdown",
   "metadata": {},
   "source": [
    "#### Target Eigenvector 1"
   ]
  },
  {
   "cell_type": "code",
   "execution_count": 9,
   "metadata": {
    "scrolled": true
   },
   "outputs": [
    {
     "data": {
      "application/vnd.jupyter.widget-view+json": {
       "model_id": "d9de842c68604713b06ada5b1af4cc77",
       "version_major": 2,
       "version_minor": 0
      },
      "text/plain": [
       "Viewer(geometries=[{'vtkClass': 'vtkPolyData', 'points': {'vtkClass': 'vtkPoints', 'name': '_points', 'numberO…"
      ]
     },
     "metadata": {},
     "output_type": "display_data"
    }
   ],
   "source": [
    "reg.graph_target.view_mesh_eig_vec(eig_vec=eig_vec)"
   ]
  },
  {
   "cell_type": "markdown",
   "metadata": {},
   "source": [
    "# Notes about comparison: \n",
    "Depending on if we include features ('curvature') or not, we will get different results for these meshes. \n",
    "\n",
    "If we leave the list at `list_features_to_calc` as an empty list `[]` then: <br>\n",
    "We note that the color gradient is the same (in the same direction) between the two meshes. However, the colours are flipped. This is because the direction of \"positive\" can be flipped from one mesh to another. This will (should) be corrected automatically before the registration begins. \n",
    "\n",
    "If we include `'curvature'` in `list_features_to_calc` with `['curvature']` then: <br>\n",
    "We get eigenvectors that align in direction and orientation (at least for the first 3 (0, 1, 2). \n",
    "\n",
    "Note, the flipped nature of the spectral coordinates can/will be corrected in the algorithm (if it exists). However, this only works because these are both of the same leg (right - as evident by the large side of the trochlear groove) and will likely faily/break if a left and right leg were analyzed. Therefore, all legs should be flipped to be the same side to \"fix\" things. "
   ]
  },
  {
   "cell_type": "markdown",
   "metadata": {},
   "source": [
    "## Begin Registration\n",
    "This will print out the registration parameters/results as it goes. <br>\n",
    "- First it will print out the \"pairs\" of eigenvectors between the two meshes and which ones on the source were flipped to match the target eigenvectors. \n",
    "- Second it will print the rigid registration progress and ultimately the registration \"results\"/\"parameters\"\n",
    "- Third it will print the same for the non-rigid registration progress. \n"
   ]
  },
  {
   "cell_type": "code",
   "execution_count": 10,
   "metadata": {},
   "outputs": [
    {
     "name": "stdout",
     "output_type": "stream",
     "text": [
      "========================================================================\n",
      "Eigenvector Sorting Results\n",
      "\n",
      "The matches for eigenvectors were as follows:\n",
      "Target\t|  Source\n",
      "     0\t|  -0    \n",
      "     1\t|  -1    \n",
      "     2\t|  2     \n",
      "     3\t|  -3    \n",
      "     4\t|  4     \n",
      "     5\t|  5     \n",
      "*Negative source values means those eigenvectors were flipped*\n",
      "\n",
      "========================================================================\n",
      "\n",
      "Rigid Registration Beginning\n",
      "\n",
      "========================================================================\n",
      "Iteration:1\n",
      "ML:-57251.161; \tML change (error): 57251.161; \tSigma^2:     0.023; \tSigma^2 change:     0.055\n",
      "[===                                                                     ]\n",
      "Iteration:2\n",
      "ML:-62682.825; \tML change (error):  5431.664; \tSigma^2:     0.013; \tSigma^2 change:     0.010\n",
      "[=======                                                                 ]\n",
      "Iteration:3\n",
      "ML:-64615.042; \tML change (error):  1932.217; \tSigma^2:     0.008; \tSigma^2 change:     0.005\n",
      "[==========                                                              ]\n",
      "Iteration:4\n",
      "ML:-65997.974; \tML change (error):  1382.933; \tSigma^2:     0.006; \tSigma^2 change:     0.003\n",
      "[==============                                                          ]\n",
      "Iteration:5\n",
      "ML:-67117.095; \tML change (error):  1119.121; \tSigma^2:     0.004; \tSigma^2 change:     0.002\n",
      "[==================                                                      ]\n",
      "Iteration:6\n",
      "ML:-68072.262; \tML change (error):   955.168; \tSigma^2:     0.003; \tSigma^2 change:     0.001\n",
      "[=====================                                                   ]\n",
      "Iteration:7\n",
      "ML:-68897.670; \tML change (error):   825.408; \tSigma^2:     0.002; \tSigma^2 change:     0.001\n",
      "[=========================                                               ]\n",
      "Iteration:8\n",
      "ML:-69627.961; \tML change (error):   730.290; \tSigma^2:     0.001; \tSigma^2 change:     0.001\n",
      "[============================                                            ]\n",
      "Iteration:9\n",
      "ML:-70286.276; \tML change (error):   658.315; \tSigma^2:     0.001; \tSigma^2 change:     0.000\n",
      "[================================                                        ]\n",
      "Iteration:10\n",
      "ML:-70880.755; \tML change (error):   594.479; \tSigma^2:     0.001; \tSigma^2 change:     0.000\n",
      "[====================================                                    ]\n",
      "Iteration:11\n",
      "ML:-71411.188; \tML change (error):   530.433; \tSigma^2:     0.001; \tSigma^2 change:     0.000\n",
      "[=======================================                                 ]\n",
      "Iteration:12\n",
      "ML:-71875.454; \tML change (error):   464.266; \tSigma^2:     0.001; \tSigma^2 change:     0.000\n",
      "[===========================================                             ]\n",
      "Iteration:13\n",
      "ML:-72272.933; \tML change (error):   397.480; \tSigma^2:     0.000; \tSigma^2 change:     0.000\n",
      "[==============================================                          ]\n",
      "Iteration:14\n",
      "ML:-72605.309; \tML change (error):   332.376; \tSigma^2:     0.000; \tSigma^2 change:     0.000\n",
      "[==================================================                      ]\n",
      "Iteration:15\n",
      "ML:-72876.624; \tML change (error):   271.314; \tSigma^2:     0.000; \tSigma^2 change:     0.000\n",
      "[======================================================                  ]\n",
      "Iteration:16\n",
      "ML:-73092.896; \tML change (error):   216.272; \tSigma^2:     0.000; \tSigma^2 change:     0.000\n",
      "[=========================================================               ]\n",
      "Iteration:17\n",
      "ML:-73261.326; \tML change (error):   168.430; \tSigma^2:     0.000; \tSigma^2 change:     0.000\n",
      "[=============================================================           ]\n",
      "Iteration:18\n",
      "ML:-73389.553; \tML change (error):   128.226; \tSigma^2:     0.000; \tSigma^2 change:     0.000\n",
      "[================================================================        ]\n",
      "Iteration:19\n",
      "ML:-73485.097; \tML change (error):    95.545; \tSigma^2:     0.000; \tSigma^2 change:     0.000\n",
      "[====================================================================    ]\n",
      "Iteration:20\n",
      "ML:-73554.929; \tML change (error):    69.831; \tSigma^2:     0.000; \tSigma^2 change:     0.000\n",
      "[========================================================================]\n",
      "========================================================================\n",
      "Registration Performance Metrics\n",
      "========================================================================\n",
      "Time to initialize EM: 0.08199191093444824\n",
      "Time to initialize registration: 3.600120544433594e-05\n",
      "Average Expectation Time:                    0.5902 +/- 0.0357\n",
      "Average Maximization Time:                   0.0012 +/- 0.0006\n",
      "Maximization Times - Per individual step\n",
      "Average Update Transform Time:               0.0010 +/- 0.0006\n",
      "Average Transform Time:                      0.0001 +/- 0.0000\n",
      "Average Update Variance Time:                0.0001 +/- 0.0000\n",
      "\n",
      "Number of iterations performed:          20\n",
      "Error at time of finish:                 69.83129680310958\n",
      "========================================================================\n",
      "\n",
      "Non-Rigid (Deformable) Registration Beginning\n",
      "\n",
      "========================================================================\n",
      "Iteration:1\n",
      "ML:-57133.212; \tML change (error): 57133.212; \tSigma^2:     0.022; \tSigma^2 change:     0.058\n",
      "[===                                                                     ]\n",
      "Iteration:2\n",
      "ML:-63536.958; \tML change (error):  6403.746; \tSigma^2:     0.012; \tSigma^2 change:     0.010\n",
      "[=======                                                                 ]\n",
      "Iteration:3\n",
      "ML:-65423.810; \tML change (error):  1886.852; \tSigma^2:     0.009; \tSigma^2 change:     0.003\n",
      "[==========                                                              ]\n",
      "Iteration:4\n",
      "ML:-66104.737; \tML change (error):   680.928; \tSigma^2:     0.007; \tSigma^2 change:     0.001\n",
      "[==============                                                          ]\n",
      "Iteration:5\n",
      "ML:-66347.622; \tML change (error):   242.885; \tSigma^2:     0.007; \tSigma^2 change:     0.001\n",
      "[==================                                                      ]\n",
      "Iteration:6\n",
      "ML:-66533.359; \tML change (error):   185.737; \tSigma^2:     0.006; \tSigma^2 change:     0.001\n",
      "[=====================                                                   ]\n",
      "Iteration:7\n",
      "ML:-66878.389; \tML change (error):   345.030; \tSigma^2:     0.005; \tSigma^2 change:     0.001\n",
      "[=========================                                               ]\n",
      "Iteration:8\n",
      "ML:-67371.331; \tML change (error):   492.942; \tSigma^2:     0.004; \tSigma^2 change:     0.001\n",
      "[============================                                            ]\n",
      "Iteration:9\n",
      "ML:-67853.008; \tML change (error):   481.677; \tSigma^2:     0.003; \tSigma^2 change:     0.001\n",
      "[================================                                        ]\n",
      "Iteration:10\n",
      "ML:-68373.576; \tML change (error):   520.568; \tSigma^2:     0.003; \tSigma^2 change:     0.001\n",
      "[====================================                                    ]\n",
      "Iteration:11\n",
      "ML:-68952.999; \tML change (error):   579.424; \tSigma^2:     0.002; \tSigma^2 change:     0.001\n",
      "[=======================================                                 ]\n",
      "Iteration:12\n",
      "ML:-69574.227; \tML change (error):   621.228; \tSigma^2:     0.002; \tSigma^2 change:     0.001\n",
      "[===========================================                             ]\n",
      "Iteration:13\n",
      "ML:-70307.330; \tML change (error):   733.103; \tSigma^2:     0.001; \tSigma^2 change:     0.000\n",
      "[==============================================                          ]\n",
      "Iteration:14\n",
      "ML:-71140.267; \tML change (error):   832.937; \tSigma^2:     0.001; \tSigma^2 change:     0.000\n",
      "[==================================================                      ]\n",
      "Iteration:15\n",
      "ML:-72013.124; \tML change (error):   872.857; \tSigma^2:     0.001; \tSigma^2 change:     0.000\n",
      "[======================================================                  ]\n",
      "Iteration:16\n",
      "ML:-72892.059; \tML change (error):   878.935; \tSigma^2:     0.000; \tSigma^2 change:     0.000\n",
      "[=========================================================               ]\n",
      "Iteration:17\n",
      "ML:-73756.621; \tML change (error):   864.562; \tSigma^2:     0.000; \tSigma^2 change:     0.000\n",
      "[=============================================================           ]\n",
      "Iteration:18\n",
      "ML:-74586.116; \tML change (error):   829.495; \tSigma^2:     0.000; \tSigma^2 change:     0.000\n",
      "[================================================================        ]\n"
     ]
    },
    {
     "name": "stdout",
     "output_type": "stream",
     "text": [
      "Iteration:19\n",
      "ML:-75360.011; \tML change (error):   773.895; \tSigma^2:     0.000; \tSigma^2 change:     0.000\n",
      "[====================================================================    ]\n",
      "Iteration:20\n",
      "ML:-76061.089; \tML change (error):   701.078; \tSigma^2:     0.000; \tSigma^2 change:     0.000\n",
      "[========================================================================]\n",
      "========================================================================\n",
      "Registration Performance Metrics\n",
      "========================================================================\n",
      "Time to initialize EM: 0.07313323020935059\n",
      "Time to initialize registration: 13.44594693183899\n",
      "Average Expectation Time:                    0.5627 +/- 0.0351\n",
      "Average Maximization Time:                   0.1212 +/- 0.0078\n",
      "Maximization Times - Per individual step\n",
      "Average Update Transform Time:               0.1205 +/- 0.0077\n",
      "Average Transform Time:                      0.0005 +/- 0.0001\n",
      "Average Update Variance Time:                0.0003 +/- 0.0000\n",
      "\n",
      "Number of iterations performed:          20\n",
      "Error at time of finish:                 701.0782865399378\n"
     ]
    }
   ],
   "source": [
    "reg.align_maps()"
   ]
  },
  {
   "cell_type": "markdown",
   "metadata": {},
   "source": [
    "## View the spectral coordinates"
   ]
  },
  {
   "cell_type": "code",
   "execution_count": 11,
   "metadata": {},
   "outputs": [
    {
     "data": {
      "application/vnd.jupyter.widget-view+json": {
       "model_id": "73cc1f837a4148cda1f49e521485078e",
       "version_major": 2,
       "version_minor": 0
      },
      "text/plain": [
       "Viewer(point_set_colors=array([[0.8392157 , 0.        , 0.        ],\n",
       "       [0.54901963, 0.23137255, 1.       …"
      ]
     },
     "metadata": {},
     "output_type": "display_data"
    }
   ],
   "source": [
    "reg.view_aligned_spectral_coords(include_rigid_aligned=True)"
   ]
  },
  {
   "cell_type": "code",
   "execution_count": 12,
   "metadata": {},
   "outputs": [],
   "source": [
    "reg.calc_weighted_spectral_coords()"
   ]
  },
  {
   "cell_type": "code",
   "execution_count": 13,
   "metadata": {},
   "outputs": [
    {
     "data": {
      "text/plain": [
       "array([0.99765547, 0.33027713, 0.35306851])"
      ]
     },
     "execution_count": 13,
     "metadata": {},
     "output_type": "execute_result"
    }
   ],
   "source": [
    "reg.spec_weights"
   ]
  },
  {
   "cell_type": "code",
   "execution_count": null,
   "metadata": {},
   "outputs": [],
   "source": []
  }
 ],
 "metadata": {
  "kernelspec": {
   "display_name": "Python 3",
   "language": "python",
   "name": "python3"
  },
  "language_info": {
   "codemirror_mode": {
    "name": "ipython",
    "version": 3
   },
   "file_extension": ".py",
   "mimetype": "text/x-python",
   "name": "python",
   "nbconvert_exporter": "python",
   "pygments_lexer": "ipython3",
   "version": "3.7.6"
  }
 },
 "nbformat": 4,
 "nbformat_minor": 4
}
