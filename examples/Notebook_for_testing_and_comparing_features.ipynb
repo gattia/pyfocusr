{
 "cells": [
  {
   "cell_type": "markdown",
   "metadata": {},
   "source": [
    "Below is code written to look at features, their distributions, and to compare them and how they affect results. "
   ]
  },
  {
   "cell_type": "code",
   "execution_count": 1,
   "metadata": {},
   "outputs": [],
   "source": [
    "# import matplotlib.pyplot as plt\n"
   ]
  },
  {
   "cell_type": "code",
   "execution_count": 2,
   "metadata": {},
   "outputs": [],
   "source": [
    "# plt.hist(np.log(np.arange(1,100)))"
   ]
  },
  {
   "cell_type": "code",
   "execution_count": null,
   "metadata": {},
   "outputs": [],
   "source": []
  },
  {
   "cell_type": "code",
   "execution_count": 3,
   "metadata": {
    "scrolled": false
   },
   "outputs": [],
   "source": [
    "\n",
    "# feature = 1\n",
    "\n",
    "# target_node = np.copy(reg.graph_target.node_features[feature])\n",
    "# target_spectral = np.copy(reg.target_spectral_coords[:,feature+3])\n",
    "\n",
    "# plt.figure(figsize=(16,9))\n",
    "# plt.hist(target_node, bins=100)\n",
    "# plt.hist(target_spectral, bins=100)\n",
    "\n",
    "# target_node = np.log(target_node - np.min(target_node) + 10)\n",
    "# target_spectral = np.log(target_spectral - np.min(target_spectral) + 10)\n",
    "\n",
    "# plt.figure(figsize=(16,9))\n",
    "# plt.hist(target_node, bins=100)\n",
    "# plt.hist(target_spectral, bins=100)\n",
    "\n",
    "\n"
   ]
  },
  {
   "cell_type": "code",
   "execution_count": 4,
   "metadata": {},
   "outputs": [],
   "source": [
    "# mesh = reg.graph_target.vtk_mesh\n",
    "# # mesh.GetPointData().SetScalars(numpy_to_vtk(reg.graph_source.node_features[1]))\n",
    "# mesh.GetPointData().SetScalars(numpy_to_vtk(reg.target_spectral_coords[:,3]))\n",
    "\n",
    "\n",
    "# view(geometries=[mesh])"
   ]
  },
  {
   "cell_type": "code",
   "execution_count": 5,
   "metadata": {},
   "outputs": [],
   "source": [
    "# mesh = reg.graph_source.vtk_mesh\n",
    "# values = reg.source_spectral_coords[:,3]\n",
    "# values[values>4] = 4\n",
    "# values[values < -4] = -4\n",
    "# values += 10\n",
    "# values = np.log(values)\n",
    "# mesh.GetPointData().SetScalars(numpy_to_vtk(values))\n",
    "\n",
    "\n",
    "# view(geometries=[mesh])"
   ]
  },
  {
   "cell_type": "code",
   "execution_count": 6,
   "metadata": {},
   "outputs": [],
   "source": [
    "# mesh = reg.graph_target.vtk_mesh\n",
    "# values = np.copy(reg.graph_target.node_features[0])\n",
    "# values[values > 4] = 4\n",
    "# values[values < -4] = -4\n",
    "# values += 5\n",
    "# values = np.log(values)\n",
    "# # values = np.exp(values)\n",
    "# # values = np.square(values)\n",
    "# mesh.GetPointData().SetScalars(numpy_to_vtk(values))\n",
    "\n",
    "\n",
    "# view(geometries=[mesh])"
   ]
  },
  {
   "cell_type": "code",
   "execution_count": 7,
   "metadata": {},
   "outputs": [],
   "source": [
    "# mesh = reg.graph_target.vtk_mesh\n",
    "# values = np.copy(reg.graph_target.node_features[1])\n",
    "# values[values > 4] = 4\n",
    "# values[values < -4] = -4\n",
    "# # values += 5\n",
    "# # values = np.log(values)\n",
    "# # values -= values.min()\n",
    "# # values /= values.max()\n",
    "# # # values = np.exp(values)\n",
    "# # # values = np.square(values)\n",
    "# mesh.GetPointData().SetScalars(numpy_to_vtk(values))\n",
    "\n",
    "\n",
    "# view(geometries=[mesh])"
   ]
  },
  {
   "cell_type": "code",
   "execution_count": 8,
   "metadata": {},
   "outputs": [],
   "source": [
    "# mesh = reg.graph_target.vtk_mesh\n",
    "# values = np.copy(reg.graph_target.node_features[1])\n",
    "# values[values > 3] = 3\n",
    "# values[values < -3] = -3\n",
    "# values += 3.5\n",
    "# values = np.log(values)\n",
    "# values -= values.min()\n",
    "# values /= values.max()\n",
    "# # values = np.exp(values)\n",
    "# # values = np.square(values)\n",
    "# mesh.GetPointData().SetScalars(numpy_to_vtk(values))\n",
    "\n",
    "\n",
    "# view(geometries=[mesh])"
   ]
  },
  {
   "cell_type": "code",
   "execution_count": 9,
   "metadata": {},
   "outputs": [],
   "source": [
    "# mesh = reg.graph_source.vtk_mesh\n",
    "# values = np.copy(reg.graph_source.node_features[1])\n",
    "# values[values > 3] = 3\n",
    "# values[values < -3] = -3\n",
    "# values += 3.5\n",
    "# values = np.log(values)\n",
    "# values -= values.min()\n",
    "# values /= values.max()\n",
    "# mesh.GetPointData().SetScalars(numpy_to_vtk(values))\n",
    "\n",
    "\n",
    "# view(geometries=[mesh])"
   ]
  },
  {
   "cell_type": "code",
   "execution_count": 10,
   "metadata": {},
   "outputs": [],
   "source": [
    "# mesh = reg.graph_source.vtk_mesh\n",
    "# values = np.copy(reg.graph_source.node_features[0])\n",
    "# values[values > 3] = 3\n",
    "# values[values < -3] = -3\n",
    "# values += 4\n",
    "# values = np.log(values)\n",
    "# values -= values.min()\n",
    "# values /= values.max()\n",
    "# mesh.GetPointData().SetScalars(numpy_to_vtk(values))\n",
    "\n",
    "\n",
    "# view(geometries=[mesh])"
   ]
  },
  {
   "cell_type": "code",
   "execution_count": 11,
   "metadata": {},
   "outputs": [],
   "source": [
    "# mesh = reg.graph_source.vtk_mesh\n",
    "# values = np.copy(reg.graph_source.node_features[0])\n",
    "# values = values * -1\n",
    "# values[values > 3] = 3\n",
    "# values[values < -3] = -3\n",
    "# values += 3.5\n",
    "# values = np.log(values)\n",
    "# values -= values.min()\n",
    "# values /= values.max()\n",
    "# mesh.GetPointData().SetScalars(numpy_to_vtk(values))\n",
    "\n",
    "\n",
    "# view(geometries=[mesh])"
   ]
  },
  {
   "cell_type": "code",
   "execution_count": 12,
   "metadata": {},
   "outputs": [],
   "source": [
    "# mesh = reg.graph_source.vtk_mesh\n",
    "# values = np.copy(reg.graph_source.node_features[0])\n",
    "# values[values > 3] = 3\n",
    "# values[values < -3] = -3\n",
    "# values += 3.5\n",
    "# values = np.log(values)\n",
    "# values -= values.min()\n",
    "# values /= values.max()\n",
    "# mesh.GetPointData().SetScalars(numpy_to_vtk(values))\n",
    "\n",
    "\n",
    "# view(geometries=[mesh])"
   ]
  },
  {
   "cell_type": "code",
   "execution_count": null,
   "metadata": {},
   "outputs": [],
   "source": []
  },
  {
   "cell_type": "code",
   "execution_count": null,
   "metadata": {},
   "outputs": [],
   "source": []
  },
  {
   "cell_type": "code",
   "execution_count": null,
   "metadata": {},
   "outputs": [],
   "source": []
  }
 ],
 "metadata": {
  "kernelspec": {
   "display_name": "Python 3",
   "language": "python",
   "name": "python3"
  },
  "language_info": {
   "codemirror_mode": {
    "name": "ipython",
    "version": 3
   },
   "file_extension": ".py",
   "mimetype": "text/x-python",
   "name": "python",
   "nbconvert_exporter": "python",
   "pygments_lexer": "ipython3",
   "version": "3.7.6"
  }
 },
 "nbformat": 4,
 "nbformat_minor": 4
}
