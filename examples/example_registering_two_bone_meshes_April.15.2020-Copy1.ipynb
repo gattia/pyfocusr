{
 "cells": [
  {
   "cell_type": "code",
   "execution_count": 1,
   "metadata": {},
   "outputs": [],
   "source": [
    "import os\n",
    "\n",
    "import numpy as np\n",
    "import vtk\n",
    "from vtk.util.numpy_support import numpy_to_vtk, vtk_to_numpy\n",
    "\n",
    "import pyfocusr\n",
    "from pyfocusr.vtk_functions import read_vtk_mesh"
   ]
  },
  {
   "cell_type": "code",
   "execution_count": 2,
   "metadata": {},
   "outputs": [],
   "source": [
    "location_meshes = '../data/'\n",
    "n_points = '5k'\n",
    "\n",
    "if n_points == '5k':\n",
    "    target_filename = 'target_mesh.vtk'\n",
    "    source_filename = 'source_mesh.vtk'\n",
    "elif n_points == '15k':\n",
    "    target_filename = 'target_mesh_15k.vtk'\n",
    "    source_filename = 'source_mesh_15k.vtk'\n",
    "    \n",
    "target_vtk_mesh = read_vtk_mesh(os.path.join(location_meshes, target_filename))\n",
    "source_vtk_mesh = read_vtk_mesh(os.path.join(location_meshes, source_filename))"
   ]
  },
  {
   "cell_type": "markdown",
   "metadata": {},
   "source": [
    "Best results yet with: \n",
    "\n",
    "```\n",
    "reg = pyfocusr.Focusr(vtk_mesh_target=target_vtk_mesh, \n",
    "                      vtk_mesh_source=source_vtk_mesh,\n",
    "                      n_spectral_features=3,\n",
    "                      n_extra_spectral=3,\n",
    "                      get_weighted_spectral_coords=True,\n",
    "                      list_features_to_calc=['curvature'],\n",
    "                      rigid_reg_max_iterations=100,\n",
    "                      non_rigid_alpha=0.001,\n",
    "                      non_rigid_beta=4,\n",
    "                      non_rigid_n_eigens=100,\n",
    "                      non_rigid_max_iterations=300,\n",
    "                      rigid_before_non_rigid_reg=False,\n",
    "                      projection_smooth_iterations=40,\n",
    "                      graph_smoothing_iterations=300,\n",
    "                      include_points_as_features=True,\n",
    "                      norm_physical_and_spectral=True,\n",
    "                      feature_weights=np.diag([1,1]),\n",
    "                      n_coords_spectral_ordering=10000)\n",
    "```"
   ]
  },
  {
   "cell_type": "code",
   "execution_count": 3,
   "metadata": {},
   "outputs": [
    {
     "name": "stdout",
     "output_type": "stream",
     "text": [
      "Loaded Mesh 1\n",
      "building adjacency matrix\n",
      "building degree matrix\n",
      "starting to get laplacian matrix\n",
      "beginning eigen decomposition\n",
      "Computed spectrum 1\n",
      "Loaded Mesh 2\n",
      "building adjacency matrix\n",
      "building degree matrix\n",
      "starting to get laplacian matrix\n",
      "beginning eigen decomposition\n",
      "Computed spectrum 2\n"
     ]
    }
   ],
   "source": [
    "reg = pyfocusr.Focusr(vtk_mesh_target=target_vtk_mesh, \n",
    "                      vtk_mesh_source=source_vtk_mesh,\n",
    "                      n_spectral_features=3,\n",
    "                      n_extra_spectral=3,\n",
    "                      get_weighted_spectral_coords=True,\n",
    "                      list_features_to_calc=['curvature'],\n",
    "                      rigid_reg_max_iterations=100,\n",
    "                      non_rigid_alpha=0.001,\n",
    "                      non_rigid_beta=4,\n",
    "                      non_rigid_n_eigens=100,\n",
    "                      non_rigid_max_iterations=300,\n",
    "                      rigid_before_non_rigid_reg=False,\n",
    "                      projection_smooth_iterations=40,\n",
    "                      graph_smoothing_iterations=300,\n",
    "                      include_points_as_features=True,\n",
    "                      norm_physical_and_spectral=True,\n",
    "                      feature_weights=np.diag([1,1]),\n",
    "                      n_coords_spectral_ordering=10000)"
   ]
  },
  {
   "cell_type": "markdown",
   "metadata": {},
   "source": [
    "### View mesh features"
   ]
  },
  {
   "cell_type": "code",
   "execution_count": 4,
   "metadata": {
    "scrolled": true
   },
   "outputs": [],
   "source": [
    "# reg.graph_source.view_mesh_features(feature_idx=1)"
   ]
  },
  {
   "cell_type": "code",
   "execution_count": 5,
   "metadata": {},
   "outputs": [
    {
     "data": {
      "text/plain": [
       "array([0.00075626, 0.00101274, 0.00139415, 0.0023161 , 0.00301983,\n",
       "       0.00361393])"
      ]
     },
     "execution_count": 5,
     "metadata": {},
     "output_type": "execute_result"
    }
   ],
   "source": [
    "reg.graph_source.eig_vals"
   ]
  },
  {
   "cell_type": "markdown",
   "metadata": {},
   "source": [
    "### View un-ordered/corrected/weighted eigenvectors (spectral coordinates)"
   ]
  },
  {
   "cell_type": "markdown",
   "metadata": {},
   "source": [
    "#### Source Eigenvector 1"
   ]
  },
  {
   "cell_type": "code",
   "execution_count": 6,
   "metadata": {},
   "outputs": [],
   "source": [
    "eig_vec = 0"
   ]
  },
  {
   "cell_type": "code",
   "execution_count": 7,
   "metadata": {
    "scrolled": true
   },
   "outputs": [
    {
     "data": {
      "application/vnd.jupyter.widget-view+json": {
       "model_id": "85104957bb434e27b9e82043d2437871",
       "version_major": 2,
       "version_minor": 0
      },
      "text/plain": [
       "Viewer(geometries=[{'vtkClass': 'vtkPolyData', 'points': {'vtkClass': 'vtkPoints', 'name': '_points', 'numberO…"
      ]
     },
     "metadata": {},
     "output_type": "display_data"
    }
   ],
   "source": [
    "reg.graph_source.view_mesh_eig_vec(eig_vec=eig_vec)"
   ]
  },
  {
   "cell_type": "markdown",
   "metadata": {},
   "source": [
    "#### Target Eigenvector 1"
   ]
  },
  {
   "cell_type": "code",
   "execution_count": 8,
   "metadata": {
    "scrolled": true
   },
   "outputs": [
    {
     "data": {
      "application/vnd.jupyter.widget-view+json": {
       "model_id": "6871beb3a34147959509716122039aa5",
       "version_major": 2,
       "version_minor": 0
      },
      "text/plain": [
       "Viewer(geometries=[{'vtkClass': 'vtkPolyData', 'points': {'vtkClass': 'vtkPoints', 'name': '_points', 'numberO…"
      ]
     },
     "metadata": {},
     "output_type": "display_data"
    }
   ],
   "source": [
    "reg.graph_target.view_mesh_eig_vec(eig_vec=eig_vec)"
   ]
  },
  {
   "cell_type": "markdown",
   "metadata": {},
   "source": [
    "# Notes about comparison: \n",
    "Depending on if we include features ('curvature') or not, we will get different results for these meshes. \n",
    "\n",
    "If we leave the list at `list_features_to_calc` as an empty list `[]` then: <br>\n",
    "We note that the color gradient is the same (in the same direction) between the two meshes. However, the colours are flipped. This is because the direction of \"positive\" can be flipped from one mesh to another. This will (should) be corrected automatically before the registration begins. \n",
    "\n",
    "If we include `'curvature'` in `list_features_to_calc` with `['curvature']` then: <br>\n",
    "We get eigenvectors that align in direction and orientation (at least for the first 3 (0, 1, 2). \n",
    "\n",
    "Note, the flipped nature of the spectral coordinates can/will be corrected in the algorithm (if it exists). However, this only works because these are both of the same leg (right - as evident by the large side of the trochlear groove) and will likely faily/break if a left and right leg were analyzed. Therefore, all legs should be flipped to be the same side to \"fix\" things. "
   ]
  },
  {
   "cell_type": "markdown",
   "metadata": {},
   "source": [
    "## Begin Registration\n",
    "This will print out the registration parameters/results as it goes. <br>\n",
    "- First it will print out the \"pairs\" of eigenvectors between the two meshes and which ones on the source were flipped to match the target eigenvectors. \n",
    "- Second it will print the rigid registration progress and ultimately the registration \"results\"/\"parameters\"\n",
    "- Third it will print the same for the non-rigid registration progress. \n"
   ]
  },
  {
   "cell_type": "code",
   "execution_count": null,
   "metadata": {},
   "outputs": [
    {
     "name": "stdout",
     "output_type": "stream",
     "text": [
      "========================================================================\n",
      "Eigenvector Sorting Results\n",
      "\n",
      "The matches for eigenvectors were as follows:\n",
      "Target\t|  Source\n",
      "     0\t|  -0    \n",
      "     1\t|  -1    \n",
      "     2\t|  2     \n",
      "     3\t|  -3    \n",
      "     4\t|  -4    \n",
      "     5\t|  -5    \n",
      "*Negative source values means those eigenvectors were flipped*\n",
      "\n",
      "Appending Extra Features to Spectral Coords\n",
      "Number of features (including spectral) used for registartion: 8\n",
      "========================================================================\n",
      "\n",
      "Non-Rigid (Deformable) Registration Beginning\n",
      "\n",
      "========================================================================\n"
     ]
    }
   ],
   "source": [
    "reg.align_maps()"
   ]
  },
  {
   "cell_type": "markdown",
   "metadata": {},
   "source": [
    "## View the spectral coordinates"
   ]
  },
  {
   "cell_type": "code",
   "execution_count": null,
   "metadata": {},
   "outputs": [],
   "source": [
    "reg.view_aligned_spectral_coords(starting_spectral_coord=0, include_rigid_aligned=True, include_unaligned=True)"
   ]
  },
  {
   "cell_type": "code",
   "execution_count": null,
   "metadata": {},
   "outputs": [],
   "source": [
    "reg.view_meshes_colored_by_spectral_correspondences()"
   ]
  },
  {
   "cell_type": "code",
   "execution_count": null,
   "metadata": {},
   "outputs": [],
   "source": [
    "from itkwidgets import view"
   ]
  },
  {
   "cell_type": "code",
   "execution_count": null,
   "metadata": {},
   "outputs": [],
   "source": [
    "view(point_sets=[reg.smoothed_target_coords, reg.source_projected_on_target])"
   ]
  },
  {
   "cell_type": "code",
   "execution_count": null,
   "metadata": {},
   "outputs": [],
   "source": [
    "view(point_sets=[reg.source_projected_on_target])"
   ]
  },
  {
   "cell_type": "code",
   "execution_count": null,
   "metadata": {},
   "outputs": [],
   "source": [
    "len(np.unique(reg.corresponding_target_idx_for_each_source_pt))"
   ]
  },
  {
   "cell_type": "code",
   "execution_count": null,
   "metadata": {},
   "outputs": [],
   "source": [
    "len(np.unique(reg.corresponding_target_idx_for_each_source_pt))"
   ]
  },
  {
   "cell_type": "code",
   "execution_count": null,
   "metadata": {},
   "outputs": [],
   "source": [
    "reg.view_meshes_colored_by_spectral_correspondences()"
   ]
  },
  {
   "cell_type": "code",
   "execution_count": null,
   "metadata": {},
   "outputs": [],
   "source": []
  }
 ],
 "metadata": {
  "kernelspec": {
   "display_name": "Python 3",
   "language": "python",
   "name": "python3"
  },
  "language_info": {
   "codemirror_mode": {
    "name": "ipython",
    "version": 3
   },
   "file_extension": ".py",
   "mimetype": "text/x-python",
   "name": "python",
   "nbconvert_exporter": "python",
   "pygments_lexer": "ipython3",
   "version": "3.7.6"
  }
 },
 "nbformat": 4,
 "nbformat_minor": 4
}
