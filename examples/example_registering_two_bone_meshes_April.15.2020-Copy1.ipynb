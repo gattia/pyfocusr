{
 "cells": [
  {
   "cell_type": "code",
   "execution_count": 1,
   "metadata": {},
   "outputs": [],
   "source": [
    "import os\n",
    "\n",
    "import numpy as np\n",
    "import vtk\n",
    "from vtk.util.numpy_support import numpy_to_vtk, vtk_to_numpy\n",
    "\n",
    "import pyfocusr\n",
    "from pyfocusr.vtk_functions import read_vtk_mesh"
   ]
  },
  {
   "cell_type": "code",
   "execution_count": 2,
   "metadata": {},
   "outputs": [],
   "source": [
    "location_meshes = '../data/'\n",
    "target_filename = 'target_mesh_15k.vtk'\n",
    "source_filename = 'source_mesh_15k.vtk'\n",
    "\n",
    "target_vtk_mesh = read_vtk_mesh(os.path.join(location_meshes, target_filename))\n",
    "source_vtk_mesh = read_vtk_mesh(os.path.join(location_meshes, source_filename))"
   ]
  },
  {
   "cell_type": "code",
   "execution_count": null,
   "metadata": {},
   "outputs": [],
   "source": []
  },
  {
   "cell_type": "code",
   "execution_count": 3,
   "metadata": {},
   "outputs": [
    {
     "name": "stdout",
     "output_type": "stream",
     "text": [
      "Loaded Mesh 1\n",
      "building adjacency matrix\n",
      "building degree matrix\n",
      "starting to get laplacian matrix\n",
      "beginning eigen decomposition\n",
      "Loaded spectrum 1\n",
      "Loaded Mesh 2\n",
      "building adjacency matrix\n",
      "building degree matrix\n",
      "starting to get laplacian matrix\n",
      "beginning eigen decomposition\n",
      "Loaded spectrum 2\n"
     ]
    }
   ],
   "source": [
    "reg = pyfocusr.Focusr(vtk_mesh_target=target_vtk_mesh, \n",
    "                      vtk_mesh_source=source_vtk_mesh,\n",
    "                      n_spectral_features=3,\n",
    "                      n_extra_spectral=3,\n",
    "                      get_weighted_spectral_coords=True,\n",
    "                      list_features_to_calc=['curvature'],\n",
    "                      rigid_reg_max_iterations=100,\n",
    "                      non_rigid_alpha=0.001,\n",
    "                      non_rigid_beta=4,\n",
    "                      non_rigid_n_eigens=100,\n",
    "                      non_rigid_max_iterations=300,\n",
    "                      rigid_before_non_rigid_reg=False,\n",
    "                      projection_smooth_iterations=40,\n",
    "                      graph_smoothing_iterations=300,\n",
    "                      include_points_as_features=True,\n",
    "                      norm_physical_and_spectral=True,\n",
    "                      feature_weights=np.diag([1,1]),\n",
    "                      n_coords_spectral_matching=10000)"
   ]
  },
  {
   "cell_type": "markdown",
   "metadata": {},
   "source": [
    "### View mesh features"
   ]
  },
  {
   "cell_type": "code",
   "execution_count": 4,
   "metadata": {
    "scrolled": true
   },
   "outputs": [],
   "source": [
    "# reg.graph_source.view_mesh_features(feature_idx=1)"
   ]
  },
  {
   "cell_type": "code",
   "execution_count": 5,
   "metadata": {},
   "outputs": [
    {
     "data": {
      "text/plain": [
       "array([-8.72493831e-18,  3.87740912e-26,  2.72996443e-04,  4.43620877e-04,\n",
       "        5.59590844e-04,  8.95735352e-04])"
      ]
     },
     "execution_count": 5,
     "metadata": {},
     "output_type": "execute_result"
    }
   ],
   "source": [
    "reg.graph_source.eig_vals"
   ]
  },
  {
   "cell_type": "markdown",
   "metadata": {},
   "source": [
    "### View un-ordered/corrected/weighted eigenvectors (spectral coordinates)"
   ]
  },
  {
   "cell_type": "markdown",
   "metadata": {},
   "source": [
    "#### Source Eigenvector 1"
   ]
  },
  {
   "cell_type": "code",
   "execution_count": 6,
   "metadata": {},
   "outputs": [],
   "source": [
    "eig_vec = 0"
   ]
  },
  {
   "cell_type": "code",
   "execution_count": 7,
   "metadata": {
    "scrolled": true
   },
   "outputs": [
    {
     "data": {
      "application/vnd.jupyter.widget-view+json": {
       "model_id": "44f56479704e4ecc88b71f785e500d0c",
       "version_major": 2,
       "version_minor": 0
      },
      "text/plain": [
       "Viewer(geometries=[{'vtkClass': 'vtkPolyData', 'points': {'vtkClass': 'vtkPoints', 'name': '_points', 'numberO…"
      ]
     },
     "metadata": {},
     "output_type": "display_data"
    }
   ],
   "source": [
    "reg.graph_source.view_mesh_eig_vec(eig_vec=eig_vec)"
   ]
  },
  {
   "cell_type": "markdown",
   "metadata": {},
   "source": [
    "#### Target Eigenvector 1"
   ]
  },
  {
   "cell_type": "code",
   "execution_count": 8,
   "metadata": {
    "scrolled": true
   },
   "outputs": [
    {
     "data": {
      "application/vnd.jupyter.widget-view+json": {
       "model_id": "6e8c5745160848debf0ae0d40ba417ed",
       "version_major": 2,
       "version_minor": 0
      },
      "text/plain": [
       "Viewer(geometries=[{'vtkClass': 'vtkPolyData', 'points': {'vtkClass': 'vtkPoints', 'name': '_points', 'numberO…"
      ]
     },
     "metadata": {},
     "output_type": "display_data"
    }
   ],
   "source": [
    "reg.graph_target.view_mesh_eig_vec(eig_vec=eig_vec)"
   ]
  },
  {
   "cell_type": "markdown",
   "metadata": {},
   "source": [
    "# Notes about comparison: \n",
    "Depending on if we include features ('curvature') or not, we will get different results for these meshes. \n",
    "\n",
    "If we leave the list at `list_features_to_calc` as an empty list `[]` then: <br>\n",
    "We note that the color gradient is the same (in the same direction) between the two meshes. However, the colours are flipped. This is because the direction of \"positive\" can be flipped from one mesh to another. This will (should) be corrected automatically before the registration begins. \n",
    "\n",
    "If we include `'curvature'` in `list_features_to_calc` with `['curvature']` then: <br>\n",
    "We get eigenvectors that align in direction and orientation (at least for the first 3 (0, 1, 2). \n",
    "\n",
    "Note, the flipped nature of the spectral coordinates can/will be corrected in the algorithm (if it exists). However, this only works because these are both of the same leg (right - as evident by the large side of the trochlear groove) and will likely faily/break if a left and right leg were analyzed. Therefore, all legs should be flipped to be the same side to \"fix\" things. "
   ]
  },
  {
   "cell_type": "markdown",
   "metadata": {},
   "source": [
    "## Begin Registration\n",
    "This will print out the registration parameters/results as it goes. <br>\n",
    "- First it will print out the \"pairs\" of eigenvectors between the two meshes and which ones on the source were flipped to match the target eigenvectors. \n",
    "- Second it will print the rigid registration progress and ultimately the registration \"results\"/\"parameters\"\n",
    "- Third it will print the same for the non-rigid registration progress. \n"
   ]
  },
  {
   "cell_type": "code",
   "execution_count": 9,
   "metadata": {},
   "outputs": [
    {
     "name": "stdout",
     "output_type": "stream",
     "text": [
      "========================================================================\n",
      "Eigenvector Sorting Results\n",
      "\n",
      "The matches for eigenvectors were as follows:\n",
      "Target\t|  Source\n",
      "     0\t|  -0    \n",
      "     1\t|  -1    \n",
      "     2\t|  2     \n",
      "     3\t|  3     \n",
      "     4\t|  4     \n",
      "     5\t|  5     \n",
      "*Negative source values means those eigenvectors were flipped*\n",
      "\n",
      "Appending Extra Features to Spectral Coords\n",
      "Number of features (including spectral) used for registartion: 8\n",
      "========================================================================\n",
      "\n",
      "Non-Rigid (Deformable) Registration Beginning\n",
      "\n",
      "========================================================================\n",
      "Iteration:1\n",
      "ML:-258953.680; \tML change (error):258953.680; \tSigma^2:     0.023; \tSigma^2 change:     0.051\n",
      "[                                                                        ]\n",
      "Iteration:2\n",
      "ML:-312452.160; \tML change (error): 53498.480; \tSigma^2:     0.011; \tSigma^2 change:     0.012\n",
      "[                                                                        ]\n",
      "Iteration:3\n",
      "ML:-351284.580; \tML change (error): 38832.420; \tSigma^2:     0.004; \tSigma^2 change:     0.007\n",
      "[                                                                        ]\n",
      "Iteration:4\n",
      "ML:-395821.082; \tML change (error): 44536.502; \tSigma^2:     0.001; \tSigma^2 change:     0.003\n",
      "[                                                                        ]\n",
      "Iteration:5\n",
      "ML:-439017.685; \tML change (error): 43196.603; \tSigma^2:     0.001; \tSigma^2 change:     0.001\n",
      "[=                                                                       ]\n",
      "Iteration:6\n",
      "ML:-472453.258; \tML change (error): 33435.573; \tSigma^2:     0.000; \tSigma^2 change:     0.000\n",
      "[=                                                                       ]\n",
      "Iteration:7\n",
      "ML:-492504.380; \tML change (error): 20051.122; \tSigma^2:     0.000; \tSigma^2 change:     0.000\n",
      "[=                                                                       ]\n",
      "Iteration:8\n",
      "ML:-502415.449; \tML change (error):  9911.068; \tSigma^2:     0.000; \tSigma^2 change:     0.000\n",
      "[=                                                                       ]\n",
      "Iteration:9\n",
      "ML:-507323.744; \tML change (error):  4908.296; \tSigma^2:     0.000; \tSigma^2 change:     0.000\n",
      "[==                                                                      ]\n",
      "Iteration:10\n",
      "ML:-510086.757; \tML change (error):  2763.012; \tSigma^2:     0.000; \tSigma^2 change:     0.000\n",
      "[==                                                                      ]\n",
      "Iteration:11\n",
      "ML:-511867.826; \tML change (error):  1781.069; \tSigma^2:     0.000; \tSigma^2 change:     0.000\n",
      "[==                                                                      ]\n",
      "Iteration:12\n",
      "ML:-513163.391; \tML change (error):  1295.565; \tSigma^2:     0.000; \tSigma^2 change:     0.000\n",
      "[==                                                                      ]\n",
      "Iteration:13\n",
      "ML:-514186.612; \tML change (error):  1023.221; \tSigma^2:     0.000; \tSigma^2 change:     0.000\n",
      "[===                                                                     ]\n",
      "Iteration:14\n",
      "ML:-515048.540; \tML change (error):   861.928; \tSigma^2:     0.000; \tSigma^2 change:     0.000\n",
      "[===                                                                     ]\n",
      "Iteration:15\n",
      "ML:-515819.807; \tML change (error):   771.267; \tSigma^2:     0.000; \tSigma^2 change:     0.000\n",
      "[===                                                                     ]\n",
      "Iteration:16\n",
      "ML:-516521.655; \tML change (error):   701.848; \tSigma^2:     0.000; \tSigma^2 change:     0.000\n",
      "[===                                                                     ]\n",
      "Iteration:17\n",
      "ML:-517173.934; \tML change (error):   652.280; \tSigma^2:     0.000; \tSigma^2 change:     0.000\n",
      "[====                                                                    ]\n",
      "Iteration:18\n",
      "ML:-517786.322; \tML change (error):   612.388; \tSigma^2:     0.000; \tSigma^2 change:     0.000\n",
      "[====                                                                    ]\n",
      "Iteration:19\n",
      "ML:-518359.423; \tML change (error):   573.101; \tSigma^2:     0.000; \tSigma^2 change:     0.000\n",
      "[====                                                                    ]\n",
      "Iteration:20\n",
      "ML:-518898.436; \tML change (error):   539.013; \tSigma^2:     0.000; \tSigma^2 change:     0.000\n",
      "[====                                                                    ]\n",
      "Iteration:21\n",
      "ML:-519415.200; \tML change (error):   516.763; \tSigma^2:     0.000; \tSigma^2 change:     0.000\n",
      "[=====                                                                   ]\n",
      "Iteration:22\n",
      "ML:-519913.418; \tML change (error):   498.218; \tSigma^2:     0.000; \tSigma^2 change:     0.000\n",
      "[=====                                                                   ]\n",
      "Iteration:23\n",
      "ML:-520395.075; \tML change (error):   481.657; \tSigma^2:     0.000; \tSigma^2 change:     0.000\n",
      "[=====                                                                   ]\n",
      "Iteration:24\n",
      "ML:-520850.656; \tML change (error):   455.581; \tSigma^2:     0.000; \tSigma^2 change:     0.000\n",
      "[=====                                                                   ]\n",
      "Iteration:25\n",
      "ML:-521286.111; \tML change (error):   435.455; \tSigma^2:     0.000; \tSigma^2 change:     0.000\n",
      "[======                                                                  ]\n",
      "Iteration:26\n",
      "ML:-521704.185; \tML change (error):   418.074; \tSigma^2:     0.000; \tSigma^2 change:     0.000\n",
      "[======                                                                  ]\n",
      "Iteration:27\n",
      "ML:-522113.946; \tML change (error):   409.762; \tSigma^2:     0.000; \tSigma^2 change:     0.000\n",
      "[======                                                                  ]\n",
      "Iteration:28\n",
      "ML:-522510.304; \tML change (error):   396.358; \tSigma^2:     0.000; \tSigma^2 change:     0.000\n",
      "[======                                                                  ]\n",
      "Iteration:29\n",
      "ML:-522895.115; \tML change (error):   384.810; \tSigma^2:     0.000; \tSigma^2 change:     0.000\n",
      "[======                                                                  ]\n",
      "Iteration:30\n",
      "ML:-523270.383; \tML change (error):   375.268; \tSigma^2:     0.000; \tSigma^2 change:     0.000\n",
      "[=======                                                                 ]\n",
      "Iteration:31\n",
      "ML:-523635.316; \tML change (error):   364.933; \tSigma^2:     0.000; \tSigma^2 change:     0.000\n",
      "[=======                                                                 ]\n",
      "Iteration:32\n",
      "ML:-523988.484; \tML change (error):   353.168; \tSigma^2:     0.000; \tSigma^2 change:     0.000\n",
      "[=======                                                                 ]\n",
      "Iteration:33\n",
      "ML:-524327.802; \tML change (error):   339.318; \tSigma^2:     0.000; \tSigma^2 change:     0.000\n",
      "[=======                                                                 ]\n",
      "Iteration:34\n",
      "ML:-524660.428; \tML change (error):   332.626; \tSigma^2:     0.000; \tSigma^2 change:     0.000\n",
      "[========                                                                ]\n",
      "Iteration:35\n",
      "ML:-524985.159; \tML change (error):   324.731; \tSigma^2:     0.000; \tSigma^2 change:     0.000\n",
      "[========                                                                ]\n",
      "Iteration:36\n",
      "ML:-525301.547; \tML change (error):   316.388; \tSigma^2:     0.000; \tSigma^2 change:     0.000\n",
      "[========                                                                ]\n",
      "Iteration:37\n",
      "ML:-525609.893; \tML change (error):   308.346; \tSigma^2:     0.000; \tSigma^2 change:     0.000\n",
      "[========                                                                ]\n",
      "Iteration:38\n",
      "ML:-525910.732; \tML change (error):   300.840; \tSigma^2:     0.000; \tSigma^2 change:     0.000\n",
      "[=========                                                               ]\n",
      "Iteration:39\n",
      "ML:-526201.985; \tML change (error):   291.253; \tSigma^2:     0.000; \tSigma^2 change:     0.000\n",
      "[=========                                                               ]\n",
      "Iteration:40\n",
      "ML:-526482.221; \tML change (error):   280.235; \tSigma^2:     0.000; \tSigma^2 change:     0.000\n",
      "[=========                                                               ]\n",
      "Iteration:41\n",
      "ML:-526751.133; \tML change (error):   268.912; \tSigma^2:     0.000; \tSigma^2 change:     0.000\n",
      "[=========                                                               ]\n",
      "Iteration:42\n",
      "ML:-527010.064; \tML change (error):   258.931; \tSigma^2:     0.000; \tSigma^2 change:     0.000\n",
      "[==========                                                              ]\n"
     ]
    },
    {
     "name": "stdout",
     "output_type": "stream",
     "text": [
      "Iteration:43\n",
      "ML:-527262.989; \tML change (error):   252.925; \tSigma^2:     0.000; \tSigma^2 change:     0.000\n",
      "[==========                                                              ]\n",
      "Iteration:44\n",
      "ML:-527511.834; \tML change (error):   248.845; \tSigma^2:     0.000; \tSigma^2 change:     0.000\n",
      "[==========                                                              ]\n",
      "Iteration:45\n",
      "ML:-527758.069; \tML change (error):   246.235; \tSigma^2:     0.000; \tSigma^2 change:     0.000\n",
      "[==========                                                              ]\n",
      "Iteration:46\n",
      "ML:-527999.316; \tML change (error):   241.246; \tSigma^2:     0.000; \tSigma^2 change:     0.000\n",
      "[===========                                                             ]\n",
      "Iteration:47\n",
      "ML:       nan; \tML change (error):       nan; \tSigma^2:       nan; \tSigma^2 change:       nan\n",
      "[===========                                                             ]\n",
      "========================================================================\n",
      "Registration Performance Metrics\n",
      "========================================================================\n",
      "Time to initialize EM: 1.6878750324249268\n",
      "Time to initialize registration: 862.896222114563\n",
      "Average Expectation Time:                    5.3248 +/- 0.8037\n",
      "Average Maximization Time:                   0.9522 +/- 0.0346\n",
      "Maximization Times - Per individual step\n",
      "Average Update Transform Time:               0.9487 +/- 0.0343\n",
      "Average Transform Time:                      0.0021 +/- 0.0004\n",
      "Average Update Variance Time:                0.0014 +/- 0.0015\n",
      "\n",
      "Number of iterations performed:          47\n",
      "Error at time of finish:                 nan\n"
     ]
    },
    {
     "ename": "IndexError",
     "evalue": "index 14998 is out of bounds for axis 0 with size 14998",
     "output_type": "error",
     "traceback": [
      "\u001b[0;31m---------------------------------------------------------------------------\u001b[0m",
      "\u001b[0;31mIndexError\u001b[0m                                Traceback (most recent call last)",
      "\u001b[0;32m<ipython-input-9-796a4f10423b>\u001b[0m in \u001b[0;36m<module>\u001b[0;34m\u001b[0m\n\u001b[0;32m----> 1\u001b[0;31m \u001b[0mreg\u001b[0m\u001b[0;34m.\u001b[0m\u001b[0malign_maps\u001b[0m\u001b[0;34m(\u001b[0m\u001b[0;34m)\u001b[0m\u001b[0;34m\u001b[0m\u001b[0;34m\u001b[0m\u001b[0m\n\u001b[0m",
      "\u001b[0;32m/anaconda3/envs/pyns/lib/python3.7/site-packages/pyfocusr-0.0.1-py3.7.egg/pyfocusr/focusr.py\u001b[0m in \u001b[0;36malign_maps\u001b[0;34m(self)\u001b[0m\n\u001b[1;32m    405\u001b[0m         \u001b[0mself\u001b[0m\u001b[0;34m.\u001b[0m\u001b[0mget_initial_correspondences\u001b[0m\u001b[0;34m(\u001b[0m\u001b[0;34m)\u001b[0m\u001b[0;34m\u001b[0m\u001b[0;34m\u001b[0m\u001b[0m\n\u001b[1;32m    406\u001b[0m         \u001b[0;32mif\u001b[0m \u001b[0mself\u001b[0m\u001b[0;34m.\u001b[0m\u001b[0msmooth_correspondences\u001b[0m \u001b[0;32mis\u001b[0m \u001b[0;32mTrue\u001b[0m\u001b[0;34m:\u001b[0m\u001b[0;34m\u001b[0m\u001b[0;34m\u001b[0m\u001b[0m\n\u001b[0;32m--> 407\u001b[0;31m             \u001b[0mself\u001b[0m\u001b[0;34m.\u001b[0m\u001b[0mget_smoothed_correspondences\u001b[0m\u001b[0;34m(\u001b[0m\u001b[0;34m)\u001b[0m\u001b[0;34m\u001b[0m\u001b[0;34m\u001b[0m\u001b[0m\n\u001b[0m\u001b[1;32m    408\u001b[0m \u001b[0;34m\u001b[0m\u001b[0m\n\u001b[1;32m    409\u001b[0m         \u001b[0;32mreturn\u001b[0m \u001b[0mself\u001b[0m\u001b[0;34m.\u001b[0m\u001b[0mcorresponding_target_idx_for_each_source_pt\u001b[0m\u001b[0;34m\u001b[0m\u001b[0;34m\u001b[0m\u001b[0m\n",
      "\u001b[0;32m/anaconda3/envs/pyns/lib/python3.7/site-packages/pyfocusr-0.0.1-py3.7.egg/pyfocusr/focusr.py\u001b[0m in \u001b[0;36mget_smoothed_correspondences\u001b[0;34m(self)\u001b[0m\n\u001b[1;32m    425\u001b[0m         \u001b[0;31m# the spectral coordinates of the target mesh) and we smooth these vertices/values using the adjacency/degree\u001b[0m\u001b[0;34m\u001b[0m\u001b[0;34m\u001b[0m\u001b[0;34m\u001b[0m\u001b[0m\n\u001b[1;32m    426\u001b[0m         \u001b[0;31m# matrix of the source mesh. I.e. the target mesh coordinates are smoothed on the surface of the source mesh.\u001b[0m\u001b[0;34m\u001b[0m\u001b[0;34m\u001b[0m\u001b[0;34m\u001b[0m\u001b[0m\n\u001b[0;32m--> 427\u001b[0;31m         self.source_projected_on_target = self.graph_source.mean_filter_graph(self.smoothed_target_coords[self.corresponding_target_idx_for_each_source_pt, :],\n\u001b[0m\u001b[1;32m    428\u001b[0m                                                                               iterations=self.projection_smooth_iterations)\n\u001b[1;32m    429\u001b[0m         \u001b[0mtree\u001b[0m \u001b[0;34m=\u001b[0m \u001b[0mKDTree\u001b[0m\u001b[0;34m(\u001b[0m\u001b[0mself\u001b[0m\u001b[0;34m.\u001b[0m\u001b[0msmoothed_target_coords\u001b[0m\u001b[0;34m)\u001b[0m\u001b[0;34m\u001b[0m\u001b[0;34m\u001b[0m\u001b[0m\n",
      "\u001b[0;31mIndexError\u001b[0m: index 14998 is out of bounds for axis 0 with size 14998"
     ]
    }
   ],
   "source": [
    "reg.align_maps()"
   ]
  },
  {
   "cell_type": "markdown",
   "metadata": {},
   "source": [
    "## View the spectral coordinates"
   ]
  },
  {
   "cell_type": "code",
   "execution_count": null,
   "metadata": {},
   "outputs": [],
   "source": [
    "reg.view_aligned_spectral_coords(starting_spectral_coord=0, include_rigid_aligned=True, include_unaligned=True)"
   ]
  },
  {
   "cell_type": "code",
   "execution_count": null,
   "metadata": {},
   "outputs": [],
   "source": [
    "reg.view_meshes_colored_by_spectral_correspondences()"
   ]
  },
  {
   "cell_type": "code",
   "execution_count": null,
   "metadata": {},
   "outputs": [],
   "source": [
    "from itkwidgets import view"
   ]
  },
  {
   "cell_type": "code",
   "execution_count": null,
   "metadata": {},
   "outputs": [],
   "source": [
    "view(point_sets=[reg.smoothed_target_coords, reg.source_projected_on_target])"
   ]
  },
  {
   "cell_type": "code",
   "execution_count": null,
   "metadata": {},
   "outputs": [],
   "source": [
    "view(point_sets=[reg.source_projected_on_target])"
   ]
  },
  {
   "cell_type": "code",
   "execution_count": null,
   "metadata": {},
   "outputs": [],
   "source": [
    "len(np.unique(reg.corresponding_target_idx_for_each_source_pt))"
   ]
  },
  {
   "cell_type": "code",
   "execution_count": null,
   "metadata": {},
   "outputs": [],
   "source": [
    "len(np.unique(reg.corresponding_target_idx_for_each_source_pt))"
   ]
  },
  {
   "cell_type": "code",
   "execution_count": null,
   "metadata": {},
   "outputs": [],
   "source": [
    "reg.view_meshes_colored_by_spectral_correspondences()"
   ]
  },
  {
   "cell_type": "code",
   "execution_count": null,
   "metadata": {},
   "outputs": [],
   "source": []
  }
 ],
 "metadata": {
  "kernelspec": {
   "display_name": "Python 3",
   "language": "python",
   "name": "python3"
  },
  "language_info": {
   "codemirror_mode": {
    "name": "ipython",
    "version": 3
   },
   "file_extension": ".py",
   "mimetype": "text/x-python",
   "name": "python",
   "nbconvert_exporter": "python",
   "pygments_lexer": "ipython3",
   "version": "3.7.6"
  }
 },
 "nbformat": 4,
 "nbformat_minor": 4
}
