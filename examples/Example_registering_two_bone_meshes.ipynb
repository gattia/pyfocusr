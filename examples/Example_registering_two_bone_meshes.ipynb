{
 "cells": [
  {
   "cell_type": "code",
   "execution_count": 1,
   "metadata": {},
   "outputs": [],
   "source": [
    "import os\n",
    "\n",
    "import numpy as np\n",
    "import vtk\n",
    "from vtk.util.numpy_support import numpy_to_vtk, vtk_to_numpy\n",
    "\n",
    "import pyfocusr\n",
    "from pyfocusr.vtk_functions import read_vtk_mesh"
   ]
  },
  {
   "cell_type": "code",
   "execution_count": 2,
   "metadata": {},
   "outputs": [],
   "source": [
    "location_meshes = '../data/'\n",
    "n_points = '5k'\n",
    "\n",
    "if n_points == '5k':\n",
    "    target_filename = 'target_mesh.vtk'\n",
    "    source_filename = 'source_mesh.vtk'\n",
    "elif n_points == '15k':\n",
    "    target_filename = 'target_mesh_15k.vtk'\n",
    "    source_filename = 'source_mesh_15k.vtk'\n",
    "    \n",
    "target_vtk_mesh = read_vtk_mesh(os.path.join(location_meshes, target_filename))\n",
    "source_vtk_mesh = read_vtk_mesh(os.path.join(location_meshes, source_filename))"
   ]
  },
  {
   "cell_type": "markdown",
   "metadata": {},
   "source": [
    "Best results yet with: \n",
    "\n",
    "```\n",
    "reg = pyfocusr.Focusr(vtk_mesh_target=target_vtk_mesh, \n",
    "                      vtk_mesh_source=source_vtk_mesh,\n",
    "                      n_spectral_features=3,\n",
    "                      n_extra_spectral=3,\n",
    "                      get_weighted_spectral_coords=True,\n",
    "                      list_features_to_calc=['curvature'],\n",
    "                      rigid_reg_max_iterations=100,\n",
    "                      non_rigid_alpha=0.001,\n",
    "                      non_rigid_beta=4,\n",
    "                      non_rigid_n_eigens=100,\n",
    "                      non_rigid_max_iterations=300,\n",
    "                      rigid_before_non_rigid_reg=False,\n",
    "                      projection_smooth_iterations=40,\n",
    "                      graph_smoothing_iterations=300,\n",
    "                      include_points_as_features=True,\n",
    "                      norm_physical_and_spectral=True,\n",
    "                      feature_weights=np.diag([1,1]),\n",
    "                      n_coords_spectral_ordering=10000)\n",
    "```"
   ]
  },
  {
   "cell_type": "code",
   "execution_count": 3,
   "metadata": {},
   "outputs": [
    {
     "name": "stdout",
     "output_type": "stream",
     "text": [
      "Loaded Mesh 1\n",
      "Beginning Eigen Decomposition\n",
      "Eigen values are: \n",
      "[-3.98708395e-18  8.39246263e-04  1.63007145e-03  2.12549101e-03\n",
      "  3.13941439e-03  3.77495258e-03  4.01682329e-03]\n",
      "Computed spectrum 1\n",
      "Loaded Mesh 2\n",
      "Beginning Eigen Decomposition\n",
      "Eigen values are: \n",
      "[-9.19459446e-18  8.31236570e-04  1.64152416e-03  2.11362458e-03\n",
      "  3.09029787e-03  3.88535401e-03  3.92405051e-03]\n",
      "Computed spectrum 2\n"
     ]
    }
   ],
   "source": [
    "reg = pyfocusr.Focusr(vtk_mesh_target=target_vtk_mesh, \n",
    "                      vtk_mesh_source=source_vtk_mesh,\n",
    "                      n_spectral_features=3,\n",
    "                      n_extra_spectral=3,\n",
    "                      get_weighted_spectral_coords=False,\n",
    "                      list_features_to_calc=[], # 'curvatures', min_curvature' 'max_curvature'\n",
    "                      rigid_reg_max_iterations=100,\n",
    "                      non_rigid_alpha=0.01,\n",
    "                      non_rigid_beta=50,\n",
    "                      non_rigid_n_eigens=100,\n",
    "                      non_rigid_max_iterations=300,\n",
    "                      rigid_before_non_rigid_reg=False,\n",
    "                      projection_smooth_iterations=40,\n",
    "                      graph_smoothing_iterations=600,\n",
    "                      feature_smoothing_iterations=1,\n",
    "                      include_points_as_features=False,\n",
    "                      norm_physical_and_spectral=True,\n",
    "                      feature_weights=np.diag([.1,.1]),\n",
    "                      n_coords_spectral_ordering=10000,\n",
    "                      n_coords_spectral_registration=1000,\n",
    "                      initial_correspondence_type='hungarian',\n",
    "                      final_correspondence_type='kd')  #'kd' 'hungarian'"
   ]
  },
  {
   "cell_type": "markdown",
   "metadata": {},
   "source": [
    "### View mesh features"
   ]
  },
  {
   "cell_type": "code",
   "execution_count": 4,
   "metadata": {},
   "outputs": [
    {
     "data": {
      "text/plain": [
       "array([0.00083124, 0.00164152, 0.00211362, 0.0030903 , 0.00388535,\n",
       "       0.00392405])"
      ]
     },
     "execution_count": 4,
     "metadata": {},
     "output_type": "execute_result"
    }
   ],
   "source": [
    "reg.graph_source.eig_vals"
   ]
  },
  {
   "cell_type": "markdown",
   "metadata": {},
   "source": [
    "### View un-ordered/corrected/weighted eigenvectors (spectral coordinates)"
   ]
  },
  {
   "cell_type": "markdown",
   "metadata": {},
   "source": [
    "#### Source Eigenvector 1"
   ]
  },
  {
   "cell_type": "code",
   "execution_count": 5,
   "metadata": {},
   "outputs": [],
   "source": [
    "eig_vec = 0"
   ]
  },
  {
   "cell_type": "code",
   "execution_count": 6,
   "metadata": {
    "scrolled": true
   },
   "outputs": [
    {
     "data": {
      "application/vnd.jupyter.widget-view+json": {
       "model_id": "0336fcc10d0f450b9e8f657ab44100b5",
       "version_major": 2,
       "version_minor": 0
      },
      "text/plain": [
       "Viewer(geometries=[{'vtkClass': 'vtkPolyData', 'points': {'vtkClass': 'vtkPoints', 'name': '_points', 'numberO…"
      ]
     },
     "metadata": {},
     "output_type": "display_data"
    }
   ],
   "source": [
    "reg.graph_source.view_mesh_eig_vec(eig_vec=eig_vec)"
   ]
  },
  {
   "cell_type": "markdown",
   "metadata": {},
   "source": [
    "#### Target Eigenvector 1"
   ]
  },
  {
   "cell_type": "code",
   "execution_count": 7,
   "metadata": {
    "scrolled": true
   },
   "outputs": [
    {
     "data": {
      "application/vnd.jupyter.widget-view+json": {
       "model_id": "ede6ab1b900a4715aaa4bc8f0f83cd4a",
       "version_major": 2,
       "version_minor": 0
      },
      "text/plain": [
       "Viewer(geometries=[{'vtkClass': 'vtkPolyData', 'points': {'vtkClass': 'vtkPoints', 'name': '_points', 'numberO…"
      ]
     },
     "metadata": {},
     "output_type": "display_data"
    }
   ],
   "source": [
    "reg.graph_target.view_mesh_eig_vec(eig_vec=eig_vec)"
   ]
  },
  {
   "cell_type": "markdown",
   "metadata": {},
   "source": [
    "# Notes about comparison: \n",
    "Depending on if we include features ('curvature') or not, we will get different results for these meshes. \n",
    "\n",
    "If we leave the list at `list_features_to_calc` as an empty list `[]` then: <br>\n",
    "We note that the color gradient is the same (in the same direction) between the two meshes. However, the colours are flipped. This is because the direction of \"positive\" can be flipped from one mesh to another. This will (should) be corrected automatically before the registration begins. \n",
    "\n",
    "If we include `'curvature'` in `list_features_to_calc` with `['curvature']` then: <br>\n",
    "We get eigenvectors that align in direction and orientation (at least for the first 3 (0, 1, 2). \n",
    "\n",
    "Note, the flipped nature of the spectral coordinates can/will be corrected in the algorithm (if it exists). However, this only works because these are both of the same leg (right - as evident by the large side of the trochlear groove) and will likely faily/break if a left and right leg were analyzed. Therefore, all legs should be flipped to be the same side to \"fix\" things. "
   ]
  },
  {
   "cell_type": "markdown",
   "metadata": {},
   "source": [
    "## Begin Registration\n",
    "This will print out the registration parameters/results as it goes. <br>\n",
    "- First it will print out the \"pairs\" of eigenvectors between the two meshes and which ones on the source were flipped to match the target eigenvectors. \n",
    "- Second it will print the rigid registration progress and ultimately the registration \"results\"/\"parameters\"\n",
    "- Third it will print the same for the non-rigid registration progress. \n"
   ]
  },
  {
   "cell_type": "code",
   "execution_count": 8,
   "metadata": {},
   "outputs": [
    {
     "name": "stdout",
     "output_type": "stream",
     "text": [
      "========================================================================\n",
      "\n",
      "Eigenvector Sorting Results\n",
      "\n",
      "========================================================================\n",
      "The matches for eigenvectors were as follows:\n",
      "Target\t|  Source\n",
      "     0\t|  0     \n",
      "     1\t|  1     \n",
      "     2\t|  -2    \n",
      "     3\t|  3     \n",
      "     4\t|  -4    \n",
      "     5\t|  5     \n",
      "*Negative source values means those eigenvectors were flipped*\n",
      " \n",
      "Number of features (including spectral) used for registartion: 3\n",
      "========================================================================\n",
      "\n",
      "Non-Rigid (Deformable) Registration Beginning\n",
      "\n",
      "========================================================================\n",
      "Iteration:1\n",
      "ML: -8393.372; \tML change (error):  8393.372; \tSigma^2:     0.069; \tSigma^2 change:     0.105\n",
      "[                                                                        ]\n",
      "Iteration:2\n",
      "ML: -9113.879; \tML change (error):   720.506; \tSigma^2:     0.061; \tSigma^2 change:     0.008\n",
      "[                                                                        ]\n",
      "Iteration:3\n",
      "ML: -9156.674; \tML change (error):    42.795; \tSigma^2:     0.053; \tSigma^2 change:     0.008\n",
      "[                                                                        ]\n",
      "Iteration:4\n",
      "ML: -9213.383; \tML change (error):    56.709; \tSigma^2:     0.044; \tSigma^2 change:     0.009\n",
      "[                                                                        ]\n",
      "Iteration:5\n",
      "ML: -9297.683; \tML change (error):    84.300; \tSigma^2:     0.034; \tSigma^2 change:     0.010\n",
      "[=                                                                       ]\n",
      "Iteration:6\n",
      "ML: -9417.904; \tML change (error):   120.221; \tSigma^2:     0.026; \tSigma^2 change:     0.009\n",
      "[=                                                                       ]\n",
      "Iteration:7\n",
      "ML: -9566.117; \tML change (error):   148.213; \tSigma^2:     0.018; \tSigma^2 change:     0.007\n",
      "[=                                                                       ]\n",
      "Iteration:8\n",
      "ML: -9726.612; \tML change (error):   160.495; \tSigma^2:     0.013; \tSigma^2 change:     0.005\n",
      "[=                                                                       ]\n",
      "Iteration:9\n",
      "ML: -9889.999; \tML change (error):   163.387; \tSigma^2:     0.009; \tSigma^2 change:     0.004\n",
      "[==                                                                      ]\n",
      "Iteration:10\n",
      "ML:-10052.986; \tML change (error):   162.988; \tSigma^2:     0.007; \tSigma^2 change:     0.003\n",
      "[==                                                                      ]\n",
      "Iteration:11\n",
      "ML:-10214.239; \tML change (error):   161.253; \tSigma^2:     0.005; \tSigma^2 change:     0.002\n",
      "[==                                                                      ]\n",
      "Iteration:12\n",
      "ML:-10372.651; \tML change (error):   158.412; \tSigma^2:     0.003; \tSigma^2 change:     0.001\n",
      "[==                                                                      ]\n",
      "Iteration:13\n",
      "ML:-10526.413; \tML change (error):   153.761; \tSigma^2:     0.002; \tSigma^2 change:     0.001\n",
      "[===                                                                     ]\n",
      "Iteration:14\n",
      "ML:-10672.017; \tML change (error):   145.605; \tSigma^2:     0.002; \tSigma^2 change:     0.001\n",
      "[===                                                                     ]\n",
      "Iteration:15\n",
      "ML:-10803.799; \tML change (error):   131.782; \tSigma^2:     0.001; \tSigma^2 change:     0.000\n",
      "[===                                                                     ]\n",
      "Iteration:16\n",
      "ML:-10914.447; \tML change (error):   110.648; \tSigma^2:     0.001; \tSigma^2 change:     0.000\n",
      "[===                                                                     ]\n",
      "Iteration:17\n",
      "ML:-10997.383; \tML change (error):    82.937; \tSigma^2:     0.001; \tSigma^2 change:     0.000\n",
      "[====                                                                    ]\n",
      "Iteration:18\n",
      "ML:-11050.918; \tML change (error):    53.534; \tSigma^2:     0.001; \tSigma^2 change:     0.000\n",
      "[====                                                                    ]\n",
      "Iteration:19\n",
      "ML:-11080.171; \tML change (error):    29.253; \tSigma^2:     0.001; \tSigma^2 change:     0.000\n",
      "[====                                                                    ]\n",
      "Iteration:20\n",
      "ML:-11093.881; \tML change (error):    13.710; \tSigma^2:     0.001; \tSigma^2 change:     0.000\n",
      "[====                                                                    ]\n",
      "Iteration:21\n",
      "ML:-11099.647; \tML change (error):     5.766; \tSigma^2:     0.001; \tSigma^2 change:     0.000\n",
      "[=====                                                                   ]\n",
      "Iteration:22\n",
      "ML:-11101.983; \tML change (error):     2.336; \tSigma^2:     0.001; \tSigma^2 change:     0.000\n",
      "[=====                                                                   ]\n",
      "Iteration:23\n",
      "ML:-11102.977; \tML change (error):     0.995; \tSigma^2:     0.001; \tSigma^2 change:     0.000\n",
      "[=====                                                                   ]\n",
      "Iteration:24\n",
      "ML:-11103.462; \tML change (error):     0.485; \tSigma^2:     0.001; \tSigma^2 change:     0.000\n",
      "[=====                                                                   ]\n",
      "Iteration:25\n",
      "ML:-11103.745; \tML change (error):     0.283; \tSigma^2:     0.001; \tSigma^2 change:     0.000\n",
      "[======                                                                  ]\n",
      "Iteration:26\n",
      "ML:-11103.938; \tML change (error):     0.193; \tSigma^2:     0.001; \tSigma^2 change:     0.000\n",
      "[======                                                                  ]\n",
      "Iteration:27\n",
      "ML:-11104.086; \tML change (error):     0.148; \tSigma^2:     0.001; \tSigma^2 change:     0.000\n",
      "[======                                                                  ]\n",
      "Iteration:28\n",
      "ML:-11104.206; \tML change (error):     0.120; \tSigma^2:     0.001; \tSigma^2 change:     0.000\n",
      "[======                                                                  ]\n",
      "Iteration:29\n",
      "ML:-11104.307; \tML change (error):     0.101; \tSigma^2:     0.001; \tSigma^2 change:     0.000\n",
      "[======                                                                  ]\n",
      "Iteration:30\n",
      "ML:-11104.393; \tML change (error):     0.086; \tSigma^2:     0.001; \tSigma^2 change:     0.000\n",
      "[=======                                                                 ]\n",
      "Iteration:31\n",
      "ML:-11104.468; \tML change (error):     0.075; \tSigma^2:     0.001; \tSigma^2 change:     0.000\n",
      "[=======                                                                 ]\n",
      "Iteration:32\n",
      "ML:-11104.534; \tML change (error):     0.066; \tSigma^2:     0.001; \tSigma^2 change:     0.000\n",
      "[=======                                                                 ]\n",
      "Iteration:33\n",
      "ML:-11104.591; \tML change (error):     0.058; \tSigma^2:     0.001; \tSigma^2 change:     0.000\n",
      "[=======                                                                 ]\n",
      "Iteration:34\n",
      "ML:-11104.642; \tML change (error):     0.051; \tSigma^2:     0.001; \tSigma^2 change:     0.000\n",
      "[========                                                                ]\n",
      "Iteration:35\n",
      "ML:-11104.687; \tML change (error):     0.045; \tSigma^2:     0.001; \tSigma^2 change:     0.000\n",
      "[========                                                                ]\n",
      "Iteration:36\n",
      "ML:-11104.727; \tML change (error):     0.040; \tSigma^2:     0.001; \tSigma^2 change:     0.000\n",
      "[========                                                                ]\n",
      "Iteration:37\n",
      "ML:-11104.763; \tML change (error):     0.035; \tSigma^2:     0.001; \tSigma^2 change:     0.000\n",
      "[========                                                                ]\n",
      "Iteration:38\n",
      "ML:-11104.794; \tML change (error):     0.031; \tSigma^2:     0.001; \tSigma^2 change:     0.000\n",
      "[=========                                                               ]\n",
      "Iteration:39\n",
      "ML:-11104.822; \tML change (error):     0.028; \tSigma^2:     0.001; \tSigma^2 change:     0.000\n",
      "[=========                                                               ]\n",
      "Iteration:40\n",
      "ML:-11104.847; \tML change (error):     0.025; \tSigma^2:     0.001; \tSigma^2 change:    -0.000\n",
      "[=========                                                               ]\n",
      "Iteration:41\n",
      "ML:-11104.869; \tML change (error):     0.022; \tSigma^2:     0.001; \tSigma^2 change:    -0.000\n",
      "[=========                                                               ]\n",
      "Iteration:42\n",
      "ML:-11104.889; \tML change (error):     0.020; \tSigma^2:     0.001; \tSigma^2 change:    -0.000\n",
      "[==========                                                              ]\n",
      "Iteration:43\n",
      "ML:-11104.907; \tML change (error):     0.018; \tSigma^2:     0.001; \tSigma^2 change:    -0.000\n",
      "[==========                                                              ]\n",
      "Iteration:44\n",
      "ML:-11104.922; \tML change (error):     0.016; \tSigma^2:     0.001; \tSigma^2 change:    -0.000\n",
      "[==========                                                              ]\n",
      "Iteration:45\n",
      "ML:-11104.936; \tML change (error):     0.014; \tSigma^2:     0.001; \tSigma^2 change:    -0.000\n",
      "[==========                                                              ]\n"
     ]
    },
    {
     "name": "stdout",
     "output_type": "stream",
     "text": [
      "Iteration:46\n",
      "ML:-11104.949; \tML change (error):     0.013; \tSigma^2:     0.001; \tSigma^2 change:    -0.000\n",
      "[===========                                                             ]\n",
      "Iteration:47\n",
      "ML:-11104.960; \tML change (error):     0.011; \tSigma^2:     0.001; \tSigma^2 change:    -0.000\n",
      "[===========                                                             ]\n",
      "Iteration:48\n",
      "ML:-11104.970; \tML change (error):     0.010; \tSigma^2:     0.001; \tSigma^2 change:    -0.000\n",
      "[===========                                                             ]\n",
      "Iteration:49\n",
      "ML:-11104.979; \tML change (error):     0.009; \tSigma^2:     0.001; \tSigma^2 change:    -0.000\n",
      "[===========                                                             ]\n",
      "Iteration:50\n",
      "ML:-11104.987; \tML change (error):     0.008; \tSigma^2:     0.001; \tSigma^2 change:    -0.000\n",
      "[============                                                            ]\n",
      "Iteration:51\n",
      "ML:-11104.994; \tML change (error):     0.007; \tSigma^2:     0.001; \tSigma^2 change:    -0.000\n",
      "[============                                                            ]\n",
      "Iteration:52\n",
      "ML:-11105.001; \tML change (error):     0.006; \tSigma^2:     0.001; \tSigma^2 change:    -0.000\n",
      "[============                                                            ]\n",
      "Iteration:53\n",
      "ML:-11105.006; \tML change (error):     0.006; \tSigma^2:     0.001; \tSigma^2 change:    -0.000\n",
      "[============                                                            ]\n",
      "Iteration:54\n",
      "ML:-11105.011; \tML change (error):     0.005; \tSigma^2:     0.001; \tSigma^2 change:    -0.000\n",
      "[============                                                            ]\n",
      "Iteration:55\n",
      "ML:-11105.016; \tML change (error):     0.005; \tSigma^2:     0.001; \tSigma^2 change:    -0.000\n",
      "[=============                                                           ]\n",
      "Iteration:56\n",
      "ML:-11105.020; \tML change (error):     0.004; \tSigma^2:     0.001; \tSigma^2 change:    -0.000\n",
      "[=============                                                           ]\n",
      "Iteration:57\n",
      "ML:-11105.024; \tML change (error):     0.004; \tSigma^2:     0.001; \tSigma^2 change:    -0.000\n",
      "[=============                                                           ]\n",
      "Iteration:58\n",
      "ML:-11105.027; \tML change (error):     0.003; \tSigma^2:     0.001; \tSigma^2 change:    -0.000\n",
      "[=============                                                           ]\n",
      "Iteration:59\n",
      "ML:-11105.030; \tML change (error):     0.003; \tSigma^2:     0.001; \tSigma^2 change:    -0.000\n",
      "[==============                                                          ]\n",
      "Iteration:60\n",
      "ML:-11105.033; \tML change (error):     0.003; \tSigma^2:     0.001; \tSigma^2 change:    -0.000\n",
      "[==============                                                          ]\n",
      "Iteration:61\n",
      "ML:-11105.035; \tML change (error):     0.002; \tSigma^2:     0.001; \tSigma^2 change:    -0.000\n",
      "[==============                                                          ]\n",
      "Iteration:62\n",
      "ML:-11105.037; \tML change (error):     0.002; \tSigma^2:     0.001; \tSigma^2 change:    -0.000\n",
      "[==============                                                          ]\n",
      "Iteration:63\n",
      "ML:-11105.039; \tML change (error):     0.002; \tSigma^2:     0.001; \tSigma^2 change:    -0.000\n",
      "[===============                                                         ]\n",
      "Iteration:64\n",
      "ML:-11105.041; \tML change (error):     0.002; \tSigma^2:     0.001; \tSigma^2 change:    -0.000\n",
      "[===============                                                         ]\n",
      "Iteration:65\n",
      "ML:-11105.042; \tML change (error):     0.002; \tSigma^2:     0.001; \tSigma^2 change:    -0.000\n",
      "[===============                                                         ]\n",
      "Iteration:66\n",
      "ML:-11105.043; \tML change (error):     0.001; \tSigma^2:     0.001; \tSigma^2 change:    -0.000\n",
      "[===============                                                         ]\n",
      "Iteration:67\n",
      "ML:-11105.045; \tML change (error):     0.001; \tSigma^2:     0.001; \tSigma^2 change:    -0.000\n",
      "[================                                                        ]\n",
      "Iteration:68\n",
      "ML:-11105.046; \tML change (error):     0.001; \tSigma^2:     0.001; \tSigma^2 change:    -0.000\n",
      "[================                                                        ]\n",
      "Iteration:69\n",
      "ML:-11105.047; \tML change (error):     0.001; \tSigma^2:     0.001; \tSigma^2 change:    -0.000\n",
      "[================                                                        ]\n",
      "Iteration:70\n",
      "ML:-11105.048; \tML change (error):     0.001; \tSigma^2:     0.001; \tSigma^2 change:    -0.000\n",
      "[================                                                        ]\n",
      "Iteration:71\n",
      "ML:-11105.048; \tML change (error):     0.001; \tSigma^2:     0.001; \tSigma^2 change:    -0.000\n",
      "[=================                                                       ]\n",
      "Iteration:72\n",
      "ML:-11105.049; \tML change (error):     0.001; \tSigma^2:     0.001; \tSigma^2 change:    -0.000\n",
      "[=================                                                       ]\n",
      "Iteration:73\n",
      "ML:-11105.050; \tML change (error):     0.001; \tSigma^2:     0.001; \tSigma^2 change:    -0.000\n",
      "[=================                                                       ]\n",
      "Iteration:74\n",
      "ML:-11105.050; \tML change (error):     0.001; \tSigma^2:     0.001; \tSigma^2 change:    -0.000\n",
      "[=================                                                       ]\n",
      "Iteration:75\n",
      "ML:-11105.051; \tML change (error):     0.001; \tSigma^2:     0.001; \tSigma^2 change:    -0.000\n",
      "[==================                                                      ]\n",
      "Iteration:76\n",
      "ML:-11105.051; \tML change (error):     0.000; \tSigma^2:     0.001; \tSigma^2 change:    -0.000\n",
      "[==================                                                      ]\n",
      "Iteration:77\n",
      "ML:-11105.052; \tML change (error):     0.000; \tSigma^2:     0.001; \tSigma^2 change:    -0.000\n",
      "[==================                                                      ]\n",
      "Iteration:78\n",
      "ML:-11105.052; \tML change (error):     0.000; \tSigma^2:     0.001; \tSigma^2 change:    -0.000\n",
      "[==================                                                      ]\n",
      "Iteration:79\n",
      "ML:-11105.052; \tML change (error):     0.000; \tSigma^2:     0.001; \tSigma^2 change:    -0.000\n",
      "[==================                                                      ]\n",
      "Iteration:80\n",
      "ML:-11105.053; \tML change (error):     0.000; \tSigma^2:     0.001; \tSigma^2 change:    -0.000\n",
      "[===================                                                     ]\n",
      "Iteration:81\n",
      "ML:-11105.053; \tML change (error):     0.000; \tSigma^2:     0.001; \tSigma^2 change:    -0.000\n",
      "[===================                                                     ]\n",
      "Iteration:82\n",
      "ML:-11105.053; \tML change (error):     0.000; \tSigma^2:     0.001; \tSigma^2 change:    -0.000\n",
      "[===================                                                     ]\n",
      "Iteration:83\n",
      "ML:-11105.053; \tML change (error):     0.000; \tSigma^2:     0.001; \tSigma^2 change:    -0.000\n",
      "[===================                                                     ]\n",
      "Iteration:84\n",
      "ML:-11105.053; \tML change (error):     0.000; \tSigma^2:     0.001; \tSigma^2 change:    -0.000\n",
      "[====================                                                    ]\n",
      "Iteration:85\n",
      "ML:-11105.054; \tML change (error):     0.000; \tSigma^2:     0.001; \tSigma^2 change:    -0.000\n",
      "[====================                                                    ]\n",
      "Iteration:86\n",
      "ML:-11105.054; \tML change (error):     0.000; \tSigma^2:     0.001; \tSigma^2 change:    -0.000\n",
      "[====================                                                    ]\n",
      "Iteration:87\n",
      "ML:-11105.054; \tML change (error):     0.000; \tSigma^2:     0.001; \tSigma^2 change:    -0.000\n",
      "[====================                                                    ]\n",
      "Iteration:88\n",
      "ML:-11105.054; \tML change (error):     0.000; \tSigma^2:     0.001; \tSigma^2 change:    -0.000\n",
      "[=====================                                                   ]\n",
      "Iteration:89\n",
      "ML:-11105.054; \tML change (error):     0.000; \tSigma^2:     0.001; \tSigma^2 change:    -0.000\n",
      "[=====================                                                   ]\n",
      "Iteration:90\n",
      "ML:-11105.054; \tML change (error):     0.000; \tSigma^2:     0.001; \tSigma^2 change:    -0.000\n",
      "[=====================                                                   ]\n",
      "Iteration:91\n",
      "ML:-11105.054; \tML change (error):     0.000; \tSigma^2:     0.001; \tSigma^2 change:    -0.000\n",
      "[=====================                                                   ]\n",
      "Iteration:92\n",
      "ML:-11105.054; \tML change (error):     0.000; \tSigma^2:     0.001; \tSigma^2 change:    -0.000\n",
      "[======================                                                  ]\n"
     ]
    },
    {
     "name": "stdout",
     "output_type": "stream",
     "text": [
      "Iteration:93\n",
      "ML:-11105.054; \tML change (error):     0.000; \tSigma^2:     0.001; \tSigma^2 change:    -0.000\n",
      "[======================                                                  ]\n",
      "Iteration:94\n",
      "ML:-11105.055; \tML change (error):     0.000; \tSigma^2:     0.001; \tSigma^2 change:    -0.000\n",
      "[======================                                                  ]\n",
      "Iteration:95\n",
      "ML:-11105.055; \tML change (error):     0.000; \tSigma^2:     0.001; \tSigma^2 change:    -0.000\n",
      "[======================                                                  ]\n",
      "Iteration:96\n",
      "ML:-11105.055; \tML change (error):     0.000; \tSigma^2:     0.001; \tSigma^2 change:    -0.000\n",
      "[=======================                                                 ]\n",
      "Iteration:97\n",
      "ML:-11105.055; \tML change (error):     0.000; \tSigma^2:     0.001; \tSigma^2 change:    -0.000\n",
      "[=======================                                                 ]\n",
      "Iteration:98\n",
      "ML:-11105.055; \tML change (error):     0.000; \tSigma^2:     0.001; \tSigma^2 change:    -0.000\n",
      "[=======================                                                 ]\n",
      "Iteration:99\n",
      "ML:-11105.055; \tML change (error):     0.000; \tSigma^2:     0.001; \tSigma^2 change:    -0.000\n",
      "[=======================                                                 ]\n",
      "Iteration:100\n",
      "ML:-11105.055; \tML change (error):     0.000; \tSigma^2:     0.001; \tSigma^2 change:    -0.000\n",
      "[========================                                                ]\n",
      "Iteration:101\n",
      "ML:-11105.055; \tML change (error):     0.000; \tSigma^2:     0.001; \tSigma^2 change:    -0.000\n",
      "[========================                                                ]\n",
      "Iteration:102\n",
      "ML:-11105.055; \tML change (error):     0.000; \tSigma^2:     0.001; \tSigma^2 change:    -0.000\n",
      "[========================                                                ]\n",
      "Iteration:103\n",
      "ML:-11105.055; \tML change (error):     0.000; \tSigma^2:     0.001; \tSigma^2 change:    -0.000\n",
      "[========================                                                ]\n",
      "Iteration:104\n",
      "ML:-11105.055; \tML change (error):     0.000; \tSigma^2:     0.001; \tSigma^2 change:    -0.000\n",
      "[========================                                                ]\n",
      "Iteration:105\n",
      "ML:-11105.055; \tML change (error):     0.000; \tSigma^2:     0.001; \tSigma^2 change:    -0.000\n",
      "[=========================                                               ]\n",
      "Iteration:106\n",
      "ML:-11105.055; \tML change (error):     0.000; \tSigma^2:     0.001; \tSigma^2 change:    -0.000\n",
      "[=========================                                               ]\n",
      "Iteration:107\n",
      "ML:-11105.055; \tML change (error):     0.000; \tSigma^2:     0.001; \tSigma^2 change:    -0.000\n",
      "[=========================                                               ]\n",
      "Iteration:108\n",
      "ML:-11105.055; \tML change (error):     0.000; \tSigma^2:     0.001; \tSigma^2 change:    -0.000\n",
      "[=========================                                               ]\n",
      "Iteration:109\n",
      "ML:-11105.055; \tML change (error):     0.000; \tSigma^2:     0.001; \tSigma^2 change:    -0.000\n",
      "[==========================                                              ]\n",
      "Iteration:110\n",
      "ML:-11105.055; \tML change (error):     0.000; \tSigma^2:     0.001; \tSigma^2 change:    -0.000\n",
      "[==========================                                              ]\n",
      "Iteration:111\n",
      "ML:-11105.055; \tML change (error):     0.000; \tSigma^2:     0.001; \tSigma^2 change:    -0.000\n",
      "[==========================                                              ]\n",
      "Iteration:112\n",
      "ML:-11105.055; \tML change (error):     0.000; \tSigma^2:     0.001; \tSigma^2 change:    -0.000\n",
      "[==========================                                              ]\n",
      "Iteration:113\n",
      "ML:-11105.055; \tML change (error):     0.000; \tSigma^2:     0.001; \tSigma^2 change:    -0.000\n",
      "[===========================                                             ]\n",
      "Iteration:114\n",
      "ML:-11105.055; \tML change (error):     0.000; \tSigma^2:     0.001; \tSigma^2 change:    -0.000\n",
      "[===========================                                             ]\n",
      "Iteration:115\n",
      "ML:-11105.055; \tML change (error):     0.000; \tSigma^2:     0.001; \tSigma^2 change:    -0.000\n",
      "[===========================                                             ]\n",
      "Iteration:116\n",
      "ML:-11105.055; \tML change (error):     0.000; \tSigma^2:     0.001; \tSigma^2 change:    -0.000\n",
      "[===========================                                             ]\n",
      "Iteration:117\n",
      "ML:-11105.055; \tML change (error):     0.000; \tSigma^2:     0.001; \tSigma^2 change:    -0.000\n",
      "[============================                                            ]\n",
      "Iteration:118\n",
      "ML:-11105.055; \tML change (error):     0.000; \tSigma^2:     0.001; \tSigma^2 change:    -0.000\n",
      "[============================                                            ]\n",
      "Iteration:119\n",
      "ML:-11105.055; \tML change (error):     0.000; \tSigma^2:     0.001; \tSigma^2 change:    -0.000\n",
      "[============================                                            ]\n",
      "Iteration:120\n",
      "ML:-11105.055; \tML change (error):     0.000; \tSigma^2:     0.001; \tSigma^2 change:    -0.000\n",
      "[============================                                            ]\n",
      "Iteration:121\n",
      "ML:-11105.055; \tML change (error):     0.000; \tSigma^2:     0.001; \tSigma^2 change:    -0.000\n",
      "[=============================                                           ]\n",
      "Iteration:122\n",
      "ML:-11105.055; \tML change (error):     0.000; \tSigma^2:     0.001; \tSigma^2 change:    -0.000\n",
      "[=============================                                           ]\n",
      "Iteration:123\n",
      "ML:-11105.055; \tML change (error):     0.000; \tSigma^2:     0.001; \tSigma^2 change:    -0.000\n",
      "[=============================                                           ]\n",
      "Iteration:124\n",
      "ML:-11105.055; \tML change (error):     0.000; \tSigma^2:     0.001; \tSigma^2 change:    -0.000\n",
      "[=============================                                           ]\n",
      "Iteration:125\n",
      "ML:-11105.055; \tML change (error):     0.000; \tSigma^2:     0.001; \tSigma^2 change:    -0.000\n",
      "[==============================                                          ]\n",
      "Iteration:126\n",
      "ML:-11105.055; \tML change (error):     0.000; \tSigma^2:     0.001; \tSigma^2 change:    -0.000\n",
      "[==============================                                          ]\n",
      "Iteration:127\n",
      "ML:-11105.055; \tML change (error):     0.000; \tSigma^2:     0.001; \tSigma^2 change:    -0.000\n",
      "[==============================                                          ]\n",
      "Iteration:128\n",
      "ML:-11105.055; \tML change (error):     0.000; \tSigma^2:     0.001; \tSigma^2 change:    -0.000\n",
      "[==============================                                          ]\n",
      "Iteration:129\n",
      "ML:-11105.055; \tML change (error):     0.000; \tSigma^2:     0.001; \tSigma^2 change:    -0.000\n",
      "[==============================                                          ]\n",
      "Iteration:130\n",
      "ML:-11105.055; \tML change (error):     0.000; \tSigma^2:     0.001; \tSigma^2 change:    -0.000\n",
      "[===============================                                         ]\n",
      "Iteration:131\n",
      "ML:-11105.055; \tML change (error):     0.000; \tSigma^2:     0.001; \tSigma^2 change:    -0.000\n",
      "[===============================                                         ]\n",
      "Iteration:132\n",
      "ML:-11105.055; \tML change (error):     0.000; \tSigma^2:     0.001; \tSigma^2 change:    -0.000\n",
      "[===============================                                         ]\n",
      "Iteration:133\n",
      "ML:-11105.055; \tML change (error):     0.000; \tSigma^2:     0.001; \tSigma^2 change:    -0.000\n",
      "[===============================                                         ]\n",
      "Iteration:134\n",
      "ML:-11105.055; \tML change (error):     0.000; \tSigma^2:     0.001; \tSigma^2 change:    -0.000\n",
      "[================================                                        ]\n",
      "Iteration:135\n",
      "ML:-11105.055; \tML change (error):     0.000; \tSigma^2:     0.001; \tSigma^2 change:    -0.000\n",
      "[================================                                        ]\n",
      "Iteration:136\n",
      "ML:-11105.055; \tML change (error):     0.000; \tSigma^2:     0.001; \tSigma^2 change:    -0.000\n",
      "[================================                                        ]\n",
      "Iteration:137\n",
      "ML:-11105.055; \tML change (error):     0.000; \tSigma^2:     0.001; \tSigma^2 change:    -0.000\n",
      "[================================                                        ]\n",
      "Iteration:138\n",
      "ML:-11105.055; \tML change (error):     0.000; \tSigma^2:     0.001; \tSigma^2 change:    -0.000\n",
      "[=================================                                       ]\n",
      "Iteration:139\n",
      "ML:-11105.055; \tML change (error):     0.000; \tSigma^2:     0.001; \tSigma^2 change:    -0.000\n",
      "[=================================                                       ]\n"
     ]
    },
    {
     "name": "stdout",
     "output_type": "stream",
     "text": [
      "Iteration:140\n",
      "ML:-11105.055; \tML change (error):     0.000; \tSigma^2:     0.001; \tSigma^2 change:    -0.000\n",
      "[=================================                                       ]\n",
      "Iteration:141\n",
      "ML:-11105.055; \tML change (error):     0.000; \tSigma^2:     0.001; \tSigma^2 change:    -0.000\n",
      "[=================================                                       ]\n",
      "Iteration:142\n",
      "ML:-11105.055; \tML change (error):     0.000; \tSigma^2:     0.001; \tSigma^2 change:    -0.000\n",
      "[==================================                                      ]\n",
      "Iteration:143\n",
      "ML:-11105.055; \tML change (error):     0.000; \tSigma^2:     0.001; \tSigma^2 change:    -0.000\n",
      "[==================================                                      ]\n",
      "Iteration:144\n",
      "ML:-11105.055; \tML change (error):     0.000; \tSigma^2:     0.001; \tSigma^2 change:    -0.000\n",
      "[==================================                                      ]\n",
      "Iteration:145\n",
      "ML:-11105.055; \tML change (error):     0.000; \tSigma^2:     0.001; \tSigma^2 change:    -0.000\n",
      "[==================================                                      ]\n",
      "Iteration:146\n",
      "ML:-11105.055; \tML change (error):     0.000; \tSigma^2:     0.001; \tSigma^2 change:    -0.000\n",
      "[===================================                                     ]\n",
      "Iteration:147\n",
      "ML:-11105.055; \tML change (error):     0.000; \tSigma^2:     0.001; \tSigma^2 change:    -0.000\n",
      "[===================================                                     ]\n",
      "Iteration:148\n",
      "ML:-11105.055; \tML change (error):     0.000; \tSigma^2:     0.001; \tSigma^2 change:    -0.000\n",
      "[===================================                                     ]\n",
      "Iteration:149\n",
      "ML:-11105.055; \tML change (error):     0.000; \tSigma^2:     0.001; \tSigma^2 change:    -0.000\n",
      "[===================================                                     ]\n",
      "Iteration:150\n",
      "ML:-11105.055; \tML change (error):     0.000; \tSigma^2:     0.001; \tSigma^2 change:    -0.000\n",
      "[====================================                                    ]\n",
      "Iteration:151\n",
      "ML:-11105.055; \tML change (error):     0.000; \tSigma^2:     0.001; \tSigma^2 change:    -0.000\n",
      "[====================================                                    ]\n",
      "Iteration:152\n",
      "ML:-11105.055; \tML change (error):     0.000; \tSigma^2:     0.001; \tSigma^2 change:    -0.000\n",
      "[====================================                                    ]\n",
      "Iteration:153\n",
      "ML:-11105.055; \tML change (error):     0.000; \tSigma^2:     0.001; \tSigma^2 change:    -0.000\n",
      "[====================================                                    ]\n",
      "Iteration:154\n",
      "ML:-11105.055; \tML change (error):     0.000; \tSigma^2:     0.001; \tSigma^2 change:    -0.000\n",
      "[====================================                                    ]\n",
      "Iteration:155\n",
      "ML:-11105.055; \tML change (error):     0.000; \tSigma^2:     0.001; \tSigma^2 change:    -0.000\n",
      "[=====================================                                   ]\n",
      "Iteration:156\n",
      "ML:-11105.055; \tML change (error):     0.000; \tSigma^2:     0.001; \tSigma^2 change:    -0.000\n",
      "[=====================================                                   ]\n",
      "Iteration:157\n",
      "ML:-11105.055; \tML change (error):     0.000; \tSigma^2:     0.001; \tSigma^2 change:    -0.000\n",
      "[=====================================                                   ]\n",
      "Iteration:158\n",
      "ML:-11105.055; \tML change (error):     0.000; \tSigma^2:     0.001; \tSigma^2 change:    -0.000\n",
      "[=====================================                                   ]\n",
      "Iteration:159\n",
      "ML:-11105.055; \tML change (error):     0.000; \tSigma^2:     0.001; \tSigma^2 change:    -0.000\n",
      "[======================================                                  ]\n",
      "Iteration:160\n",
      "ML:-11105.055; \tML change (error):     0.000; \tSigma^2:     0.001; \tSigma^2 change:    -0.000\n",
      "[======================================                                  ]\n",
      "Iteration:161\n",
      "ML:-11105.055; \tML change (error):     0.000; \tSigma^2:     0.001; \tSigma^2 change:    -0.000\n",
      "[======================================                                  ]\n",
      "Iteration:162\n",
      "ML:-11105.055; \tML change (error):     0.000; \tSigma^2:     0.001; \tSigma^2 change:    -0.000\n",
      "[======================================                                  ]\n",
      "Iteration:163\n",
      "ML:-11105.055; \tML change (error):     0.000; \tSigma^2:     0.001; \tSigma^2 change:    -0.000\n",
      "[=======================================                                 ]\n",
      "Iteration:164\n",
      "ML:-11105.055; \tML change (error):     0.000; \tSigma^2:     0.001; \tSigma^2 change:    -0.000\n",
      "[=======================================                                 ]\n",
      "Iteration:165\n",
      "ML:-11105.055; \tML change (error):     0.000; \tSigma^2:     0.001; \tSigma^2 change:    -0.000\n",
      "[=======================================                                 ]\n",
      "Iteration:166\n",
      "ML:-11105.055; \tML change (error):     0.000; \tSigma^2:     0.001; \tSigma^2 change:    -0.000\n",
      "[=======================================                                 ]\n",
      "Iteration:167\n",
      "ML:-11105.055; \tML change (error):     0.000; \tSigma^2:     0.001; \tSigma^2 change:    -0.000\n",
      "[========================================                                ]\n",
      "Iteration:168\n",
      "ML:-11105.055; \tML change (error):     0.000; \tSigma^2:     0.001; \tSigma^2 change:    -0.000\n",
      "[========================================                                ]\n",
      "Iteration:169\n",
      "ML:-11105.055; \tML change (error):     0.000; \tSigma^2:     0.001; \tSigma^2 change:    -0.000\n",
      "[========================================                                ]\n",
      "Iteration:170\n",
      "ML:-11105.055; \tML change (error):     0.000; \tSigma^2:     0.001; \tSigma^2 change:    -0.000\n",
      "[========================================                                ]\n",
      "========================================================================\n",
      "Registration Performance Metrics\n",
      "========================================================================\n",
      "Time to initialize EM: 0.0031020641326904297\n",
      "Time to initialize registration: 0.15209484100341797\n",
      "Average Expectation Time:                    0.0330 +/- 0.0036\n",
      "Average Maximization Time:                   0.0047 +/- 0.0006\n",
      "Maximization Times - Per individual step\n",
      "Average Update Transform Time:               0.0045 +/- 0.0006\n",
      "Average Transform Time:                      0.0001 +/- 0.0000\n",
      "Average Update Variance Time:                0.0001 +/- 0.0000\n",
      "\n",
      "Number of iterations performed:          170\n",
      "Error at time of finish:                 9.289578883908689e-09\n",
      "time to get cdist: 0.20185232162475586\n",
      "time to linear sum assignment: 6.910660743713379\n",
      "Number of unique correspondences: 5000\n",
      "Number of unique correspondences after smoothing: 4416\n"
     ]
    },
    {
     "data": {
      "text/plain": [
       "array([ 112,    1,    2, ..., 4984, 4985, 4956])"
      ]
     },
     "execution_count": 8,
     "metadata": {},
     "output_type": "execute_result"
    }
   ],
   "source": [
    "reg.align_maps()"
   ]
  },
  {
   "cell_type": "markdown",
   "metadata": {},
   "source": [
    "## View the spectral coordinates"
   ]
  },
  {
   "cell_type": "code",
   "execution_count": 9,
   "metadata": {},
   "outputs": [
    {
     "name": "stdout",
     "output_type": "stream",
     "text": [
      "After registration, the range of coordinate values for:\n",
      " Source coordinates:\n",
      "[1. 1. 1.]\n",
      " Target coordinates are: \n",
      "[1.00569705 0.97906022 1.01324162]\n"
     ]
    }
   ],
   "source": [
    "print('After registration, the range of coordinate values for:\\n Source coordinates:\\n'\n",
    "      '{}\\n Target coordinates are: \\n{}'.format(np.ptp(reg.source_spectral_coords, axis=0),\n",
    "                                                         np.ptp(reg.target_spectral_coords, axis=0)))\n"
   ]
  },
  {
   "cell_type": "markdown",
   "metadata": {},
   "source": [
    "The range of the source are 1.0 because we scaled them to be this. The target are slightly different because they have moved while registering to source coordinates. "
   ]
  },
  {
   "cell_type": "code",
   "execution_count": 10,
   "metadata": {
    "scrolled": false
   },
   "outputs": [
    {
     "data": {
      "application/vnd.jupyter.widget-view+json": {
       "model_id": "67ab6b9ffdfa4c08a353c106334041fa",
       "version_major": 2,
       "version_minor": 0
      },
      "text/plain": [
       "Viewer(point_set_colors=array([[0.12156863, 0.46666667, 0.7058824 ],\n",
       "       [1.        , 0.49803922, 0.0549019…"
      ]
     },
     "metadata": {},
     "output_type": "display_data"
    }
   ],
   "source": [
    "reg.view_aligned_spectral_coords(starting_spectral_coord=0,\n",
    "                                 include_target_coordinates=True,\n",
    "                                 include_non_rigid_aligned=True,\n",
    "                                 include_rigid_aligned=False,\n",
    "                                 include_unaligned=False,\n",
    "                                 point_set_colors=None)"
   ]
  },
  {
   "cell_type": "markdown",
   "metadata": {},
   "source": [
    "Above is a 3D view of the spectral (or other) coordinates used for registration. The starting idx for coords can be changed by changing starting_spectral_coord (depending on number of coordinates/features used to register meshes). "
   ]
  },
  {
   "cell_type": "code",
   "execution_count": 11,
   "metadata": {},
   "outputs": [
    {
     "data": {
      "application/vnd.jupyter.widget-view+json": {
       "model_id": "3f98769dbda34b7b8040179672a4e5ae",
       "version_major": 2,
       "version_minor": 0
      },
      "text/plain": [
       "Viewer(geometries=[{'vtkClass': 'vtkPolyData', 'points': {'vtkClass': 'vtkPoints', 'name': '_points', 'numberO…"
      ]
     },
     "metadata": {},
     "output_type": "display_data"
    }
   ],
   "source": [
    "reg.view_meshes_colored_by_spectral_correspondences()"
   ]
  },
  {
   "cell_type": "markdown",
   "metadata": {},
   "source": [
    "Above is the source mesh (geometry 0) and the target mesh (geometry 1). Target is coloured sequentially (0-n_points). Source is colored according to the target idx that each source point was registered to. Therefore, colours from the target should be in anatomically the same location as the corresponding colour on the source mesh. <br>\n",
    "\n",
    "Pink is at the same point in the range of values for both meshes. So, it's alignment between them helps affirm the good registration. "
   ]
  },
  {
   "cell_type": "code",
   "execution_count": 12,
   "metadata": {},
   "outputs": [
    {
     "data": {
      "application/vnd.jupyter.widget-view+json": {
       "model_id": "ea78dc97e27b4b16975b6c31873d06b2",
       "version_major": 2,
       "version_minor": 0
      },
      "text/plain": [
       "Viewer(point_set_colors=array([[0.12156863, 0.46666667, 0.7058824 ],\n",
       "       [1.        , 0.49803922, 0.0549019…"
      ]
     },
     "metadata": {},
     "output_type": "display_data"
    }
   ],
   "source": [
    "reg.view_aligned_smoothed_spectral_coords()"
   ]
  },
  {
   "cell_type": "markdown",
   "metadata": {},
   "source": [
    "- Build new mesh (using source points, moved to final positions)\n",
    "- Colour all meshes based on IDX node corresponds to on target mesh. "
   ]
  },
  {
   "cell_type": "code",
   "execution_count": 13,
   "metadata": {},
   "outputs": [],
   "source": [
    "reg.get_source_mesh_transformed()\n",
    "reg.set_all_mesh_scalars_to_corresp_target_idx()"
   ]
  },
  {
   "cell_type": "code",
   "execution_count": 14,
   "metadata": {},
   "outputs": [
    {
     "data": {
      "application/vnd.jupyter.widget-view+json": {
       "model_id": "ac3d6c8491044b1cbe5429f61373c338",
       "version_major": 2,
       "version_minor": 0
      },
      "text/plain": [
       "Viewer(geometries=[{'vtkClass': 'vtkPolyData', 'points': {'vtkClass': 'vtkPoints', 'name': '_points', 'numberO…"
      ]
     },
     "metadata": {},
     "output_type": "display_data"
    }
   ],
   "source": [
    "reg.view_meshes(include_source=True,\n",
    "                include_target=True,\n",
    "                include_transformed_target=True\n",
    "                )"
   ]
  },
  {
   "cell_type": "markdown",
   "metadata": {},
   "source": [
    "Above is overlapping visualization of the three meshes: \n",
    "- Original Target\n",
    "- Original Source\n",
    "- Transformed Source (to target surface). \n",
    "\n",
    "Possible to turn each one off/on, turn to wire mesh, change transparency, and change colours. "
   ]
  },
  {
   "cell_type": "code",
   "execution_count": null,
   "metadata": {},
   "outputs": [],
   "source": []
  }
 ],
 "metadata": {
  "kernelspec": {
   "display_name": "Python 3",
   "language": "python",
   "name": "python3"
  },
  "language_info": {
   "codemirror_mode": {
    "name": "ipython",
    "version": 3
   },
   "file_extension": ".py",
   "mimetype": "text/x-python",
   "name": "python",
   "nbconvert_exporter": "python",
   "pygments_lexer": "ipython3",
   "version": "3.7.6"
  }
 },
 "nbformat": 4,
 "nbformat_minor": 4
}
