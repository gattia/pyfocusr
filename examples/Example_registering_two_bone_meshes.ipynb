{
 "cells": [
  {
   "cell_type": "code",
   "execution_count": 1,
   "metadata": {},
   "outputs": [],
   "source": [
    "import os\n",
    "\n",
    "import numpy as np\n",
    "import vtk\n",
    "from vtk.util.numpy_support import numpy_to_vtk, vtk_to_numpy\n",
    "\n",
    "import pyfocusr\n",
    "from pyfocusr.vtk_functions import read_vtk_mesh"
   ]
  },
  {
   "cell_type": "code",
   "execution_count": 2,
   "metadata": {},
   "outputs": [],
   "source": [
    "location_meshes = '../data/'\n",
    "n_points = '5k'\n",
    "\n",
    "if n_points == '5k':\n",
    "    target_filename = 'target_mesh.vtk'\n",
    "    source_filename = 'source_mesh.vtk'\n",
    "elif n_points == '15k':\n",
    "    target_filename = 'target_mesh_15k.vtk'\n",
    "    source_filename = 'source_mesh_15k.vtk'\n",
    "    \n",
    "target_vtk_mesh = read_vtk_mesh(os.path.join(location_meshes, target_filename))\n",
    "source_vtk_mesh = read_vtk_mesh(os.path.join(location_meshes, source_filename))"
   ]
  },
  {
   "cell_type": "markdown",
   "metadata": {},
   "source": [
    "Best results yet with: \n",
    "\n",
    "```\n",
    "reg = pyfocusr.Focusr(vtk_mesh_target=target_vtk_mesh, \n",
    "                      vtk_mesh_source=source_vtk_mesh,\n",
    "                      n_spectral_features=3,\n",
    "                      n_extra_spectral=3,\n",
    "                      get_weighted_spectral_coords=True,\n",
    "                      list_features_to_calc=['curvature'],\n",
    "                      rigid_reg_max_iterations=100,\n",
    "                      non_rigid_alpha=0.001,\n",
    "                      non_rigid_beta=4,\n",
    "                      non_rigid_n_eigens=100,\n",
    "                      non_rigid_max_iterations=300,\n",
    "                      rigid_before_non_rigid_reg=False,\n",
    "                      projection_smooth_iterations=40,\n",
    "                      graph_smoothing_iterations=300,\n",
    "                      include_points_as_features=True,\n",
    "                      norm_physical_and_spectral=True,\n",
    "                      feature_weights=np.diag([1,1]),\n",
    "                      n_coords_spectral_ordering=10000)\n",
    "```"
   ]
  },
  {
   "cell_type": "code",
   "execution_count": 3,
   "metadata": {},
   "outputs": [
    {
     "name": "stdout",
     "output_type": "stream",
     "text": [
      "Loaded Mesh 1\n",
      "Beginning Eigen Decomposition\n",
      "Eigen values are: \n",
      "[-3.98708395e-18  8.39246263e-04  1.63007145e-03  2.12549101e-03\n",
      "  3.13941439e-03  3.77495258e-03  4.01682329e-03]\n",
      "Computed spectrum 1\n",
      "Loaded Mesh 2\n",
      "Beginning Eigen Decomposition\n",
      "Eigen values are: \n",
      "[-9.19459446e-18  8.31236570e-04  1.64152416e-03  2.11362458e-03\n",
      "  3.09029787e-03  3.88535401e-03  3.92405051e-03]\n",
      "Computed spectrum 2\n"
     ]
    }
   ],
   "source": [
    "reg = pyfocusr.Focusr(vtk_mesh_target=target_vtk_mesh, \n",
    "                      vtk_mesh_source=source_vtk_mesh,\n",
    "                      n_spectral_features=3,\n",
    "                      n_extra_spectral=3,\n",
    "                      get_weighted_spectral_coords=False,\n",
    "                      list_features_to_calc=[], # 'curvatures', min_curvature' 'max_curvature'\n",
    "                      rigid_reg_max_iterations=100,\n",
    "                      non_rigid_alpha=0.01,\n",
    "                      non_rigid_beta=50,\n",
    "                      non_rigid_n_eigens=100,\n",
    "                      non_rigid_max_iterations=300,\n",
    "                      rigid_before_non_rigid_reg=False,\n",
    "                      projection_smooth_iterations=40,\n",
    "                      graph_smoothing_iterations=600,\n",
    "                      feature_smoothing_iterations=1,\n",
    "                      include_points_as_features=False,\n",
    "                      norm_physical_and_spectral=True,\n",
    "                      feature_weights=np.diag([.1,.1]),\n",
    "                      n_coords_spectral_ordering=10000,\n",
    "                      n_coords_spectral_registration=1000,\n",
    "                      initial_correspondence_type='kd',\n",
    "                      final_correspondence_type='hungarian')  #'kd' 'hungarian'"
   ]
  },
  {
   "cell_type": "markdown",
   "metadata": {},
   "source": [
    "### View mesh features"
   ]
  },
  {
   "cell_type": "code",
   "execution_count": 4,
   "metadata": {},
   "outputs": [
    {
     "data": {
      "text/plain": [
       "array([0.00083124, 0.00164152, 0.00211362, 0.0030903 , 0.00388535,\n",
       "       0.00392405])"
      ]
     },
     "execution_count": 4,
     "metadata": {},
     "output_type": "execute_result"
    }
   ],
   "source": [
    "reg.graph_source.eig_vals"
   ]
  },
  {
   "cell_type": "markdown",
   "metadata": {},
   "source": [
    "### View un-ordered/corrected/weighted eigenvectors (spectral coordinates)"
   ]
  },
  {
   "cell_type": "markdown",
   "metadata": {},
   "source": [
    "#### Source Eigenvector 1"
   ]
  },
  {
   "cell_type": "code",
   "execution_count": 5,
   "metadata": {},
   "outputs": [],
   "source": [
    "eig_vec = 0"
   ]
  },
  {
   "cell_type": "code",
   "execution_count": 6,
   "metadata": {
    "scrolled": true
   },
   "outputs": [
    {
     "data": {
      "application/vnd.jupyter.widget-view+json": {
       "model_id": "cc5efcde9180424f96b2d4a93720b69a",
       "version_major": 2,
       "version_minor": 0
      },
      "text/plain": [
       "Viewer(geometries=[{'vtkClass': 'vtkPolyData', 'points': {'vtkClass': 'vtkPoints', 'name': '_points', 'numberO…"
      ]
     },
     "metadata": {},
     "output_type": "display_data"
    }
   ],
   "source": [
    "reg.graph_source.view_mesh_eig_vec(eig_vec=eig_vec)"
   ]
  },
  {
   "cell_type": "markdown",
   "metadata": {},
   "source": [
    "#### Target Eigenvector 1"
   ]
  },
  {
   "cell_type": "code",
   "execution_count": 7,
   "metadata": {
    "scrolled": true
   },
   "outputs": [
    {
     "data": {
      "application/vnd.jupyter.widget-view+json": {
       "model_id": "05b635eb72354378aa01b61407bc3760",
       "version_major": 2,
       "version_minor": 0
      },
      "text/plain": [
       "Viewer(geometries=[{'vtkClass': 'vtkPolyData', 'points': {'vtkClass': 'vtkPoints', 'name': '_points', 'numberO…"
      ]
     },
     "metadata": {},
     "output_type": "display_data"
    }
   ],
   "source": [
    "reg.graph_target.view_mesh_eig_vec(eig_vec=eig_vec)"
   ]
  },
  {
   "cell_type": "markdown",
   "metadata": {},
   "source": [
    "# Notes about comparison: \n",
    "Depending on if we include features ('curvature') or not, we will get different results for these meshes. \n",
    "\n",
    "If we leave the list at `list_features_to_calc` as an empty list `[]` then: <br>\n",
    "We note that the color gradient is the same (in the same direction) between the two meshes. However, the colours are flipped. This is because the direction of \"positive\" can be flipped from one mesh to another. This will (should) be corrected automatically before the registration begins. \n",
    "\n",
    "If we include `'curvature'` in `list_features_to_calc` with `['curvature']` then: <br>\n",
    "We get eigenvectors that align in direction and orientation (at least for the first 3 (0, 1, 2). \n",
    "\n",
    "Note, the flipped nature of the spectral coordinates can/will be corrected in the algorithm (if it exists). However, this only works because these are both of the same leg (right - as evident by the large side of the trochlear groove) and will likely faily/break if a left and right leg were analyzed. Therefore, all legs should be flipped to be the same side to \"fix\" things. "
   ]
  },
  {
   "cell_type": "markdown",
   "metadata": {},
   "source": [
    "## Begin Registration\n",
    "This will print out the registration parameters/results as it goes. <br>\n",
    "- First it will print out the \"pairs\" of eigenvectors between the two meshes and which ones on the source were flipped to match the target eigenvectors. \n",
    "- Second it will print the rigid registration progress and ultimately the registration \"results\"/\"parameters\"\n",
    "- Third it will print the same for the non-rigid registration progress. \n"
   ]
  },
  {
   "cell_type": "code",
   "execution_count": 8,
   "metadata": {},
   "outputs": [
    {
     "name": "stdout",
     "output_type": "stream",
     "text": [
      "========================================================================\n",
      "\n",
      "Eigenvector Sorting Results\n",
      "\n",
      "========================================================================\n",
      "The matches for eigenvectors were as follows:\n",
      "Target\t|  Source\n",
      "     0\t|  0     \n",
      "     1\t|  1     \n",
      "     2\t|  -2    \n",
      "     3\t|  3     \n",
      "     4\t|  -4    \n",
      "     5\t|  5     \n",
      "*Negative source values means those eigenvectors were flipped*\n",
      " \n",
      "Number of features (including spectral) used for registartion: 3\n",
      "========================================================================\n",
      "\n",
      "Non-Rigid (Deformable) Registration Beginning\n",
      "\n",
      "========================================================================\n",
      "Iteration:1\n",
      "ML: -8385.732; \tML change (error):  8385.732; \tSigma^2:     0.069; \tSigma^2 change:     0.106\n",
      "[                                                                        ]\n",
      "Iteration:2\n",
      "ML: -9110.865; \tML change (error):   725.133; \tSigma^2:     0.060; \tSigma^2 change:     0.009\n",
      "[                                                                        ]\n",
      "Iteration:3\n",
      "ML: -9163.334; \tML change (error):    52.468; \tSigma^2:     0.051; \tSigma^2 change:     0.009\n",
      "[                                                                        ]\n",
      "Iteration:4\n",
      "ML: -9232.543; \tML change (error):    69.210; \tSigma^2:     0.042; \tSigma^2 change:     0.010\n",
      "[                                                                        ]\n",
      "Iteration:5\n",
      "ML: -9331.243; \tML change (error):    98.700; \tSigma^2:     0.032; \tSigma^2 change:     0.010\n",
      "[=                                                                       ]\n",
      "Iteration:6\n",
      "ML: -9466.175; \tML change (error):   134.932; \tSigma^2:     0.023; \tSigma^2 change:     0.009\n",
      "[=                                                                       ]\n",
      "Iteration:7\n",
      "ML: -9624.614; \tML change (error):   158.440; \tSigma^2:     0.017; \tSigma^2 change:     0.007\n",
      "[=                                                                       ]\n",
      "Iteration:8\n",
      "ML: -9789.698; \tML change (error):   165.083; \tSigma^2:     0.012; \tSigma^2 change:     0.005\n",
      "[=                                                                       ]\n",
      "Iteration:9\n",
      "ML: -9954.870; \tML change (error):   165.172; \tSigma^2:     0.008; \tSigma^2 change:     0.003\n",
      "[==                                                                      ]\n",
      "Iteration:10\n",
      "ML:-10119.737; \tML change (error):   164.867; \tSigma^2:     0.006; \tSigma^2 change:     0.002\n",
      "[==                                                                      ]\n",
      "Iteration:11\n",
      "ML:-10285.113; \tML change (error):   165.376; \tSigma^2:     0.004; \tSigma^2 change:     0.002\n",
      "[==                                                                      ]\n",
      "Iteration:12\n",
      "ML:-10450.443; \tML change (error):   165.330; \tSigma^2:     0.003; \tSigma^2 change:     0.001\n",
      "[==                                                                      ]\n",
      "Iteration:13\n",
      "ML:-10612.130; \tML change (error):   161.687; \tSigma^2:     0.002; \tSigma^2 change:     0.001\n",
      "[===                                                                     ]\n",
      "Iteration:14\n",
      "ML:-10763.090; \tML change (error):   150.960; \tSigma^2:     0.001; \tSigma^2 change:     0.001\n",
      "[===                                                                     ]\n",
      "Iteration:15\n",
      "ML:-10893.959; \tML change (error):   130.869; \tSigma^2:     0.001; \tSigma^2 change:     0.000\n",
      "[===                                                                     ]\n",
      "Iteration:16\n",
      "ML:-10996.680; \tML change (error):   102.721; \tSigma^2:     0.001; \tSigma^2 change:     0.000\n",
      "[===                                                                     ]\n",
      "Iteration:17\n",
      "ML:-11068.178; \tML change (error):    71.498; \tSigma^2:     0.001; \tSigma^2 change:     0.000\n",
      "[====                                                                    ]\n",
      "Iteration:18\n",
      "ML:-11111.386; \tML change (error):    43.208; \tSigma^2:     0.001; \tSigma^2 change:     0.000\n",
      "[====                                                                    ]\n",
      "Iteration:19\n",
      "ML:-11133.869; \tML change (error):    22.483; \tSigma^2:     0.001; \tSigma^2 change:     0.000\n",
      "[====                                                                    ]\n",
      "Iteration:20\n",
      "ML:-11144.164; \tML change (error):    10.295; \tSigma^2:     0.001; \tSigma^2 change:     0.000\n",
      "[====                                                                    ]\n",
      "Iteration:21\n",
      "ML:-11148.527; \tML change (error):     4.363; \tSigma^2:     0.001; \tSigma^2 change:     0.000\n",
      "[=====                                                                   ]\n",
      "Iteration:22\n",
      "ML:-11150.353; \tML change (error):     1.827; \tSigma^2:     0.001; \tSigma^2 change:     0.000\n",
      "[=====                                                                   ]\n",
      "Iteration:23\n",
      "ML:-11151.159; \tML change (error):     0.806; \tSigma^2:     0.001; \tSigma^2 change:     0.000\n",
      "[=====                                                                   ]\n",
      "Iteration:24\n",
      "ML:-11151.551; \tML change (error):     0.393; \tSigma^2:     0.001; \tSigma^2 change:     0.000\n",
      "[=====                                                                   ]\n",
      "Iteration:25\n",
      "ML:-11151.767; \tML change (error):     0.216; \tSigma^2:     0.001; \tSigma^2 change:     0.000\n",
      "[======                                                                  ]\n",
      "Iteration:26\n",
      "ML:-11151.900; \tML change (error):     0.133; \tSigma^2:     0.001; \tSigma^2 change:     0.000\n",
      "[======                                                                  ]\n",
      "Iteration:27\n",
      "ML:-11151.990; \tML change (error):     0.090; \tSigma^2:     0.001; \tSigma^2 change:     0.000\n",
      "[======                                                                  ]\n",
      "Iteration:28\n",
      "ML:-11152.055; \tML change (error):     0.065; \tSigma^2:     0.001; \tSigma^2 change:     0.000\n",
      "[======                                                                  ]\n",
      "Iteration:29\n",
      "ML:-11152.105; \tML change (error):     0.050; \tSigma^2:     0.001; \tSigma^2 change:     0.000\n",
      "[======                                                                  ]\n",
      "Iteration:30\n",
      "ML:-11152.144; \tML change (error):     0.039; \tSigma^2:     0.001; \tSigma^2 change:     0.000\n",
      "[=======                                                                 ]\n",
      "Iteration:31\n",
      "ML:-11152.176; \tML change (error):     0.032; \tSigma^2:     0.001; \tSigma^2 change:     0.000\n",
      "[=======                                                                 ]\n",
      "Iteration:32\n",
      "ML:-11152.203; \tML change (error):     0.027; \tSigma^2:     0.001; \tSigma^2 change:     0.000\n",
      "[=======                                                                 ]\n",
      "Iteration:33\n",
      "ML:-11152.225; \tML change (error):     0.023; \tSigma^2:     0.001; \tSigma^2 change:     0.000\n",
      "[=======                                                                 ]\n",
      "Iteration:34\n",
      "ML:-11152.244; \tML change (error):     0.019; \tSigma^2:     0.001; \tSigma^2 change:     0.000\n",
      "[========                                                                ]\n",
      "Iteration:35\n",
      "ML:-11152.261; \tML change (error):     0.017; \tSigma^2:     0.001; \tSigma^2 change:     0.000\n",
      "[========                                                                ]\n",
      "Iteration:36\n",
      "ML:-11152.275; \tML change (error):     0.014; \tSigma^2:     0.001; \tSigma^2 change:     0.000\n",
      "[========                                                                ]\n",
      "Iteration:37\n",
      "ML:-11152.288; \tML change (error):     0.012; \tSigma^2:     0.001; \tSigma^2 change:     0.000\n",
      "[========                                                                ]\n",
      "Iteration:38\n",
      "ML:-11152.299; \tML change (error):     0.011; \tSigma^2:     0.001; \tSigma^2 change:     0.000\n",
      "[=========                                                               ]\n",
      "Iteration:39\n",
      "ML:-11152.308; \tML change (error):     0.010; \tSigma^2:     0.001; \tSigma^2 change:     0.000\n",
      "[=========                                                               ]\n",
      "Iteration:40\n",
      "ML:-11152.317; \tML change (error):     0.008; \tSigma^2:     0.001; \tSigma^2 change:     0.000\n",
      "[=========                                                               ]\n",
      "Iteration:41\n",
      "ML:-11152.324; \tML change (error):     0.007; \tSigma^2:     0.001; \tSigma^2 change:     0.000\n",
      "[=========                                                               ]\n",
      "Iteration:42\n",
      "ML:-11152.330; \tML change (error):     0.007; \tSigma^2:     0.001; \tSigma^2 change:     0.000\n",
      "[==========                                                              ]\n",
      "Iteration:43\n",
      "ML:-11152.336; \tML change (error):     0.006; \tSigma^2:     0.001; \tSigma^2 change:     0.000\n",
      "[==========                                                              ]\n"
     ]
    },
    {
     "name": "stdout",
     "output_type": "stream",
     "text": [
      "Iteration:44\n",
      "ML:-11152.341; \tML change (error):     0.005; \tSigma^2:     0.001; \tSigma^2 change:     0.000\n",
      "[==========                                                              ]\n",
      "Iteration:45\n",
      "ML:-11152.346; \tML change (error):     0.004; \tSigma^2:     0.001; \tSigma^2 change:     0.000\n",
      "[==========                                                              ]\n",
      "Iteration:46\n",
      "ML:-11152.350; \tML change (error):     0.004; \tSigma^2:     0.001; \tSigma^2 change:     0.000\n",
      "[===========                                                             ]\n",
      "Iteration:47\n",
      "ML:-11152.353; \tML change (error):     0.004; \tSigma^2:     0.001; \tSigma^2 change:     0.000\n",
      "[===========                                                             ]\n",
      "Iteration:48\n",
      "ML:-11152.356; \tML change (error):     0.003; \tSigma^2:     0.001; \tSigma^2 change:     0.000\n",
      "[===========                                                             ]\n",
      "Iteration:49\n",
      "ML:-11152.359; \tML change (error):     0.003; \tSigma^2:     0.001; \tSigma^2 change:     0.000\n",
      "[===========                                                             ]\n",
      "Iteration:50\n",
      "ML:-11152.362; \tML change (error):     0.002; \tSigma^2:     0.001; \tSigma^2 change:     0.000\n",
      "[============                                                            ]\n",
      "Iteration:51\n",
      "ML:-11152.364; \tML change (error):     0.002; \tSigma^2:     0.001; \tSigma^2 change:     0.000\n",
      "[============                                                            ]\n",
      "Iteration:52\n",
      "ML:-11152.366; \tML change (error):     0.002; \tSigma^2:     0.001; \tSigma^2 change:     0.000\n",
      "[============                                                            ]\n",
      "Iteration:53\n",
      "ML:-11152.367; \tML change (error):     0.002; \tSigma^2:     0.001; \tSigma^2 change:     0.000\n",
      "[============                                                            ]\n",
      "Iteration:54\n",
      "ML:-11152.369; \tML change (error):     0.002; \tSigma^2:     0.001; \tSigma^2 change:     0.000\n",
      "[============                                                            ]\n",
      "Iteration:55\n",
      "ML:-11152.370; \tML change (error):     0.001; \tSigma^2:     0.001; \tSigma^2 change:     0.000\n",
      "[=============                                                           ]\n",
      "Iteration:56\n",
      "ML:-11152.372; \tML change (error):     0.001; \tSigma^2:     0.001; \tSigma^2 change:     0.000\n",
      "[=============                                                           ]\n",
      "Iteration:57\n",
      "ML:-11152.373; \tML change (error):     0.001; \tSigma^2:     0.001; \tSigma^2 change:     0.000\n",
      "[=============                                                           ]\n",
      "Iteration:58\n",
      "ML:-11152.374; \tML change (error):     0.001; \tSigma^2:     0.001; \tSigma^2 change:     0.000\n",
      "[=============                                                           ]\n",
      "Iteration:59\n",
      "ML:-11152.374; \tML change (error):     0.001; \tSigma^2:     0.001; \tSigma^2 change:     0.000\n",
      "[==============                                                          ]\n",
      "Iteration:60\n",
      "ML:-11152.375; \tML change (error):     0.001; \tSigma^2:     0.001; \tSigma^2 change:     0.000\n",
      "[==============                                                          ]\n",
      "Iteration:61\n",
      "ML:-11152.376; \tML change (error):     0.001; \tSigma^2:     0.001; \tSigma^2 change:     0.000\n",
      "[==============                                                          ]\n",
      "Iteration:62\n",
      "ML:-11152.376; \tML change (error):     0.001; \tSigma^2:     0.001; \tSigma^2 change:     0.000\n",
      "[==============                                                          ]\n",
      "Iteration:63\n",
      "ML:-11152.377; \tML change (error):     0.001; \tSigma^2:     0.001; \tSigma^2 change:     0.000\n",
      "[===============                                                         ]\n",
      "Iteration:64\n",
      "ML:-11152.378; \tML change (error):     0.000; \tSigma^2:     0.001; \tSigma^2 change:     0.000\n",
      "[===============                                                         ]\n",
      "Iteration:65\n",
      "ML:-11152.378; \tML change (error):     0.000; \tSigma^2:     0.001; \tSigma^2 change:     0.000\n",
      "[===============                                                         ]\n",
      "Iteration:66\n",
      "ML:-11152.378; \tML change (error):     0.000; \tSigma^2:     0.001; \tSigma^2 change:     0.000\n",
      "[===============                                                         ]\n",
      "Iteration:67\n",
      "ML:-11152.379; \tML change (error):     0.000; \tSigma^2:     0.001; \tSigma^2 change:     0.000\n",
      "[================                                                        ]\n",
      "Iteration:68\n",
      "ML:-11152.379; \tML change (error):     0.000; \tSigma^2:     0.001; \tSigma^2 change:     0.000\n",
      "[================                                                        ]\n",
      "Iteration:69\n",
      "ML:-11152.379; \tML change (error):     0.000; \tSigma^2:     0.001; \tSigma^2 change:     0.000\n",
      "[================                                                        ]\n",
      "Iteration:70\n",
      "ML:-11152.380; \tML change (error):     0.000; \tSigma^2:     0.001; \tSigma^2 change:     0.000\n",
      "[================                                                        ]\n",
      "Iteration:71\n",
      "ML:-11152.380; \tML change (error):     0.000; \tSigma^2:     0.001; \tSigma^2 change:     0.000\n",
      "[=================                                                       ]\n",
      "Iteration:72\n",
      "ML:-11152.380; \tML change (error):     0.000; \tSigma^2:     0.001; \tSigma^2 change:     0.000\n",
      "[=================                                                       ]\n",
      "Iteration:73\n",
      "ML:-11152.380; \tML change (error):     0.000; \tSigma^2:     0.001; \tSigma^2 change:     0.000\n",
      "[=================                                                       ]\n",
      "Iteration:74\n",
      "ML:-11152.380; \tML change (error):     0.000; \tSigma^2:     0.001; \tSigma^2 change:     0.000\n",
      "[=================                                                       ]\n",
      "Iteration:75\n",
      "ML:-11152.381; \tML change (error):     0.000; \tSigma^2:     0.001; \tSigma^2 change:     0.000\n",
      "[==================                                                      ]\n",
      "Iteration:76\n",
      "ML:-11152.381; \tML change (error):     0.000; \tSigma^2:     0.001; \tSigma^2 change:     0.000\n",
      "[==================                                                      ]\n",
      "Iteration:77\n",
      "ML:-11152.381; \tML change (error):     0.000; \tSigma^2:     0.001; \tSigma^2 change:     0.000\n",
      "[==================                                                      ]\n",
      "Iteration:78\n",
      "ML:-11152.381; \tML change (error):     0.000; \tSigma^2:     0.001; \tSigma^2 change:     0.000\n",
      "[==================                                                      ]\n",
      "Iteration:79\n",
      "ML:-11152.381; \tML change (error):     0.000; \tSigma^2:     0.001; \tSigma^2 change:     0.000\n",
      "[==================                                                      ]\n",
      "Iteration:80\n",
      "ML:-11152.381; \tML change (error):     0.000; \tSigma^2:     0.001; \tSigma^2 change:     0.000\n",
      "[===================                                                     ]\n",
      "Iteration:81\n",
      "ML:-11152.381; \tML change (error):     0.000; \tSigma^2:     0.001; \tSigma^2 change:     0.000\n",
      "[===================                                                     ]\n",
      "Iteration:82\n",
      "ML:-11152.381; \tML change (error):     0.000; \tSigma^2:     0.001; \tSigma^2 change:     0.000\n",
      "[===================                                                     ]\n",
      "Iteration:83\n",
      "ML:-11152.381; \tML change (error):     0.000; \tSigma^2:     0.001; \tSigma^2 change:     0.000\n",
      "[===================                                                     ]\n",
      "Iteration:84\n",
      "ML:-11152.381; \tML change (error):     0.000; \tSigma^2:     0.001; \tSigma^2 change:     0.000\n",
      "[====================                                                    ]\n",
      "Iteration:85\n",
      "ML:-11152.381; \tML change (error):     0.000; \tSigma^2:     0.001; \tSigma^2 change:     0.000\n",
      "[====================                                                    ]\n",
      "Iteration:86\n",
      "ML:-11152.382; \tML change (error):     0.000; \tSigma^2:     0.001; \tSigma^2 change:     0.000\n",
      "[====================                                                    ]\n",
      "Iteration:87\n",
      "ML:-11152.382; \tML change (error):     0.000; \tSigma^2:     0.001; \tSigma^2 change:     0.000\n",
      "[====================                                                    ]\n",
      "Iteration:88\n",
      "ML:-11152.382; \tML change (error):     0.000; \tSigma^2:     0.001; \tSigma^2 change:     0.000\n",
      "[=====================                                                   ]\n",
      "Iteration:89\n",
      "ML:-11152.382; \tML change (error):     0.000; \tSigma^2:     0.001; \tSigma^2 change:     0.000\n",
      "[=====================                                                   ]\n",
      "Iteration:90\n",
      "ML:-11152.382; \tML change (error):     0.000; \tSigma^2:     0.001; \tSigma^2 change:     0.000\n",
      "[=====================                                                   ]\n",
      "Iteration:91\n",
      "ML:-11152.382; \tML change (error):     0.000; \tSigma^2:     0.001; \tSigma^2 change:     0.000\n",
      "[=====================                                                   ]\n"
     ]
    },
    {
     "name": "stdout",
     "output_type": "stream",
     "text": [
      "Iteration:92\n",
      "ML:-11152.382; \tML change (error):     0.000; \tSigma^2:     0.001; \tSigma^2 change:     0.000\n",
      "[======================                                                  ]\n",
      "Iteration:93\n",
      "ML:-11152.382; \tML change (error):     0.000; \tSigma^2:     0.001; \tSigma^2 change:     0.000\n",
      "[======================                                                  ]\n",
      "Iteration:94\n",
      "ML:-11152.382; \tML change (error):     0.000; \tSigma^2:     0.001; \tSigma^2 change:     0.000\n",
      "[======================                                                  ]\n",
      "Iteration:95\n",
      "ML:-11152.382; \tML change (error):     0.000; \tSigma^2:     0.001; \tSigma^2 change:     0.000\n",
      "[======================                                                  ]\n",
      "Iteration:96\n",
      "ML:-11152.382; \tML change (error):     0.000; \tSigma^2:     0.001; \tSigma^2 change:     0.000\n",
      "[=======================                                                 ]\n",
      "Iteration:97\n",
      "ML:-11152.382; \tML change (error):     0.000; \tSigma^2:     0.001; \tSigma^2 change:     0.000\n",
      "[=======================                                                 ]\n",
      "Iteration:98\n",
      "ML:-11152.382; \tML change (error):     0.000; \tSigma^2:     0.001; \tSigma^2 change:     0.000\n",
      "[=======================                                                 ]\n",
      "Iteration:99\n",
      "ML:-11152.382; \tML change (error):     0.000; \tSigma^2:     0.001; \tSigma^2 change:     0.000\n",
      "[=======================                                                 ]\n",
      "Iteration:100\n",
      "ML:-11152.382; \tML change (error):     0.000; \tSigma^2:     0.001; \tSigma^2 change:     0.000\n",
      "[========================                                                ]\n",
      "Iteration:101\n",
      "ML:-11152.382; \tML change (error):     0.000; \tSigma^2:     0.001; \tSigma^2 change:     0.000\n",
      "[========================                                                ]\n",
      "Iteration:102\n",
      "ML:-11152.382; \tML change (error):     0.000; \tSigma^2:     0.001; \tSigma^2 change:     0.000\n",
      "[========================                                                ]\n",
      "Iteration:103\n",
      "ML:-11152.382; \tML change (error):     0.000; \tSigma^2:     0.001; \tSigma^2 change:     0.000\n",
      "[========================                                                ]\n",
      "Iteration:104\n",
      "ML:-11152.382; \tML change (error):     0.000; \tSigma^2:     0.001; \tSigma^2 change:     0.000\n",
      "[========================                                                ]\n",
      "Iteration:105\n",
      "ML:-11152.382; \tML change (error):     0.000; \tSigma^2:     0.001; \tSigma^2 change:     0.000\n",
      "[=========================                                               ]\n",
      "Iteration:106\n",
      "ML:-11152.382; \tML change (error):     0.000; \tSigma^2:     0.001; \tSigma^2 change:     0.000\n",
      "[=========================                                               ]\n",
      "Iteration:107\n",
      "ML:-11152.382; \tML change (error):     0.000; \tSigma^2:     0.001; \tSigma^2 change:     0.000\n",
      "[=========================                                               ]\n",
      "Iteration:108\n",
      "ML:-11152.382; \tML change (error):     0.000; \tSigma^2:     0.001; \tSigma^2 change:     0.000\n",
      "[=========================                                               ]\n",
      "Iteration:109\n",
      "ML:-11152.382; \tML change (error):     0.000; \tSigma^2:     0.001; \tSigma^2 change:     0.000\n",
      "[==========================                                              ]\n",
      "Iteration:110\n",
      "ML:-11152.382; \tML change (error):     0.000; \tSigma^2:     0.001; \tSigma^2 change:     0.000\n",
      "[==========================                                              ]\n",
      "Iteration:111\n",
      "ML:-11152.382; \tML change (error):     0.000; \tSigma^2:     0.001; \tSigma^2 change:     0.000\n",
      "[==========================                                              ]\n",
      "Iteration:112\n",
      "ML:-11152.382; \tML change (error):     0.000; \tSigma^2:     0.001; \tSigma^2 change:     0.000\n",
      "[==========================                                              ]\n",
      "Iteration:113\n",
      "ML:-11152.382; \tML change (error):     0.000; \tSigma^2:     0.001; \tSigma^2 change:     0.000\n",
      "[===========================                                             ]\n",
      "Iteration:114\n",
      "ML:-11152.382; \tML change (error):     0.000; \tSigma^2:     0.001; \tSigma^2 change:     0.000\n",
      "[===========================                                             ]\n",
      "Iteration:115\n",
      "ML:-11152.382; \tML change (error):     0.000; \tSigma^2:     0.001; \tSigma^2 change:     0.000\n",
      "[===========================                                             ]\n",
      "Iteration:116\n",
      "ML:-11152.382; \tML change (error):     0.000; \tSigma^2:     0.001; \tSigma^2 change:     0.000\n",
      "[===========================                                             ]\n",
      "Iteration:117\n",
      "ML:-11152.382; \tML change (error):     0.000; \tSigma^2:     0.001; \tSigma^2 change:     0.000\n",
      "[============================                                            ]\n",
      "Iteration:118\n",
      "ML:-11152.382; \tML change (error):     0.000; \tSigma^2:     0.001; \tSigma^2 change:     0.000\n",
      "[============================                                            ]\n",
      "Iteration:119\n",
      "ML:-11152.382; \tML change (error):     0.000; \tSigma^2:     0.001; \tSigma^2 change:     0.000\n",
      "[============================                                            ]\n",
      "Iteration:120\n",
      "ML:-11152.382; \tML change (error):     0.000; \tSigma^2:     0.001; \tSigma^2 change:     0.000\n",
      "[============================                                            ]\n",
      "Iteration:121\n",
      "ML:-11152.382; \tML change (error):     0.000; \tSigma^2:     0.001; \tSigma^2 change:     0.000\n",
      "[=============================                                           ]\n",
      "Iteration:122\n",
      "ML:-11152.382; \tML change (error):     0.000; \tSigma^2:     0.001; \tSigma^2 change:     0.000\n",
      "[=============================                                           ]\n",
      "Iteration:123\n",
      "ML:-11152.382; \tML change (error):     0.000; \tSigma^2:     0.001; \tSigma^2 change:     0.000\n",
      "[=============================                                           ]\n",
      "Iteration:124\n",
      "ML:-11152.382; \tML change (error):     0.000; \tSigma^2:     0.001; \tSigma^2 change:     0.000\n",
      "[=============================                                           ]\n",
      "Iteration:125\n",
      "ML:-11152.382; \tML change (error):     0.000; \tSigma^2:     0.001; \tSigma^2 change:     0.000\n",
      "[==============================                                          ]\n",
      "Iteration:126\n",
      "ML:-11152.382; \tML change (error):     0.000; \tSigma^2:     0.001; \tSigma^2 change:     0.000\n",
      "[==============================                                          ]\n",
      "Iteration:127\n",
      "ML:-11152.382; \tML change (error):     0.000; \tSigma^2:     0.001; \tSigma^2 change:     0.000\n",
      "[==============================                                          ]\n",
      "Iteration:128\n",
      "ML:-11152.382; \tML change (error):     0.000; \tSigma^2:     0.001; \tSigma^2 change:     0.000\n",
      "[==============================                                          ]\n",
      "Iteration:129\n",
      "ML:-11152.382; \tML change (error):     0.000; \tSigma^2:     0.001; \tSigma^2 change:     0.000\n",
      "[==============================                                          ]\n",
      "Iteration:130\n",
      "ML:-11152.382; \tML change (error):     0.000; \tSigma^2:     0.001; \tSigma^2 change:     0.000\n",
      "[===============================                                         ]\n",
      "Iteration:131\n",
      "ML:-11152.382; \tML change (error):     0.000; \tSigma^2:     0.001; \tSigma^2 change:     0.000\n",
      "[===============================                                         ]\n",
      "Iteration:132\n",
      "ML:-11152.382; \tML change (error):     0.000; \tSigma^2:     0.001; \tSigma^2 change:     0.000\n",
      "[===============================                                         ]\n",
      "Iteration:133\n",
      "ML:-11152.382; \tML change (error):     0.000; \tSigma^2:     0.001; \tSigma^2 change:     0.000\n",
      "[===============================                                         ]\n",
      "Iteration:134\n",
      "ML:-11152.382; \tML change (error):     0.000; \tSigma^2:     0.001; \tSigma^2 change:     0.000\n",
      "[================================                                        ]\n",
      "Iteration:135\n",
      "ML:-11152.382; \tML change (error):     0.000; \tSigma^2:     0.001; \tSigma^2 change:     0.000\n",
      "[================================                                        ]\n",
      "Iteration:136\n",
      "ML:-11152.382; \tML change (error):     0.000; \tSigma^2:     0.001; \tSigma^2 change:     0.000\n",
      "[================================                                        ]\n"
     ]
    },
    {
     "name": "stdout",
     "output_type": "stream",
     "text": [
      "Iteration:137\n",
      "ML:-11152.382; \tML change (error):     0.000; \tSigma^2:     0.001; \tSigma^2 change:     0.000\n",
      "[================================                                        ]\n",
      "Iteration:138\n",
      "ML:-11152.382; \tML change (error):     0.000; \tSigma^2:     0.001; \tSigma^2 change:     0.000\n",
      "[=================================                                       ]\n",
      "Iteration:139\n",
      "ML:-11152.382; \tML change (error):     0.000; \tSigma^2:     0.001; \tSigma^2 change:     0.000\n",
      "[=================================                                       ]\n",
      "Iteration:140\n",
      "ML:-11152.382; \tML change (error):     0.000; \tSigma^2:     0.001; \tSigma^2 change:     0.000\n",
      "[=================================                                       ]\n",
      "Iteration:141\n",
      "ML:-11152.382; \tML change (error):     0.000; \tSigma^2:     0.001; \tSigma^2 change:     0.000\n",
      "[=================================                                       ]\n",
      "Iteration:142\n",
      "ML:-11152.382; \tML change (error):     0.000; \tSigma^2:     0.001; \tSigma^2 change:     0.000\n",
      "[==================================                                      ]\n",
      "Iteration:143\n",
      "ML:-11152.382; \tML change (error):     0.000; \tSigma^2:     0.001; \tSigma^2 change:     0.000\n",
      "[==================================                                      ]\n",
      "Iteration:144\n",
      "ML:-11152.382; \tML change (error):     0.000; \tSigma^2:     0.001; \tSigma^2 change:     0.000\n",
      "[==================================                                      ]\n",
      "Iteration:145\n",
      "ML:-11152.382; \tML change (error):     0.000; \tSigma^2:     0.001; \tSigma^2 change:     0.000\n",
      "[==================================                                      ]\n",
      "Iteration:146\n",
      "ML:-11152.382; \tML change (error):     0.000; \tSigma^2:     0.001; \tSigma^2 change:     0.000\n",
      "[===================================                                     ]\n",
      "Iteration:147\n",
      "ML:-11152.382; \tML change (error):     0.000; \tSigma^2:     0.001; \tSigma^2 change:     0.000\n",
      "[===================================                                     ]\n",
      "Iteration:148\n",
      "ML:-11152.382; \tML change (error):     0.000; \tSigma^2:     0.001; \tSigma^2 change:     0.000\n",
      "[===================================                                     ]\n",
      "Iteration:149\n",
      "ML:-11152.382; \tML change (error):     0.000; \tSigma^2:     0.001; \tSigma^2 change:     0.000\n",
      "[===================================                                     ]\n",
      "Iteration:150\n",
      "ML:-11152.382; \tML change (error):     0.000; \tSigma^2:     0.001; \tSigma^2 change:     0.000\n",
      "[====================================                                    ]\n",
      "Iteration:151\n",
      "ML:-11152.382; \tML change (error):     0.000; \tSigma^2:     0.001; \tSigma^2 change:     0.000\n",
      "[====================================                                    ]\n",
      "Iteration:152\n",
      "ML:-11152.382; \tML change (error):     0.000; \tSigma^2:     0.001; \tSigma^2 change:     0.000\n",
      "[====================================                                    ]\n",
      "Iteration:153\n",
      "ML:-11152.382; \tML change (error):     0.000; \tSigma^2:     0.001; \tSigma^2 change:     0.000\n",
      "[====================================                                    ]\n",
      "Iteration:154\n",
      "ML:-11152.382; \tML change (error):     0.000; \tSigma^2:     0.001; \tSigma^2 change:     0.000\n",
      "[====================================                                    ]\n",
      "Iteration:155\n",
      "ML:-11152.382; \tML change (error):     0.000; \tSigma^2:     0.001; \tSigma^2 change:     0.000\n",
      "[=====================================                                   ]\n",
      "Iteration:156\n",
      "ML:-11152.382; \tML change (error):     0.000; \tSigma^2:     0.001; \tSigma^2 change:     0.000\n",
      "[=====================================                                   ]\n",
      "========================================================================\n",
      "Registration Performance Metrics\n",
      "========================================================================\n",
      "Time to initialize EM: 0.0036439895629882812\n",
      "Time to initialize registration: 0.2193901538848877\n",
      "Average Expectation Time:                    0.0406 +/- 0.0056\n",
      "Average Maximization Time:                   0.0068 +/- 0.0030\n",
      "Maximization Times - Per individual step\n",
      "Average Update Transform Time:               0.0064 +/- 0.0027\n",
      "Average Transform Time:                      0.0003 +/- 0.0008\n",
      "Average Update Variance Time:                0.0002 +/- 0.0002\n",
      "\n",
      "Number of iterations performed:          156\n",
      "Error at time of finish:                 4.893081495538354e-09\n",
      "Number of unique correspondences: 4294\n",
      "time to get cdist: 0.27286410331726074\n",
      "time to linear sum assignment: 7.427667856216431\n",
      "Number of unique correspondences after smoothing: 5000\n"
     ]
    },
    {
     "data": {
      "text/plain": [
       "array([ 112,    1,    2, ..., 4956, 4985, 4903])"
      ]
     },
     "execution_count": 8,
     "metadata": {},
     "output_type": "execute_result"
    }
   ],
   "source": [
    "reg.align_maps()"
   ]
  },
  {
   "cell_type": "markdown",
   "metadata": {},
   "source": [
    "## View the spectral coordinates"
   ]
  },
  {
   "cell_type": "code",
   "execution_count": 9,
   "metadata": {},
   "outputs": [
    {
     "name": "stdout",
     "output_type": "stream",
     "text": [
      "After registration, the range of coordinate values for:\n",
      " Source coordinates:\n",
      "[1. 1. 1.]\n",
      " Target coordinates are: \n",
      "[1.00877376 0.97552979 1.00392702]\n"
     ]
    }
   ],
   "source": [
    "print('After registration, the range of coordinate values for:\\n Source coordinates:\\n'\n",
    "      '{}\\n Target coordinates are: \\n{}'.format(np.ptp(reg.source_spectral_coords, axis=0),\n",
    "                                                         np.ptp(reg.target_spectral_coords, axis=0)))\n"
   ]
  },
  {
   "cell_type": "markdown",
   "metadata": {},
   "source": [
    "The range of the source are 1.0 because we scaled them to be this. The target are slightly different because they have moved while registering to source coordinates. "
   ]
  },
  {
   "cell_type": "code",
   "execution_count": 16,
   "metadata": {},
   "outputs": [
    {
     "data": {
      "application/vnd.jupyter.widget-view+json": {
       "model_id": "aa1c41c1b4054b3499a6880bf691eee4",
       "version_major": 2,
       "version_minor": 0
      },
      "text/plain": [
       "Viewer(point_set_colors=array([[0.12156863, 0.46666667, 0.7058824 ],\n",
       "       [0.17254902, 0.627451  , 0.1725490…"
      ]
     },
     "metadata": {},
     "output_type": "display_data"
    }
   ],
   "source": [
    "reg.view_aligned_spectral_coords(starting_spectral_coord=0, \n",
    "                                 include_rigid_aligned=False, \n",
    "                                 include_unaligned=True,\n",
    "                                 point_set_colors=['C0', 'C2'])"
   ]
  },
  {
   "cell_type": "markdown",
   "metadata": {},
   "source": [
    "Above is a 3D view of the spectral (or other) coordinates used for registration. The starting idx for coords can be changed by changing starting_spectral_coord (depending on number of coordinates/features used to register meshes). "
   ]
  },
  {
   "cell_type": "code",
   "execution_count": 11,
   "metadata": {},
   "outputs": [
    {
     "data": {
      "application/vnd.jupyter.widget-view+json": {
       "model_id": "5c5af8b75a8c480390c8ef013e5fc46a",
       "version_major": 2,
       "version_minor": 0
      },
      "text/plain": [
       "Viewer(geometries=[{'vtkClass': 'vtkPolyData', 'points': {'vtkClass': 'vtkPoints', 'name': '_points', 'numberO…"
      ]
     },
     "metadata": {},
     "output_type": "display_data"
    }
   ],
   "source": [
    "reg.view_meshes_colored_by_spectral_correspondences()"
   ]
  },
  {
   "cell_type": "markdown",
   "metadata": {},
   "source": [
    "Above is the source mesh (geometry 0) and the target mesh (geometry 1). Target is coloured sequentially (0-n_points). Source is colored according to the target idx that each source point was registered to. Therefore, colours from the target should be in anatomically the same location as the corresponding colour on the source mesh. <br>\n",
    "\n",
    "Pink is at the same point in the range of values for both meshes. So, it's alignment between them helps affirm the good registration. "
   ]
  },
  {
   "cell_type": "code",
   "execution_count": 12,
   "metadata": {},
   "outputs": [
    {
     "data": {
      "application/vnd.jupyter.widget-view+json": {
       "model_id": "664743fa7b494d849dd531bd373b069a",
       "version_major": 2,
       "version_minor": 0
      },
      "text/plain": [
       "Viewer(point_set_colors=array([[0.8392157 , 0.        , 0.        ],\n",
       "       [0.54901963, 0.23137255, 1.       …"
      ]
     },
     "metadata": {},
     "output_type": "display_data"
    }
   ],
   "source": [
    "reg.view_aligned_smoothed_spectral_coords()"
   ]
  },
  {
   "cell_type": "markdown",
   "metadata": {},
   "source": [
    "- Build new mesh (using source points, moved to final positions)\n",
    "- Colour all meshes based on IDX node corresponds to on target mesh. "
   ]
  },
  {
   "cell_type": "code",
   "execution_count": 13,
   "metadata": {},
   "outputs": [],
   "source": [
    "reg.get_source_mesh_transformed()\n",
    "reg.set_all_mesh_scalars_to_corresp_target_idx()"
   ]
  },
  {
   "cell_type": "code",
   "execution_count": 14,
   "metadata": {},
   "outputs": [
    {
     "data": {
      "application/vnd.jupyter.widget-view+json": {
       "model_id": "142512375374475197b0fbf2e58642e5",
       "version_major": 2,
       "version_minor": 0
      },
      "text/plain": [
       "Viewer(geometries=[{'vtkClass': 'vtkPolyData', 'points': {'vtkClass': 'vtkPoints', 'name': '_points', 'numberO…"
      ]
     },
     "metadata": {},
     "output_type": "display_data"
    }
   ],
   "source": [
    "reg.view_meshes(include_source=True,\n",
    "                include_target=True,\n",
    "                include_transformed_target=True\n",
    "                )"
   ]
  },
  {
   "cell_type": "markdown",
   "metadata": {},
   "source": [
    "Above is overlapping visualization of the three meshes: \n",
    "- Original Target\n",
    "- Original Source\n",
    "- Transformed Source (to target surface). \n",
    "\n",
    "Possible to turn each one off/on, turn to wire mesh, change transparency, and change colours. "
   ]
  },
  {
   "cell_type": "code",
   "execution_count": null,
   "metadata": {},
   "outputs": [],
   "source": []
  }
 ],
 "metadata": {
  "kernelspec": {
   "display_name": "Python 3",
   "language": "python",
   "name": "python3"
  },
  "language_info": {
   "codemirror_mode": {
    "name": "ipython",
    "version": 3
   },
   "file_extension": ".py",
   "mimetype": "text/x-python",
   "name": "python",
   "nbconvert_exporter": "python",
   "pygments_lexer": "ipython3",
   "version": "3.7.6"
  }
 },
 "nbformat": 4,
 "nbformat_minor": 4
}
