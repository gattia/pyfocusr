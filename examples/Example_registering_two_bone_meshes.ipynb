{
 "cells": [
  {
   "cell_type": "code",
   "execution_count": 1,
   "metadata": {},
   "outputs": [],
   "source": [
    "import os\n",
    "\n",
    "import numpy as np\n",
    "import vtk\n",
    "from vtk.util.numpy_support import numpy_to_vtk, vtk_to_numpy\n",
    "\n",
    "import pyfocusr\n",
    "from pyfocusr.vtk_functions import read_vtk_mesh"
   ]
  },
  {
   "cell_type": "code",
   "execution_count": 2,
   "metadata": {},
   "outputs": [],
   "source": [
    "location_meshes = '../data/'\n",
    "n_points = '5k'\n",
    "\n",
    "if n_points == '5k':\n",
    "    target_filename = 'target_mesh.vtk'\n",
    "    source_filename = 'source_mesh.vtk'\n",
    "elif n_points == '15k':\n",
    "    target_filename = 'target_mesh_15k.vtk'\n",
    "    source_filename = 'source_mesh_15k.vtk'\n",
    "    \n",
    "target_vtk_mesh = read_vtk_mesh(os.path.join(location_meshes, target_filename))\n",
    "source_vtk_mesh = read_vtk_mesh(os.path.join(location_meshes, source_filename))"
   ]
  },
  {
   "cell_type": "code",
   "execution_count": 3,
   "metadata": {},
   "outputs": [
    {
     "name": "stdout",
     "output_type": "stream",
     "text": [
      "Loaded Mesh 1\n",
      "Beginning Eigen Decomposition\n",
      "Eigen values are: \n",
      "[-3.98708395e-18  8.39246263e-04  1.63007145e-03  2.12549101e-03\n",
      "  3.13941439e-03  3.77495258e-03  4.01682329e-03]\n",
      "Computed spectrum 1\n",
      "Loaded Mesh 2\n",
      "Beginning Eigen Decomposition\n",
      "Eigen values are: \n",
      "[-9.19459446e-18  8.31236570e-04  1.64152416e-03  2.11362458e-03\n",
      "  3.09029787e-03  3.88535401e-03  3.92405051e-03]\n",
      "Computed spectrum 2\n"
     ]
    }
   ],
   "source": [
    "reg = pyfocusr.Focusr(vtk_mesh_target=target_vtk_mesh, \n",
    "                      vtk_mesh_source=source_vtk_mesh,\n",
    "                      n_spectral_features=3,\n",
    "                      n_extra_spectral=3,\n",
    "                      get_weighted_spectral_coords=False,\n",
    "                      list_features_to_calc=[], # 'curvatures', min_curvature' 'max_curvature'\n",
    "                      rigid_reg_max_iterations=100,\n",
    "                      non_rigid_alpha=0.01,\n",
    "                      non_rigid_beta=50,\n",
    "                      non_rigid_n_eigens=100,\n",
    "                      non_rigid_max_iterations=300,\n",
    "                      rigid_before_non_rigid_reg=False,\n",
    "                      projection_smooth_iterations=1,\n",
    "                      graph_smoothing_iterations=600,\n",
    "                      feature_smoothing_iterations=1,\n",
    "                      include_points_as_features=False,\n",
    "                      norm_physical_and_spectral=True,\n",
    "                      feature_weights=np.diag([.1,.1]),\n",
    "                      n_coords_spectral_ordering=10000,\n",
    "                      n_coords_spectral_registration=1000,\n",
    "                      initial_correspondence_type='hungarian',\n",
    "                      final_correspondence_type='kd')  #'kd' 'hungarian'"
   ]
  },
  {
   "cell_type": "markdown",
   "metadata": {},
   "source": [
    "Printed statement indicate progress while loading the meshes and computing spectral coordinates. The eigenvalues are printed, and if there were too many null eigenvalues then the eigenvectors will be re-calculated and the eigenvalues re-printed. \n"
   ]
  },
  {
   "cell_type": "markdown",
   "metadata": {},
   "source": [
    "### View mesh features"
   ]
  },
  {
   "cell_type": "markdown",
   "metadata": {},
   "source": [
    "### View un-ordered/corrected/weighted eigenvectors (spectral coordinates)"
   ]
  },
  {
   "cell_type": "markdown",
   "metadata": {},
   "source": [
    "#### Source Eigenvector 1"
   ]
  },
  {
   "cell_type": "code",
   "execution_count": 4,
   "metadata": {},
   "outputs": [],
   "source": [
    "eig_vec = 2"
   ]
  },
  {
   "cell_type": "code",
   "execution_count": 5,
   "metadata": {
    "scrolled": true
   },
   "outputs": [
    {
     "data": {
      "application/vnd.jupyter.widget-view+json": {
       "model_id": "0ccf1cbb99074244b34384de2c517917",
       "version_major": 2,
       "version_minor": 0
      },
      "text/plain": [
       "Viewer(geometries=[{'vtkClass': 'vtkPolyData', 'points': {'vtkClass': 'vtkPoints', 'name': '_points', 'numberO…"
      ]
     },
     "metadata": {},
     "output_type": "display_data"
    }
   ],
   "source": [
    "reg.graph_source.view_mesh_eig_vec(eig_vec=eig_vec)"
   ]
  },
  {
   "cell_type": "markdown",
   "metadata": {},
   "source": [
    "#### Target Eigenvector 1"
   ]
  },
  {
   "cell_type": "code",
   "execution_count": 6,
   "metadata": {
    "scrolled": true
   },
   "outputs": [
    {
     "data": {
      "application/vnd.jupyter.widget-view+json": {
       "model_id": "ba439fa4010e486ab22e70700b24554c",
       "version_major": 2,
       "version_minor": 0
      },
      "text/plain": [
       "Viewer(geometries=[{'vtkClass': 'vtkPolyData', 'points': {'vtkClass': 'vtkPoints', 'name': '_points', 'numberO…"
      ]
     },
     "metadata": {},
     "output_type": "display_data"
    }
   ],
   "source": [
    "reg.graph_target.view_mesh_eig_vec(eig_vec=eig_vec)"
   ]
  },
  {
   "cell_type": "markdown",
   "metadata": {},
   "source": [
    "# Notes about comparison: \n",
    "Depending on if we include features ('curvature') or not, we will get different results for these meshes. \n",
    "\n",
    "If we leave the list at `list_features_to_calc` as an empty list `[]` then: <br>\n",
    "We note that the color gradient is the same (in the same direction) between the two meshes. However, the colours are flipped. This is because the direction of \"positive\" can be flipped from one mesh to another. This will (should) be corrected automatically before the registration begins. \n",
    "\n",
    "If we include `'curvature'` in `list_features_to_calc` with `['curvature']` then: <br>\n",
    "We get eigenvectors that align in direction and orientation (at least for the first 3 (0, 1, 2). \n",
    "\n",
    "Note, the flipped nature of the spectral coordinates can/will be corrected in the algorithm (if it exists). However, this only works because these are both of the same leg (right - as evident by the large side of the trochlear groove) and will likely faily/break if a left and right leg were analyzed. Therefore, all legs should be flipped to be the same side to \"fix\" things. "
   ]
  },
  {
   "cell_type": "markdown",
   "metadata": {},
   "source": [
    "## Begin Registration\n",
    "This will print out the registration parameters/results as it goes. <br>\n",
    "- First it will print out the \"pairs\" of eigenvectors between the two meshes and which ones on the source were flipped to match the target eigenvectors. \n",
    "- Second, if rigid registration was performed first, it will print the rigid registration progress and ultimately the registration \"results\"/\"parameters\" \n",
    "- Third it will print the non-rigid registration progress. \n"
   ]
  },
  {
   "cell_type": "code",
   "execution_count": 7,
   "metadata": {},
   "outputs": [
    {
     "name": "stdout",
     "output_type": "stream",
     "text": [
      "========================================================================\n",
      "\n",
      "Eigenvector Sorting Results\n",
      "\n",
      "========================================================================\n",
      "The matches for eigenvectors were as follows:\n",
      "Target\t|  Source\n",
      "     0\t|  0     \n",
      "     1\t|  1     \n",
      "     2\t|  -2    \n",
      "     3\t|  3     \n",
      "     4\t|  -4    \n",
      "     5\t|  5     \n",
      "*Negative source values means those eigenvectors were flipped*\n",
      " \n",
      "Number of features (including spectral) used for registartion: 3\n",
      "========================================================================\n",
      "\n",
      "Non-Rigid (Deformable) Registration Beginning\n",
      "\n",
      "========================================================================\n",
      "Iteration:1\n",
      "ML: -8380.968; \tML change (error):  8380.968; \tSigma^2:     0.069; \tSigma^2 change:     0.106\n",
      "[                                                                        ]\n",
      "Iteration:2\n",
      "ML: -9104.712; \tML change (error):   723.744; \tSigma^2:     0.061; \tSigma^2 change:     0.008\n",
      "[                                                                        ]\n",
      "Iteration:3\n",
      "ML: -9151.754; \tML change (error):    47.042; \tSigma^2:     0.052; \tSigma^2 change:     0.009\n",
      "[                                                                        ]\n",
      "Iteration:4\n",
      "ML: -9218.045; \tML change (error):    66.291; \tSigma^2:     0.042; \tSigma^2 change:     0.010\n",
      "[                                                                        ]\n",
      "Iteration:5\n",
      "ML: -9318.364; \tML change (error):   100.319; \tSigma^2:     0.032; \tSigma^2 change:     0.010\n",
      "[=                                                                       ]\n",
      "Iteration:6\n",
      "ML: -9457.557; \tML change (error):   139.194; \tSigma^2:     0.023; \tSigma^2 change:     0.009\n",
      "[=                                                                       ]\n",
      "Iteration:7\n",
      "ML: -9620.768; \tML change (error):   163.211; \tSigma^2:     0.017; \tSigma^2 change:     0.007\n",
      "[=                                                                       ]\n",
      "Iteration:8\n",
      "ML: -9791.042; \tML change (error):   170.274; \tSigma^2:     0.012; \tSigma^2 change:     0.005\n",
      "[=                                                                       ]\n",
      "Iteration:9\n",
      "ML: -9961.597; \tML change (error):   170.555; \tSigma^2:     0.008; \tSigma^2 change:     0.003\n",
      "[==                                                                      ]\n",
      "Iteration:10\n",
      "ML:-10130.568; \tML change (error):   168.971; \tSigma^2:     0.006; \tSigma^2 change:     0.002\n",
      "[==                                                                      ]\n",
      "Iteration:11\n",
      "ML:-10296.729; \tML change (error):   166.162; \tSigma^2:     0.004; \tSigma^2 change:     0.002\n",
      "[==                                                                      ]\n",
      "Iteration:12\n",
      "ML:-10457.748; \tML change (error):   161.019; \tSigma^2:     0.003; \tSigma^2 change:     0.001\n",
      "[==                                                                      ]\n",
      "Iteration:13\n",
      "ML:-10609.392; \tML change (error):   151.644; \tSigma^2:     0.002; \tSigma^2 change:     0.001\n",
      "[===                                                                     ]\n",
      "Iteration:14\n",
      "ML:-10746.122; \tML change (error):   136.730; \tSigma^2:     0.002; \tSigma^2 change:     0.001\n",
      "[===                                                                     ]\n",
      "Iteration:15\n",
      "ML:-10862.668; \tML change (error):   116.545; \tSigma^2:     0.001; \tSigma^2 change:     0.000\n",
      "[===                                                                     ]\n",
      "Iteration:16\n",
      "ML:-10955.247; \tML change (error):    92.579; \tSigma^2:     0.001; \tSigma^2 change:     0.000\n",
      "[===                                                                     ]\n",
      "Iteration:17\n",
      "ML:-11022.264; \tML change (error):    67.017; \tSigma^2:     0.001; \tSigma^2 change:     0.000\n",
      "[====                                                                    ]\n",
      "Iteration:18\n",
      "ML:-11065.260; \tML change (error):    42.996; \tSigma^2:     0.001; \tSigma^2 change:     0.000\n",
      "[====                                                                    ]\n",
      "Iteration:19\n",
      "ML:-11089.221; \tML change (error):    23.961; \tSigma^2:     0.001; \tSigma^2 change:     0.000\n",
      "[====                                                                    ]\n",
      "Iteration:20\n",
      "ML:-11100.852; \tML change (error):    11.632; \tSigma^2:     0.001; \tSigma^2 change:     0.000\n",
      "[====                                                                    ]\n",
      "Iteration:21\n",
      "ML:-11105.929; \tML change (error):     5.077; \tSigma^2:     0.001; \tSigma^2 change:     0.000\n",
      "[=====                                                                   ]\n",
      "Iteration:22\n",
      "ML:-11108.038; \tML change (error):     2.109; \tSigma^2:     0.001; \tSigma^2 change:     0.000\n",
      "[=====                                                                   ]\n",
      "Iteration:23\n",
      "ML:-11108.937; \tML change (error):     0.899; \tSigma^2:     0.001; \tSigma^2 change:     0.000\n",
      "[=====                                                                   ]\n",
      "Iteration:24\n",
      "ML:-11109.365; \tML change (error):     0.428; \tSigma^2:     0.001; \tSigma^2 change:     0.000\n",
      "[=====                                                                   ]\n",
      "Iteration:25\n",
      "ML:-11109.607; \tML change (error):     0.242; \tSigma^2:     0.001; \tSigma^2 change:     0.000\n",
      "[======                                                                  ]\n",
      "Iteration:26\n",
      "ML:-11109.770; \tML change (error):     0.163; \tSigma^2:     0.001; \tSigma^2 change:     0.000\n",
      "[======                                                                  ]\n",
      "Iteration:27\n",
      "ML:-11109.894; \tML change (error):     0.124; \tSigma^2:     0.001; \tSigma^2 change:     0.000\n",
      "[======                                                                  ]\n",
      "Iteration:28\n",
      "ML:-11109.996; \tML change (error):     0.102; \tSigma^2:     0.001; \tSigma^2 change:     0.000\n",
      "[======                                                                  ]\n",
      "Iteration:29\n",
      "ML:-11110.083; \tML change (error):     0.087; \tSigma^2:     0.001; \tSigma^2 change:     0.000\n",
      "[======                                                                  ]\n",
      "Iteration:30\n",
      "ML:-11110.160; \tML change (error):     0.077; \tSigma^2:     0.001; \tSigma^2 change:     0.000\n",
      "[=======                                                                 ]\n",
      "Iteration:31\n",
      "ML:-11110.228; \tML change (error):     0.068; \tSigma^2:     0.001; \tSigma^2 change:     0.000\n",
      "[=======                                                                 ]\n",
      "Iteration:32\n",
      "ML:-11110.289; \tML change (error):     0.061; \tSigma^2:     0.001; \tSigma^2 change:     0.000\n",
      "[=======                                                                 ]\n",
      "Iteration:33\n",
      "ML:-11110.344; \tML change (error):     0.055; \tSigma^2:     0.001; \tSigma^2 change:     0.000\n",
      "[=======                                                                 ]\n",
      "Iteration:34\n",
      "ML:-11110.393; \tML change (error):     0.050; \tSigma^2:     0.001; \tSigma^2 change:     0.000\n",
      "[========                                                                ]\n",
      "Iteration:35\n",
      "ML:-11110.438; \tML change (error):     0.045; \tSigma^2:     0.001; \tSigma^2 change:     0.000\n",
      "[========                                                                ]\n",
      "Iteration:36\n",
      "ML:-11110.479; \tML change (error):     0.041; \tSigma^2:     0.001; \tSigma^2 change:     0.000\n",
      "[========                                                                ]\n",
      "Iteration:37\n",
      "ML:-11110.516; \tML change (error):     0.037; \tSigma^2:     0.001; \tSigma^2 change:     0.000\n",
      "[========                                                                ]\n",
      "Iteration:38\n",
      "ML:-11110.550; \tML change (error):     0.034; \tSigma^2:     0.001; \tSigma^2 change:     0.000\n",
      "[=========                                                               ]\n",
      "Iteration:39\n",
      "ML:-11110.580; \tML change (error):     0.031; \tSigma^2:     0.001; \tSigma^2 change:     0.000\n",
      "[=========                                                               ]\n",
      "Iteration:40\n",
      "ML:-11110.608; \tML change (error):     0.028; \tSigma^2:     0.001; \tSigma^2 change:     0.000\n",
      "[=========                                                               ]\n",
      "Iteration:41\n",
      "ML:-11110.633; \tML change (error):     0.025; \tSigma^2:     0.001; \tSigma^2 change:     0.000\n",
      "[=========                                                               ]\n",
      "Iteration:42\n",
      "ML:-11110.656; \tML change (error):     0.023; \tSigma^2:     0.001; \tSigma^2 change:     0.000\n",
      "[==========                                                              ]\n",
      "Iteration:43\n",
      "ML:-11110.677; \tML change (error):     0.021; \tSigma^2:     0.001; \tSigma^2 change:     0.000\n",
      "[==========                                                              ]\n"
     ]
    },
    {
     "name": "stdout",
     "output_type": "stream",
     "text": [
      "Iteration:44\n",
      "ML:-11110.696; \tML change (error):     0.019; \tSigma^2:     0.001; \tSigma^2 change:     0.000\n",
      "[==========                                                              ]\n",
      "Iteration:45\n",
      "ML:-11110.713; \tML change (error):     0.017; \tSigma^2:     0.001; \tSigma^2 change:     0.000\n",
      "[==========                                                              ]\n",
      "Iteration:46\n",
      "ML:-11110.729; \tML change (error):     0.016; \tSigma^2:     0.001; \tSigma^2 change:     0.000\n",
      "[===========                                                             ]\n",
      "Iteration:47\n",
      "ML:-11110.743; \tML change (error):     0.014; \tSigma^2:     0.001; \tSigma^2 change:     0.000\n",
      "[===========                                                             ]\n",
      "Iteration:48\n",
      "ML:-11110.756; \tML change (error):     0.013; \tSigma^2:     0.001; \tSigma^2 change:     0.000\n",
      "[===========                                                             ]\n",
      "Iteration:49\n",
      "ML:-11110.768; \tML change (error):     0.012; \tSigma^2:     0.001; \tSigma^2 change:     0.000\n",
      "[===========                                                             ]\n",
      "Iteration:50\n",
      "ML:-11110.779; \tML change (error):     0.011; \tSigma^2:     0.001; \tSigma^2 change:     0.000\n",
      "[============                                                            ]\n",
      "Iteration:51\n",
      "ML:-11110.789; \tML change (error):     0.010; \tSigma^2:     0.001; \tSigma^2 change:     0.000\n",
      "[============                                                            ]\n",
      "Iteration:52\n",
      "ML:-11110.798; \tML change (error):     0.009; \tSigma^2:     0.001; \tSigma^2 change:     0.000\n",
      "[============                                                            ]\n",
      "Iteration:53\n",
      "ML:-11110.806; \tML change (error):     0.008; \tSigma^2:     0.001; \tSigma^2 change:     0.000\n",
      "[============                                                            ]\n",
      "Iteration:54\n",
      "ML:-11110.813; \tML change (error):     0.007; \tSigma^2:     0.001; \tSigma^2 change:     0.000\n",
      "[============                                                            ]\n",
      "Iteration:55\n",
      "ML:-11110.820; \tML change (error):     0.007; \tSigma^2:     0.001; \tSigma^2 change:     0.000\n",
      "[=============                                                           ]\n",
      "Iteration:56\n",
      "ML:-11110.826; \tML change (error):     0.006; \tSigma^2:     0.001; \tSigma^2 change:     0.000\n",
      "[=============                                                           ]\n",
      "Iteration:57\n",
      "ML:-11110.832; \tML change (error):     0.006; \tSigma^2:     0.001; \tSigma^2 change:    -0.000\n",
      "[=============                                                           ]\n",
      "Iteration:58\n",
      "ML:-11110.837; \tML change (error):     0.005; \tSigma^2:     0.001; \tSigma^2 change:    -0.000\n",
      "[=============                                                           ]\n",
      "Iteration:59\n",
      "ML:-11110.842; \tML change (error):     0.005; \tSigma^2:     0.001; \tSigma^2 change:    -0.000\n",
      "[==============                                                          ]\n",
      "Iteration:60\n",
      "ML:-11110.846; \tML change (error):     0.004; \tSigma^2:     0.001; \tSigma^2 change:    -0.000\n",
      "[==============                                                          ]\n",
      "Iteration:61\n",
      "ML:-11110.850; \tML change (error):     0.004; \tSigma^2:     0.001; \tSigma^2 change:    -0.000\n",
      "[==============                                                          ]\n",
      "Iteration:62\n",
      "ML:-11110.854; \tML change (error):     0.004; \tSigma^2:     0.001; \tSigma^2 change:    -0.000\n",
      "[==============                                                          ]\n",
      "Iteration:63\n",
      "ML:-11110.857; \tML change (error):     0.003; \tSigma^2:     0.001; \tSigma^2 change:    -0.000\n",
      "[===============                                                         ]\n",
      "Iteration:64\n",
      "ML:-11110.860; \tML change (error):     0.003; \tSigma^2:     0.001; \tSigma^2 change:    -0.000\n",
      "[===============                                                         ]\n",
      "Iteration:65\n",
      "ML:-11110.862; \tML change (error):     0.003; \tSigma^2:     0.001; \tSigma^2 change:    -0.000\n",
      "[===============                                                         ]\n",
      "Iteration:66\n",
      "ML:-11110.865; \tML change (error):     0.002; \tSigma^2:     0.001; \tSigma^2 change:    -0.000\n",
      "[===============                                                         ]\n",
      "Iteration:67\n",
      "ML:-11110.867; \tML change (error):     0.002; \tSigma^2:     0.001; \tSigma^2 change:    -0.000\n",
      "[================                                                        ]\n",
      "Iteration:68\n",
      "ML:-11110.869; \tML change (error):     0.002; \tSigma^2:     0.001; \tSigma^2 change:    -0.000\n",
      "[================                                                        ]\n",
      "Iteration:69\n",
      "ML:-11110.871; \tML change (error):     0.002; \tSigma^2:     0.001; \tSigma^2 change:    -0.000\n",
      "[================                                                        ]\n",
      "Iteration:70\n",
      "ML:-11110.873; \tML change (error):     0.002; \tSigma^2:     0.001; \tSigma^2 change:    -0.000\n",
      "[================                                                        ]\n",
      "Iteration:71\n",
      "ML:-11110.874; \tML change (error):     0.002; \tSigma^2:     0.001; \tSigma^2 change:    -0.000\n",
      "[=================                                                       ]\n",
      "Iteration:72\n",
      "ML:-11110.876; \tML change (error):     0.001; \tSigma^2:     0.001; \tSigma^2 change:    -0.000\n",
      "[=================                                                       ]\n",
      "Iteration:73\n",
      "ML:-11110.877; \tML change (error):     0.001; \tSigma^2:     0.001; \tSigma^2 change:    -0.000\n",
      "[=================                                                       ]\n",
      "Iteration:74\n",
      "ML:-11110.878; \tML change (error):     0.001; \tSigma^2:     0.001; \tSigma^2 change:    -0.000\n",
      "[=================                                                       ]\n",
      "Iteration:75\n",
      "ML:-11110.879; \tML change (error):     0.001; \tSigma^2:     0.001; \tSigma^2 change:    -0.000\n",
      "[==================                                                      ]\n",
      "Iteration:76\n",
      "ML:-11110.880; \tML change (error):     0.001; \tSigma^2:     0.001; \tSigma^2 change:    -0.000\n",
      "[==================                                                      ]\n",
      "Iteration:77\n",
      "ML:-11110.881; \tML change (error):     0.001; \tSigma^2:     0.001; \tSigma^2 change:    -0.000\n",
      "[==================                                                      ]\n",
      "Iteration:78\n",
      "ML:-11110.882; \tML change (error):     0.001; \tSigma^2:     0.001; \tSigma^2 change:    -0.000\n",
      "[==================                                                      ]\n",
      "Iteration:79\n",
      "ML:-11110.882; \tML change (error):     0.001; \tSigma^2:     0.001; \tSigma^2 change:    -0.000\n",
      "[==================                                                      ]\n",
      "Iteration:80\n",
      "ML:-11110.883; \tML change (error):     0.001; \tSigma^2:     0.001; \tSigma^2 change:    -0.000\n",
      "[===================                                                     ]\n",
      "Iteration:81\n",
      "ML:-11110.884; \tML change (error):     0.001; \tSigma^2:     0.001; \tSigma^2 change:    -0.000\n",
      "[===================                                                     ]\n",
      "Iteration:82\n",
      "ML:-11110.884; \tML change (error):     0.001; \tSigma^2:     0.001; \tSigma^2 change:    -0.000\n",
      "[===================                                                     ]\n",
      "Iteration:83\n",
      "ML:-11110.885; \tML change (error):     0.001; \tSigma^2:     0.001; \tSigma^2 change:    -0.000\n",
      "[===================                                                     ]\n",
      "Iteration:84\n",
      "ML:-11110.885; \tML change (error):     0.000; \tSigma^2:     0.001; \tSigma^2 change:    -0.000\n",
      "[====================                                                    ]\n",
      "Iteration:85\n",
      "ML:-11110.886; \tML change (error):     0.000; \tSigma^2:     0.001; \tSigma^2 change:    -0.000\n",
      "[====================                                                    ]\n",
      "Iteration:86\n",
      "ML:-11110.886; \tML change (error):     0.000; \tSigma^2:     0.001; \tSigma^2 change:    -0.000\n",
      "[====================                                                    ]\n",
      "Iteration:87\n",
      "ML:-11110.887; \tML change (error):     0.000; \tSigma^2:     0.001; \tSigma^2 change:    -0.000\n",
      "[====================                                                    ]\n",
      "Iteration:88\n",
      "ML:-11110.887; \tML change (error):     0.000; \tSigma^2:     0.001; \tSigma^2 change:    -0.000\n",
      "[=====================                                                   ]\n",
      "Iteration:89\n",
      "ML:-11110.887; \tML change (error):     0.000; \tSigma^2:     0.001; \tSigma^2 change:    -0.000\n",
      "[=====================                                                   ]\n",
      "Iteration:90\n",
      "ML:-11110.887; \tML change (error):     0.000; \tSigma^2:     0.001; \tSigma^2 change:    -0.000\n",
      "[=====================                                                   ]\n",
      "Iteration:91\n",
      "ML:-11110.888; \tML change (error):     0.000; \tSigma^2:     0.001; \tSigma^2 change:    -0.000\n",
      "[=====================                                                   ]\n",
      "Iteration:92\n",
      "ML:-11110.888; \tML change (error):     0.000; \tSigma^2:     0.001; \tSigma^2 change:    -0.000\n",
      "[======================                                                  ]\n",
      "Iteration:93\n",
      "ML:-11110.888; \tML change (error):     0.000; \tSigma^2:     0.001; \tSigma^2 change:    -0.000\n",
      "[======================                                                  ]\n"
     ]
    },
    {
     "name": "stdout",
     "output_type": "stream",
     "text": [
      "Iteration:94\n",
      "ML:-11110.888; \tML change (error):     0.000; \tSigma^2:     0.001; \tSigma^2 change:    -0.000\n",
      "[======================                                                  ]\n",
      "Iteration:95\n",
      "ML:-11110.888; \tML change (error):     0.000; \tSigma^2:     0.001; \tSigma^2 change:    -0.000\n",
      "[======================                                                  ]\n",
      "Iteration:96\n",
      "ML:-11110.889; \tML change (error):     0.000; \tSigma^2:     0.001; \tSigma^2 change:    -0.000\n",
      "[=======================                                                 ]\n",
      "Iteration:97\n",
      "ML:-11110.889; \tML change (error):     0.000; \tSigma^2:     0.001; \tSigma^2 change:    -0.000\n",
      "[=======================                                                 ]\n",
      "Iteration:98\n",
      "ML:-11110.889; \tML change (error):     0.000; \tSigma^2:     0.001; \tSigma^2 change:    -0.000\n",
      "[=======================                                                 ]\n",
      "Iteration:99\n",
      "ML:-11110.889; \tML change (error):     0.000; \tSigma^2:     0.001; \tSigma^2 change:    -0.000\n",
      "[=======================                                                 ]\n",
      "Iteration:100\n",
      "ML:-11110.889; \tML change (error):     0.000; \tSigma^2:     0.001; \tSigma^2 change:    -0.000\n",
      "[========================                                                ]\n",
      "Iteration:101\n",
      "ML:-11110.889; \tML change (error):     0.000; \tSigma^2:     0.001; \tSigma^2 change:    -0.000\n",
      "[========================                                                ]\n",
      "Iteration:102\n",
      "ML:-11110.889; \tML change (error):     0.000; \tSigma^2:     0.001; \tSigma^2 change:    -0.000\n",
      "[========================                                                ]\n",
      "Iteration:103\n",
      "ML:-11110.889; \tML change (error):     0.000; \tSigma^2:     0.001; \tSigma^2 change:    -0.000\n",
      "[========================                                                ]\n",
      "Iteration:104\n",
      "ML:-11110.889; \tML change (error):     0.000; \tSigma^2:     0.001; \tSigma^2 change:    -0.000\n",
      "[========================                                                ]\n",
      "Iteration:105\n",
      "ML:-11110.890; \tML change (error):     0.000; \tSigma^2:     0.001; \tSigma^2 change:    -0.000\n",
      "[=========================                                               ]\n",
      "Iteration:106\n",
      "ML:-11110.890; \tML change (error):     0.000; \tSigma^2:     0.001; \tSigma^2 change:    -0.000\n",
      "[=========================                                               ]\n",
      "Iteration:107\n",
      "ML:-11110.890; \tML change (error):     0.000; \tSigma^2:     0.001; \tSigma^2 change:    -0.000\n",
      "[=========================                                               ]\n",
      "Iteration:108\n",
      "ML:-11110.890; \tML change (error):     0.000; \tSigma^2:     0.001; \tSigma^2 change:    -0.000\n",
      "[=========================                                               ]\n",
      "Iteration:109\n",
      "ML:-11110.890; \tML change (error):     0.000; \tSigma^2:     0.001; \tSigma^2 change:    -0.000\n",
      "[==========================                                              ]\n",
      "Iteration:110\n",
      "ML:-11110.890; \tML change (error):     0.000; \tSigma^2:     0.001; \tSigma^2 change:    -0.000\n",
      "[==========================                                              ]\n",
      "Iteration:111\n",
      "ML:-11110.890; \tML change (error):     0.000; \tSigma^2:     0.001; \tSigma^2 change:    -0.000\n",
      "[==========================                                              ]\n",
      "Iteration:112\n",
      "ML:-11110.890; \tML change (error):     0.000; \tSigma^2:     0.001; \tSigma^2 change:    -0.000\n",
      "[==========================                                              ]\n",
      "Iteration:113\n",
      "ML:-11110.890; \tML change (error):     0.000; \tSigma^2:     0.001; \tSigma^2 change:    -0.000\n",
      "[===========================                                             ]\n",
      "Iteration:114\n",
      "ML:-11110.890; \tML change (error):     0.000; \tSigma^2:     0.001; \tSigma^2 change:    -0.000\n",
      "[===========================                                             ]\n",
      "Iteration:115\n",
      "ML:-11110.890; \tML change (error):     0.000; \tSigma^2:     0.001; \tSigma^2 change:    -0.000\n",
      "[===========================                                             ]\n",
      "Iteration:116\n",
      "ML:-11110.890; \tML change (error):     0.000; \tSigma^2:     0.001; \tSigma^2 change:    -0.000\n",
      "[===========================                                             ]\n",
      "Iteration:117\n",
      "ML:-11110.890; \tML change (error):     0.000; \tSigma^2:     0.001; \tSigma^2 change:    -0.000\n",
      "[============================                                            ]\n",
      "Iteration:118\n",
      "ML:-11110.890; \tML change (error):     0.000; \tSigma^2:     0.001; \tSigma^2 change:    -0.000\n",
      "[============================                                            ]\n",
      "Iteration:119\n",
      "ML:-11110.890; \tML change (error):     0.000; \tSigma^2:     0.001; \tSigma^2 change:    -0.000\n",
      "[============================                                            ]\n",
      "Iteration:120\n",
      "ML:-11110.890; \tML change (error):     0.000; \tSigma^2:     0.001; \tSigma^2 change:    -0.000\n",
      "[============================                                            ]\n",
      "Iteration:121\n",
      "ML:-11110.890; \tML change (error):     0.000; \tSigma^2:     0.001; \tSigma^2 change:    -0.000\n",
      "[=============================                                           ]\n",
      "Iteration:122\n",
      "ML:-11110.890; \tML change (error):     0.000; \tSigma^2:     0.001; \tSigma^2 change:    -0.000\n",
      "[=============================                                           ]\n",
      "Iteration:123\n",
      "ML:-11110.890; \tML change (error):     0.000; \tSigma^2:     0.001; \tSigma^2 change:    -0.000\n",
      "[=============================                                           ]\n",
      "Iteration:124\n",
      "ML:-11110.890; \tML change (error):     0.000; \tSigma^2:     0.001; \tSigma^2 change:    -0.000\n",
      "[=============================                                           ]\n",
      "Iteration:125\n",
      "ML:-11110.890; \tML change (error):     0.000; \tSigma^2:     0.001; \tSigma^2 change:    -0.000\n",
      "[==============================                                          ]\n",
      "Iteration:126\n",
      "ML:-11110.890; \tML change (error):     0.000; \tSigma^2:     0.001; \tSigma^2 change:    -0.000\n",
      "[==============================                                          ]\n",
      "Iteration:127\n",
      "ML:-11110.890; \tML change (error):     0.000; \tSigma^2:     0.001; \tSigma^2 change:    -0.000\n",
      "[==============================                                          ]\n",
      "Iteration:128\n",
      "ML:-11110.890; \tML change (error):     0.000; \tSigma^2:     0.001; \tSigma^2 change:    -0.000\n",
      "[==============================                                          ]\n",
      "Iteration:129\n",
      "ML:-11110.890; \tML change (error):     0.000; \tSigma^2:     0.001; \tSigma^2 change:    -0.000\n",
      "[==============================                                          ]\n",
      "Iteration:130\n",
      "ML:-11110.890; \tML change (error):     0.000; \tSigma^2:     0.001; \tSigma^2 change:    -0.000\n",
      "[===============================                                         ]\n",
      "Iteration:131\n",
      "ML:-11110.890; \tML change (error):     0.000; \tSigma^2:     0.001; \tSigma^2 change:    -0.000\n",
      "[===============================                                         ]\n",
      "Iteration:132\n",
      "ML:-11110.890; \tML change (error):     0.000; \tSigma^2:     0.001; \tSigma^2 change:    -0.000\n",
      "[===============================                                         ]\n",
      "Iteration:133\n",
      "ML:-11110.890; \tML change (error):     0.000; \tSigma^2:     0.001; \tSigma^2 change:    -0.000\n",
      "[===============================                                         ]\n",
      "Iteration:134\n",
      "ML:-11110.890; \tML change (error):     0.000; \tSigma^2:     0.001; \tSigma^2 change:    -0.000\n",
      "[================================                                        ]\n",
      "Iteration:135\n",
      "ML:-11110.890; \tML change (error):     0.000; \tSigma^2:     0.001; \tSigma^2 change:    -0.000\n",
      "[================================                                        ]\n",
      "Iteration:136\n",
      "ML:-11110.890; \tML change (error):     0.000; \tSigma^2:     0.001; \tSigma^2 change:    -0.000\n",
      "[================================                                        ]\n",
      "Iteration:137\n",
      "ML:-11110.890; \tML change (error):     0.000; \tSigma^2:     0.001; \tSigma^2 change:    -0.000\n",
      "[================================                                        ]\n",
      "Iteration:138\n",
      "ML:-11110.890; \tML change (error):     0.000; \tSigma^2:     0.001; \tSigma^2 change:    -0.000\n",
      "[=================================                                       ]\n",
      "Iteration:139\n",
      "ML:-11110.890; \tML change (error):     0.000; \tSigma^2:     0.001; \tSigma^2 change:    -0.000\n",
      "[=================================                                       ]\n",
      "Iteration:140\n",
      "ML:-11110.890; \tML change (error):     0.000; \tSigma^2:     0.001; \tSigma^2 change:    -0.000\n",
      "[=================================                                       ]\n",
      "Iteration:141\n",
      "ML:-11110.890; \tML change (error):     0.000; \tSigma^2:     0.001; \tSigma^2 change:    -0.000\n",
      "[=================================                                       ]\n",
      "Iteration:142\n",
      "ML:-11110.890; \tML change (error):     0.000; \tSigma^2:     0.001; \tSigma^2 change:    -0.000\n",
      "[==================================                                      ]\n",
      "Iteration:143\n",
      "ML:-11110.890; \tML change (error):     0.000; \tSigma^2:     0.001; \tSigma^2 change:    -0.000\n",
      "[==================================                                      ]\n"
     ]
    },
    {
     "name": "stdout",
     "output_type": "stream",
     "text": [
      "Iteration:144\n",
      "ML:-11110.890; \tML change (error):     0.000; \tSigma^2:     0.001; \tSigma^2 change:    -0.000\n",
      "[==================================                                      ]\n",
      "Iteration:145\n",
      "ML:-11110.890; \tML change (error):     0.000; \tSigma^2:     0.001; \tSigma^2 change:    -0.000\n",
      "[==================================                                      ]\n",
      "Iteration:146\n",
      "ML:-11110.890; \tML change (error):     0.000; \tSigma^2:     0.001; \tSigma^2 change:    -0.000\n",
      "[===================================                                     ]\n",
      "Iteration:147\n",
      "ML:-11110.890; \tML change (error):     0.000; \tSigma^2:     0.001; \tSigma^2 change:    -0.000\n",
      "[===================================                                     ]\n",
      "Iteration:148\n",
      "ML:-11110.890; \tML change (error):     0.000; \tSigma^2:     0.001; \tSigma^2 change:    -0.000\n",
      "[===================================                                     ]\n",
      "Iteration:149\n",
      "ML:-11110.890; \tML change (error):     0.000; \tSigma^2:     0.001; \tSigma^2 change:    -0.000\n",
      "[===================================                                     ]\n",
      "Iteration:150\n",
      "ML:-11110.890; \tML change (error):     0.000; \tSigma^2:     0.001; \tSigma^2 change:    -0.000\n",
      "[====================================                                    ]\n",
      "Iteration:151\n",
      "ML:-11110.890; \tML change (error):     0.000; \tSigma^2:     0.001; \tSigma^2 change:    -0.000\n",
      "[====================================                                    ]\n",
      "Iteration:152\n",
      "ML:-11110.890; \tML change (error):     0.000; \tSigma^2:     0.001; \tSigma^2 change:    -0.000\n",
      "[====================================                                    ]\n",
      "Iteration:153\n",
      "ML:-11110.890; \tML change (error):     0.000; \tSigma^2:     0.001; \tSigma^2 change:    -0.000\n",
      "[====================================                                    ]\n",
      "Iteration:154\n",
      "ML:-11110.890; \tML change (error):     0.000; \tSigma^2:     0.001; \tSigma^2 change:    -0.000\n",
      "[====================================                                    ]\n",
      "Iteration:155\n",
      "ML:-11110.890; \tML change (error):     0.000; \tSigma^2:     0.001; \tSigma^2 change:    -0.000\n",
      "[=====================================                                   ]\n",
      "Iteration:156\n",
      "ML:-11110.890; \tML change (error):     0.000; \tSigma^2:     0.001; \tSigma^2 change:    -0.000\n",
      "[=====================================                                   ]\n",
      "Iteration:157\n",
      "ML:-11110.890; \tML change (error):     0.000; \tSigma^2:     0.001; \tSigma^2 change:    -0.000\n",
      "[=====================================                                   ]\n",
      "Iteration:158\n",
      "ML:-11110.890; \tML change (error):     0.000; \tSigma^2:     0.001; \tSigma^2 change:    -0.000\n",
      "[=====================================                                   ]\n",
      "Iteration:159\n",
      "ML:-11110.890; \tML change (error):     0.000; \tSigma^2:     0.001; \tSigma^2 change:    -0.000\n",
      "[======================================                                  ]\n",
      "Iteration:160\n",
      "ML:-11110.890; \tML change (error):     0.000; \tSigma^2:     0.001; \tSigma^2 change:    -0.000\n",
      "[======================================                                  ]\n",
      "Iteration:161\n",
      "ML:-11110.890; \tML change (error):     0.000; \tSigma^2:     0.001; \tSigma^2 change:    -0.000\n",
      "[======================================                                  ]\n",
      "Iteration:162\n",
      "ML:-11110.890; \tML change (error):     0.000; \tSigma^2:     0.001; \tSigma^2 change:    -0.000\n",
      "[======================================                                  ]\n",
      "Iteration:163\n",
      "ML:-11110.890; \tML change (error):     0.000; \tSigma^2:     0.001; \tSigma^2 change:    -0.000\n",
      "[=======================================                                 ]\n",
      "Iteration:164\n",
      "ML:-11110.890; \tML change (error):     0.000; \tSigma^2:     0.001; \tSigma^2 change:    -0.000\n",
      "[=======================================                                 ]\n",
      "Iteration:165\n",
      "ML:-11110.890; \tML change (error):     0.000; \tSigma^2:     0.001; \tSigma^2 change:    -0.000\n",
      "[=======================================                                 ]\n",
      "Iteration:166\n",
      "ML:-11110.890; \tML change (error):     0.000; \tSigma^2:     0.001; \tSigma^2 change:    -0.000\n",
      "[=======================================                                 ]\n",
      "Iteration:167\n",
      "ML:-11110.890; \tML change (error):     0.000; \tSigma^2:     0.001; \tSigma^2 change:    -0.000\n",
      "[========================================                                ]\n",
      "Iteration:168\n",
      "ML:-11110.890; \tML change (error):     0.000; \tSigma^2:     0.001; \tSigma^2 change:    -0.000\n",
      "[========================================                                ]\n",
      "Iteration:169\n",
      "ML:-11110.890; \tML change (error):     0.000; \tSigma^2:     0.001; \tSigma^2 change:    -0.000\n",
      "[========================================                                ]\n",
      "Iteration:170\n",
      "ML:-11110.890; \tML change (error):     0.000; \tSigma^2:     0.001; \tSigma^2 change:    -0.000\n",
      "[========================================                                ]\n",
      "Iteration:171\n",
      "ML:-11110.890; \tML change (error):     0.000; \tSigma^2:     0.001; \tSigma^2 change:    -0.000\n",
      "[=========================================                               ]\n",
      "Iteration:172\n",
      "ML:-11110.890; \tML change (error):     0.000; \tSigma^2:     0.001; \tSigma^2 change:    -0.000\n",
      "[=========================================                               ]\n",
      "Iteration:173\n",
      "ML:-11110.890; \tML change (error):     0.000; \tSigma^2:     0.001; \tSigma^2 change:    -0.000\n",
      "[=========================================                               ]\n",
      "Iteration:174\n",
      "ML:-11110.890; \tML change (error):     0.000; \tSigma^2:     0.001; \tSigma^2 change:    -0.000\n",
      "[=========================================                               ]\n",
      "Iteration:175\n",
      "ML:-11110.890; \tML change (error):     0.000; \tSigma^2:     0.001; \tSigma^2 change:    -0.000\n",
      "[==========================================                              ]\n",
      "Iteration:176\n",
      "ML:-11110.890; \tML change (error):     0.000; \tSigma^2:     0.001; \tSigma^2 change:    -0.000\n",
      "[==========================================                              ]\n",
      "Iteration:177\n",
      "ML:-11110.890; \tML change (error):     0.000; \tSigma^2:     0.001; \tSigma^2 change:    -0.000\n",
      "[==========================================                              ]\n",
      "Iteration:178\n",
      "ML:-11110.890; \tML change (error):     0.000; \tSigma^2:     0.001; \tSigma^2 change:    -0.000\n",
      "[==========================================                              ]\n",
      "Iteration:179\n",
      "ML:-11110.890; \tML change (error):     0.000; \tSigma^2:     0.001; \tSigma^2 change:    -0.000\n",
      "[==========================================                              ]\n",
      "Iteration:180\n",
      "ML:-11110.890; \tML change (error):     0.000; \tSigma^2:     0.001; \tSigma^2 change:    -0.000\n",
      "[===========================================                             ]\n",
      "Iteration:181\n",
      "ML:-11110.890; \tML change (error):     0.000; \tSigma^2:     0.001; \tSigma^2 change:    -0.000\n",
      "[===========================================                             ]\n",
      "Iteration:182\n",
      "ML:-11110.890; \tML change (error):     0.000; \tSigma^2:     0.001; \tSigma^2 change:    -0.000\n",
      "[===========================================                             ]\n",
      "Iteration:183\n",
      "ML:-11110.890; \tML change (error):     0.000; \tSigma^2:     0.001; \tSigma^2 change:    -0.000\n",
      "[===========================================                             ]\n",
      "========================================================================\n",
      "Registration Performance Metrics\n",
      "========================================================================\n",
      "Time to initialize EM: 0.006491184234619141\n",
      "Time to initialize registration: 0.27175402641296387\n",
      "Average Expectation Time:                    0.0351 +/- 0.0027\n",
      "Average Maximization Time:                   0.0052 +/- 0.0016\n",
      "Maximization Times - Per individual step\n",
      "Average Update Transform Time:               0.0050 +/- 0.0014\n",
      "Average Transform Time:                      0.0001 +/- 0.0002\n",
      "Average Update Variance Time:                0.0001 +/- 0.0000\n",
      "\n",
      "Number of iterations performed:          183\n",
      "Error at time of finish:                 2.8176145860925317e-09\n",
      "time to get cdist: 0.2198951244354248\n",
      "time to linear sum assignment: 6.614378929138184\n",
      "Number of unique correspondences: 5000\n",
      "Number of unique correspondences after smoothing: 4720\n"
     ]
    }
   ],
   "source": [
    "reg.align_maps()"
   ]
  },
  {
   "cell_type": "markdown",
   "metadata": {},
   "source": [
    "## View the spectral coordinates"
   ]
  },
  {
   "cell_type": "code",
   "execution_count": 8,
   "metadata": {},
   "outputs": [
    {
     "name": "stdout",
     "output_type": "stream",
     "text": [
      "After registration, the range of coordinate values for:\n",
      " Source coordinates:\n",
      "[1. 1. 1.]\n",
      " Target coordinates are: \n",
      "[1.00652098 0.97755243 1.00733011]\n"
     ]
    }
   ],
   "source": [
    "print('After registration, the range of coordinate values for:\\n Source coordinates:\\n'\n",
    "      '{}\\n Target coordinates are: \\n{}'.format(np.ptp(reg.source_spectral_coords, axis=0),\n",
    "                                                         np.ptp(reg.target_spectral_coords, axis=0)))\n"
   ]
  },
  {
   "cell_type": "markdown",
   "metadata": {},
   "source": [
    "The range of the source are 1.0 because we scaled them to be this. The target are slightly different because they have moved while registering to source coordinates. "
   ]
  },
  {
   "cell_type": "code",
   "execution_count": 9,
   "metadata": {
    "scrolled": false
   },
   "outputs": [
    {
     "data": {
      "application/vnd.jupyter.widget-view+json": {
       "model_id": "615e7d796ded4766bb4fd56bf1706320",
       "version_major": 2,
       "version_minor": 0
      },
      "text/plain": [
       "Viewer(point_set_colors=array([[0.12156863, 0.46666667, 0.7058824 ],\n",
       "       [1.        , 0.49803922, 0.0549019…"
      ]
     },
     "metadata": {},
     "output_type": "display_data"
    }
   ],
   "source": [
    "reg.view_aligned_spectral_coords(starting_spectral_coord=0,\n",
    "                                 include_target_coordinates=True,\n",
    "                                 include_non_rigid_aligned=True,\n",
    "                                 include_rigid_aligned=False,\n",
    "                                 include_unaligned=False,\n",
    "                                 point_set_colors=None)"
   ]
  },
  {
   "cell_type": "markdown",
   "metadata": {},
   "source": [
    "Above is a 3D view of the spectral (or other) coordinates used for registration. The starting idx for coords can be changed by changing starting_spectral_coord (depending on number of coordinates/features used to register meshes). "
   ]
  },
  {
   "cell_type": "code",
   "execution_count": 10,
   "metadata": {},
   "outputs": [
    {
     "data": {
      "application/vnd.jupyter.widget-view+json": {
       "model_id": "39d1b966ca384f8abd087669ac348a0f",
       "version_major": 2,
       "version_minor": 0
      },
      "text/plain": [
       "Viewer(geometries=[{'vtkClass': 'vtkPolyData', 'points': {'vtkClass': 'vtkPoints', 'name': '_points', 'numberO…"
      ]
     },
     "metadata": {},
     "output_type": "display_data"
    }
   ],
   "source": [
    "reg.view_meshes_colored_by_spectral_correspondences()"
   ]
  },
  {
   "cell_type": "markdown",
   "metadata": {},
   "source": [
    "Above is the source mesh (geometry 0) and the target mesh (geometry 1). Target is coloured sequentially (0 to n_points). Source is colored according to the target idx that each source point was registered to. Therefore, colours from the target should be in anatomically the same location as the corresponding colour on the source mesh. <br>\n",
    "\n",
    "Pink is at the same point in the range of values for both meshes. So, it's alignment between them helps affirm the good registration. "
   ]
  },
  {
   "cell_type": "code",
   "execution_count": 11,
   "metadata": {},
   "outputs": [
    {
     "data": {
      "application/vnd.jupyter.widget-view+json": {
       "model_id": "c64704a083b14fab9e53022e915366cb",
       "version_major": 2,
       "version_minor": 0
      },
      "text/plain": [
       "Viewer(point_set_colors=array([[0.12156863, 0.46666667, 0.7058824 ],\n",
       "       [1.        , 0.49803922, 0.0549019…"
      ]
     },
     "metadata": {},
     "output_type": "display_data"
    }
   ],
   "source": [
    "reg.view_aligned_smoothed_spectral_coords()"
   ]
  },
  {
   "cell_type": "markdown",
   "metadata": {},
   "source": [
    "In the above: \n",
    "- Orange is the smoothed target points using their graph. \n",
    "- Blue is the source coordinates projected onto the target points."
   ]
  },
  {
   "cell_type": "code",
   "execution_count": 12,
   "metadata": {},
   "outputs": [],
   "source": [
    "# reg.get_source_mesh_transformed_weighted_avg()\n",
    "# reg.\n",
    "reg.set_all_mesh_scalars_to_corresp_target_idx()"
   ]
  },
  {
   "cell_type": "markdown",
   "metadata": {},
   "source": [
    "Above will create new mesh where the source mesh points are transformed to their single best fitting/closest point on the target mesh. This will likely result in \"doubles\". The next set of commands averages these positions to the 3 closest points on target to better diffuse them. "
   ]
  },
  {
   "cell_type": "code",
   "execution_count": 13,
   "metadata": {},
   "outputs": [],
   "source": [
    "reg.get_average_shape()"
   ]
  },
  {
   "cell_type": "markdown",
   "metadata": {},
   "source": [
    "Above will create a new mesh that is the average of the two meshes. "
   ]
  },
  {
   "cell_type": "code",
   "execution_count": 14,
   "metadata": {},
   "outputs": [
    {
     "data": {
      "application/vnd.jupyter.widget-view+json": {
       "model_id": "b3c2a77eec984e4ba332001e2f5ad868",
       "version_major": 2,
       "version_minor": 0
      },
      "text/plain": [
       "Viewer(geometries=[{'vtkClass': 'vtkPolyData', 'points': {'vtkClass': 'vtkPoints', 'name': '_points', 'numberO…"
      ]
     },
     "metadata": {},
     "output_type": "display_data"
    }
   ],
   "source": [
    "reg.view_meshes(include_target=True,\n",
    "                include_source=True,\n",
    "                include_transformed_target=True,\n",
    "                include_average=True\n",
    "                )"
   ]
  },
  {
   "cell_type": "markdown",
   "metadata": {},
   "source": [
    "Above is overlapping visualization of the four meshes: \n",
    "- Original Target\n",
    "- Original Source\n",
    "- Transformed Source (to target surface). \n",
    "- Average mesh\n",
    "\n",
    "Possible to turn each one off/on, turn to wire mesh, change transparency, and change colours. "
   ]
  },
  {
   "cell_type": "markdown",
   "metadata": {},
   "source": [
    "### Getting Results: \n",
    "- After viewing/analyziny results, we can prob the `reg` object to get various results"
   ]
  },
  {
   "cell_type": "code",
   "execution_count": 15,
   "metadata": {},
   "outputs": [],
   "source": [
    "target_id_per_source = reg.corresponding_target_idx_for_each_source_pt\n",
    "transformed_source_nn_xyzs = reg.nearest_neighbor_transformed_points\n",
    "transformed_source_avg_xyzs = reg.weighted_avg_transformed_points\n",
    "transformed_source_avg_mesh = reg.get_source_mesh_transformed_weighted_avg\n",
    "transformed_source_nn_mesh = reg.get_source_mesh_transformed_nearest_neighbour\n",
    "average_mesh = reg.average_mesh"
   ]
  },
  {
   "cell_type": "markdown",
   "metadata": {},
   "source": [
    "The above shows some of the key metrics/things that can be extracted. Not all will be always be available (depending on what settings were set). \n",
    "\n",
    "`target_id_per_source`:           The target mesh cell/node index that corresponds with each source mesh cell/node<br>\n",
    "\n",
    "`transformed_source_nn_xyzs`:     The transformed xyz positions for each source node to make it aligned with the target mesh while preserving correct anatomical alignment & *using the nearest neighbor for final alignment*.<br>\n",
    "\n",
    "`transformed_source_avg_xyzs`:    The transformed xyz positions for each source node to make it aligned with the target mesh while preserving correct anatomical alignment & *using the weighted average alignment method*.<br>\n",
    "\n",
    "`transformed_source_nn_mesh`:     New mesh with nodes transformed using `transformed_source_nn_xyzs`<br>\n",
    "\n",
    "`transformed_source_avg_mesh`:    New mesh with nodes transformed using `transformed_source_avg_xyzs`<br>\n",
    "\n",
    "`average_mesh`:                   New mesh calculated as average of `transformed_source_nn_mesh` & `transformed_source_avg_mesh`\n"
   ]
  }
 ],
 "metadata": {
  "kernelspec": {
   "display_name": "Python 3",
   "language": "python",
   "name": "python3"
  },
  "language_info": {
   "codemirror_mode": {
    "name": "ipython",
    "version": 3
   },
   "file_extension": ".py",
   "mimetype": "text/x-python",
   "name": "python",
   "nbconvert_exporter": "python",
   "pygments_lexer": "ipython3",
   "version": "3.7.6"
  }
 },
 "nbformat": 4,
 "nbformat_minor": 4
}
